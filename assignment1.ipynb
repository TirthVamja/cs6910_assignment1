{
  "nbformat": 4,
  "nbformat_minor": 0,
  "metadata": {
    "colab": {
      "provenance": [],
      "authorship_tag": "ABX9TyNdhPpcYcBH+I4MSmRzRaFE"
    },
    "kernelspec": {
      "name": "python3",
      "display_name": "Python 3"
    },
    "language_info": {
      "name": "python"
    },
    "widgets": {
      "application/vnd.jupyter.widget-state+json": {
        "cd5c669352214feda06a71fc5f69b08c": {
          "model_module": "@jupyter-widgets/controls",
          "model_name": "VBoxModel",
          "model_module_version": "1.5.0",
          "state": {
            "_dom_classes": [],
            "_model_module": "@jupyter-widgets/controls",
            "_model_module_version": "1.5.0",
            "_model_name": "VBoxModel",
            "_view_count": null,
            "_view_module": "@jupyter-widgets/controls",
            "_view_module_version": "1.5.0",
            "_view_name": "VBoxView",
            "box_style": "",
            "children": [
              "IPY_MODEL_a7f88144d4be4b0084f6cb1209316fee",
              "IPY_MODEL_c071cb06cb2f4004be699ced9b7ab5f2"
            ],
            "layout": "IPY_MODEL_033dcbd91e42414d96a97226dbebca80"
          }
        },
        "a7f88144d4be4b0084f6cb1209316fee": {
          "model_module": "@jupyter-widgets/controls",
          "model_name": "LabelModel",
          "model_module_version": "1.5.0",
          "state": {
            "_dom_classes": [],
            "_model_module": "@jupyter-widgets/controls",
            "_model_module_version": "1.5.0",
            "_model_name": "LabelModel",
            "_view_count": null,
            "_view_module": "@jupyter-widgets/controls",
            "_view_module_version": "1.5.0",
            "_view_name": "LabelView",
            "description": "",
            "description_tooltip": null,
            "layout": "IPY_MODEL_374a45ab4bac469298a634f9bd3be91c",
            "placeholder": "​",
            "style": "IPY_MODEL_b3db9c7f6f1642198dd11b0c9604b8f3",
            "value": "0.012 MB of 0.012 MB uploaded\r"
          }
        },
        "c071cb06cb2f4004be699ced9b7ab5f2": {
          "model_module": "@jupyter-widgets/controls",
          "model_name": "FloatProgressModel",
          "model_module_version": "1.5.0",
          "state": {
            "_dom_classes": [],
            "_model_module": "@jupyter-widgets/controls",
            "_model_module_version": "1.5.0",
            "_model_name": "FloatProgressModel",
            "_view_count": null,
            "_view_module": "@jupyter-widgets/controls",
            "_view_module_version": "1.5.0",
            "_view_name": "ProgressView",
            "bar_style": "",
            "description": "",
            "description_tooltip": null,
            "layout": "IPY_MODEL_1129d7b102b5476fac025238006dcc03",
            "max": 1,
            "min": 0,
            "orientation": "horizontal",
            "style": "IPY_MODEL_61237bd3454c457cba90c491b4755987",
            "value": 1
          }
        },
        "033dcbd91e42414d96a97226dbebca80": {
          "model_module": "@jupyter-widgets/base",
          "model_name": "LayoutModel",
          "model_module_version": "1.2.0",
          "state": {
            "_model_module": "@jupyter-widgets/base",
            "_model_module_version": "1.2.0",
            "_model_name": "LayoutModel",
            "_view_count": null,
            "_view_module": "@jupyter-widgets/base",
            "_view_module_version": "1.2.0",
            "_view_name": "LayoutView",
            "align_content": null,
            "align_items": null,
            "align_self": null,
            "border": null,
            "bottom": null,
            "display": null,
            "flex": null,
            "flex_flow": null,
            "grid_area": null,
            "grid_auto_columns": null,
            "grid_auto_flow": null,
            "grid_auto_rows": null,
            "grid_column": null,
            "grid_gap": null,
            "grid_row": null,
            "grid_template_areas": null,
            "grid_template_columns": null,
            "grid_template_rows": null,
            "height": null,
            "justify_content": null,
            "justify_items": null,
            "left": null,
            "margin": null,
            "max_height": null,
            "max_width": null,
            "min_height": null,
            "min_width": null,
            "object_fit": null,
            "object_position": null,
            "order": null,
            "overflow": null,
            "overflow_x": null,
            "overflow_y": null,
            "padding": null,
            "right": null,
            "top": null,
            "visibility": null,
            "width": null
          }
        },
        "374a45ab4bac469298a634f9bd3be91c": {
          "model_module": "@jupyter-widgets/base",
          "model_name": "LayoutModel",
          "model_module_version": "1.2.0",
          "state": {
            "_model_module": "@jupyter-widgets/base",
            "_model_module_version": "1.2.0",
            "_model_name": "LayoutModel",
            "_view_count": null,
            "_view_module": "@jupyter-widgets/base",
            "_view_module_version": "1.2.0",
            "_view_name": "LayoutView",
            "align_content": null,
            "align_items": null,
            "align_self": null,
            "border": null,
            "bottom": null,
            "display": null,
            "flex": null,
            "flex_flow": null,
            "grid_area": null,
            "grid_auto_columns": null,
            "grid_auto_flow": null,
            "grid_auto_rows": null,
            "grid_column": null,
            "grid_gap": null,
            "grid_row": null,
            "grid_template_areas": null,
            "grid_template_columns": null,
            "grid_template_rows": null,
            "height": null,
            "justify_content": null,
            "justify_items": null,
            "left": null,
            "margin": null,
            "max_height": null,
            "max_width": null,
            "min_height": null,
            "min_width": null,
            "object_fit": null,
            "object_position": null,
            "order": null,
            "overflow": null,
            "overflow_x": null,
            "overflow_y": null,
            "padding": null,
            "right": null,
            "top": null,
            "visibility": null,
            "width": null
          }
        },
        "b3db9c7f6f1642198dd11b0c9604b8f3": {
          "model_module": "@jupyter-widgets/controls",
          "model_name": "DescriptionStyleModel",
          "model_module_version": "1.5.0",
          "state": {
            "_model_module": "@jupyter-widgets/controls",
            "_model_module_version": "1.5.0",
            "_model_name": "DescriptionStyleModel",
            "_view_count": null,
            "_view_module": "@jupyter-widgets/base",
            "_view_module_version": "1.2.0",
            "_view_name": "StyleView",
            "description_width": ""
          }
        },
        "1129d7b102b5476fac025238006dcc03": {
          "model_module": "@jupyter-widgets/base",
          "model_name": "LayoutModel",
          "model_module_version": "1.2.0",
          "state": {
            "_model_module": "@jupyter-widgets/base",
            "_model_module_version": "1.2.0",
            "_model_name": "LayoutModel",
            "_view_count": null,
            "_view_module": "@jupyter-widgets/base",
            "_view_module_version": "1.2.0",
            "_view_name": "LayoutView",
            "align_content": null,
            "align_items": null,
            "align_self": null,
            "border": null,
            "bottom": null,
            "display": null,
            "flex": null,
            "flex_flow": null,
            "grid_area": null,
            "grid_auto_columns": null,
            "grid_auto_flow": null,
            "grid_auto_rows": null,
            "grid_column": null,
            "grid_gap": null,
            "grid_row": null,
            "grid_template_areas": null,
            "grid_template_columns": null,
            "grid_template_rows": null,
            "height": null,
            "justify_content": null,
            "justify_items": null,
            "left": null,
            "margin": null,
            "max_height": null,
            "max_width": null,
            "min_height": null,
            "min_width": null,
            "object_fit": null,
            "object_position": null,
            "order": null,
            "overflow": null,
            "overflow_x": null,
            "overflow_y": null,
            "padding": null,
            "right": null,
            "top": null,
            "visibility": null,
            "width": null
          }
        },
        "61237bd3454c457cba90c491b4755987": {
          "model_module": "@jupyter-widgets/controls",
          "model_name": "ProgressStyleModel",
          "model_module_version": "1.5.0",
          "state": {
            "_model_module": "@jupyter-widgets/controls",
            "_model_module_version": "1.5.0",
            "_model_name": "ProgressStyleModel",
            "_view_count": null,
            "_view_module": "@jupyter-widgets/base",
            "_view_module_version": "1.2.0",
            "_view_name": "StyleView",
            "bar_color": null,
            "description_width": ""
          }
        },
        "5743b57b9d8a4815b336d2255663c104": {
          "model_module": "@jupyter-widgets/controls",
          "model_name": "VBoxModel",
          "model_module_version": "1.5.0",
          "state": {
            "_dom_classes": [],
            "_model_module": "@jupyter-widgets/controls",
            "_model_module_version": "1.5.0",
            "_model_name": "VBoxModel",
            "_view_count": null,
            "_view_module": "@jupyter-widgets/controls",
            "_view_module_version": "1.5.0",
            "_view_name": "VBoxView",
            "box_style": "",
            "children": [
              "IPY_MODEL_0f130329086f40ba8fa94c3b271e1f4c",
              "IPY_MODEL_56d2478135894395a961b7501fdb785f"
            ],
            "layout": "IPY_MODEL_1e17cf93ee2f44a6a2639a7d9c8d175b"
          }
        },
        "0f130329086f40ba8fa94c3b271e1f4c": {
          "model_module": "@jupyter-widgets/controls",
          "model_name": "LabelModel",
          "model_module_version": "1.5.0",
          "state": {
            "_dom_classes": [],
            "_model_module": "@jupyter-widgets/controls",
            "_model_module_version": "1.5.0",
            "_model_name": "LabelModel",
            "_view_count": null,
            "_view_module": "@jupyter-widgets/controls",
            "_view_module_version": "1.5.0",
            "_view_name": "LabelView",
            "description": "",
            "description_tooltip": null,
            "layout": "IPY_MODEL_96802c5311fd4512b7606907f28d87d8",
            "placeholder": "​",
            "style": "IPY_MODEL_e9f5dfe53d164c0dbd35239f0dc17211",
            "value": "0.012 MB of 0.012 MB uploaded\r"
          }
        },
        "56d2478135894395a961b7501fdb785f": {
          "model_module": "@jupyter-widgets/controls",
          "model_name": "FloatProgressModel",
          "model_module_version": "1.5.0",
          "state": {
            "_dom_classes": [],
            "_model_module": "@jupyter-widgets/controls",
            "_model_module_version": "1.5.0",
            "_model_name": "FloatProgressModel",
            "_view_count": null,
            "_view_module": "@jupyter-widgets/controls",
            "_view_module_version": "1.5.0",
            "_view_name": "ProgressView",
            "bar_style": "",
            "description": "",
            "description_tooltip": null,
            "layout": "IPY_MODEL_d19cb432295841e18f9b1b577342e2fc",
            "max": 1,
            "min": 0,
            "orientation": "horizontal",
            "style": "IPY_MODEL_755c5a2046bd41d78ff7357fb902dc9b",
            "value": 1
          }
        },
        "1e17cf93ee2f44a6a2639a7d9c8d175b": {
          "model_module": "@jupyter-widgets/base",
          "model_name": "LayoutModel",
          "model_module_version": "1.2.0",
          "state": {
            "_model_module": "@jupyter-widgets/base",
            "_model_module_version": "1.2.0",
            "_model_name": "LayoutModel",
            "_view_count": null,
            "_view_module": "@jupyter-widgets/base",
            "_view_module_version": "1.2.0",
            "_view_name": "LayoutView",
            "align_content": null,
            "align_items": null,
            "align_self": null,
            "border": null,
            "bottom": null,
            "display": null,
            "flex": null,
            "flex_flow": null,
            "grid_area": null,
            "grid_auto_columns": null,
            "grid_auto_flow": null,
            "grid_auto_rows": null,
            "grid_column": null,
            "grid_gap": null,
            "grid_row": null,
            "grid_template_areas": null,
            "grid_template_columns": null,
            "grid_template_rows": null,
            "height": null,
            "justify_content": null,
            "justify_items": null,
            "left": null,
            "margin": null,
            "max_height": null,
            "max_width": null,
            "min_height": null,
            "min_width": null,
            "object_fit": null,
            "object_position": null,
            "order": null,
            "overflow": null,
            "overflow_x": null,
            "overflow_y": null,
            "padding": null,
            "right": null,
            "top": null,
            "visibility": null,
            "width": null
          }
        },
        "96802c5311fd4512b7606907f28d87d8": {
          "model_module": "@jupyter-widgets/base",
          "model_name": "LayoutModel",
          "model_module_version": "1.2.0",
          "state": {
            "_model_module": "@jupyter-widgets/base",
            "_model_module_version": "1.2.0",
            "_model_name": "LayoutModel",
            "_view_count": null,
            "_view_module": "@jupyter-widgets/base",
            "_view_module_version": "1.2.0",
            "_view_name": "LayoutView",
            "align_content": null,
            "align_items": null,
            "align_self": null,
            "border": null,
            "bottom": null,
            "display": null,
            "flex": null,
            "flex_flow": null,
            "grid_area": null,
            "grid_auto_columns": null,
            "grid_auto_flow": null,
            "grid_auto_rows": null,
            "grid_column": null,
            "grid_gap": null,
            "grid_row": null,
            "grid_template_areas": null,
            "grid_template_columns": null,
            "grid_template_rows": null,
            "height": null,
            "justify_content": null,
            "justify_items": null,
            "left": null,
            "margin": null,
            "max_height": null,
            "max_width": null,
            "min_height": null,
            "min_width": null,
            "object_fit": null,
            "object_position": null,
            "order": null,
            "overflow": null,
            "overflow_x": null,
            "overflow_y": null,
            "padding": null,
            "right": null,
            "top": null,
            "visibility": null,
            "width": null
          }
        },
        "e9f5dfe53d164c0dbd35239f0dc17211": {
          "model_module": "@jupyter-widgets/controls",
          "model_name": "DescriptionStyleModel",
          "model_module_version": "1.5.0",
          "state": {
            "_model_module": "@jupyter-widgets/controls",
            "_model_module_version": "1.5.0",
            "_model_name": "DescriptionStyleModel",
            "_view_count": null,
            "_view_module": "@jupyter-widgets/base",
            "_view_module_version": "1.2.0",
            "_view_name": "StyleView",
            "description_width": ""
          }
        },
        "d19cb432295841e18f9b1b577342e2fc": {
          "model_module": "@jupyter-widgets/base",
          "model_name": "LayoutModel",
          "model_module_version": "1.2.0",
          "state": {
            "_model_module": "@jupyter-widgets/base",
            "_model_module_version": "1.2.0",
            "_model_name": "LayoutModel",
            "_view_count": null,
            "_view_module": "@jupyter-widgets/base",
            "_view_module_version": "1.2.0",
            "_view_name": "LayoutView",
            "align_content": null,
            "align_items": null,
            "align_self": null,
            "border": null,
            "bottom": null,
            "display": null,
            "flex": null,
            "flex_flow": null,
            "grid_area": null,
            "grid_auto_columns": null,
            "grid_auto_flow": null,
            "grid_auto_rows": null,
            "grid_column": null,
            "grid_gap": null,
            "grid_row": null,
            "grid_template_areas": null,
            "grid_template_columns": null,
            "grid_template_rows": null,
            "height": null,
            "justify_content": null,
            "justify_items": null,
            "left": null,
            "margin": null,
            "max_height": null,
            "max_width": null,
            "min_height": null,
            "min_width": null,
            "object_fit": null,
            "object_position": null,
            "order": null,
            "overflow": null,
            "overflow_x": null,
            "overflow_y": null,
            "padding": null,
            "right": null,
            "top": null,
            "visibility": null,
            "width": null
          }
        },
        "755c5a2046bd41d78ff7357fb902dc9b": {
          "model_module": "@jupyter-widgets/controls",
          "model_name": "ProgressStyleModel",
          "model_module_version": "1.5.0",
          "state": {
            "_model_module": "@jupyter-widgets/controls",
            "_model_module_version": "1.5.0",
            "_model_name": "ProgressStyleModel",
            "_view_count": null,
            "_view_module": "@jupyter-widgets/base",
            "_view_module_version": "1.2.0",
            "_view_name": "StyleView",
            "bar_color": null,
            "description_width": ""
          }
        },
        "9e1f7171be134182a36791401a646c36": {
          "model_module": "@jupyter-widgets/controls",
          "model_name": "VBoxModel",
          "model_module_version": "1.5.0",
          "state": {
            "_dom_classes": [],
            "_model_module": "@jupyter-widgets/controls",
            "_model_module_version": "1.5.0",
            "_model_name": "VBoxModel",
            "_view_count": null,
            "_view_module": "@jupyter-widgets/controls",
            "_view_module_version": "1.5.0",
            "_view_name": "VBoxView",
            "box_style": "",
            "children": [
              "IPY_MODEL_2c4a4a2caf424e6b93aaa565bcd1a342",
              "IPY_MODEL_a89da23900f8408b8e4973a956c050e2"
            ],
            "layout": "IPY_MODEL_76154e0f669442b2bf9b26e82726c763"
          }
        },
        "2c4a4a2caf424e6b93aaa565bcd1a342": {
          "model_module": "@jupyter-widgets/controls",
          "model_name": "LabelModel",
          "model_module_version": "1.5.0",
          "state": {
            "_dom_classes": [],
            "_model_module": "@jupyter-widgets/controls",
            "_model_module_version": "1.5.0",
            "_model_name": "LabelModel",
            "_view_count": null,
            "_view_module": "@jupyter-widgets/controls",
            "_view_module_version": "1.5.0",
            "_view_name": "LabelView",
            "description": "",
            "description_tooltip": null,
            "layout": "IPY_MODEL_b51855bfb6cf47b599e76195203d3aeb",
            "placeholder": "​",
            "style": "IPY_MODEL_0651523a51f44b7ebff97e8709d27383",
            "value": "0.012 MB of 0.012 MB uploaded\r"
          }
        },
        "a89da23900f8408b8e4973a956c050e2": {
          "model_module": "@jupyter-widgets/controls",
          "model_name": "FloatProgressModel",
          "model_module_version": "1.5.0",
          "state": {
            "_dom_classes": [],
            "_model_module": "@jupyter-widgets/controls",
            "_model_module_version": "1.5.0",
            "_model_name": "FloatProgressModel",
            "_view_count": null,
            "_view_module": "@jupyter-widgets/controls",
            "_view_module_version": "1.5.0",
            "_view_name": "ProgressView",
            "bar_style": "",
            "description": "",
            "description_tooltip": null,
            "layout": "IPY_MODEL_2e71084c341c4e828139e3844713c088",
            "max": 1,
            "min": 0,
            "orientation": "horizontal",
            "style": "IPY_MODEL_c917b850b6c04b2db31f9d63cb50a85f",
            "value": 1
          }
        },
        "76154e0f669442b2bf9b26e82726c763": {
          "model_module": "@jupyter-widgets/base",
          "model_name": "LayoutModel",
          "model_module_version": "1.2.0",
          "state": {
            "_model_module": "@jupyter-widgets/base",
            "_model_module_version": "1.2.0",
            "_model_name": "LayoutModel",
            "_view_count": null,
            "_view_module": "@jupyter-widgets/base",
            "_view_module_version": "1.2.0",
            "_view_name": "LayoutView",
            "align_content": null,
            "align_items": null,
            "align_self": null,
            "border": null,
            "bottom": null,
            "display": null,
            "flex": null,
            "flex_flow": null,
            "grid_area": null,
            "grid_auto_columns": null,
            "grid_auto_flow": null,
            "grid_auto_rows": null,
            "grid_column": null,
            "grid_gap": null,
            "grid_row": null,
            "grid_template_areas": null,
            "grid_template_columns": null,
            "grid_template_rows": null,
            "height": null,
            "justify_content": null,
            "justify_items": null,
            "left": null,
            "margin": null,
            "max_height": null,
            "max_width": null,
            "min_height": null,
            "min_width": null,
            "object_fit": null,
            "object_position": null,
            "order": null,
            "overflow": null,
            "overflow_x": null,
            "overflow_y": null,
            "padding": null,
            "right": null,
            "top": null,
            "visibility": null,
            "width": null
          }
        },
        "b51855bfb6cf47b599e76195203d3aeb": {
          "model_module": "@jupyter-widgets/base",
          "model_name": "LayoutModel",
          "model_module_version": "1.2.0",
          "state": {
            "_model_module": "@jupyter-widgets/base",
            "_model_module_version": "1.2.0",
            "_model_name": "LayoutModel",
            "_view_count": null,
            "_view_module": "@jupyter-widgets/base",
            "_view_module_version": "1.2.0",
            "_view_name": "LayoutView",
            "align_content": null,
            "align_items": null,
            "align_self": null,
            "border": null,
            "bottom": null,
            "display": null,
            "flex": null,
            "flex_flow": null,
            "grid_area": null,
            "grid_auto_columns": null,
            "grid_auto_flow": null,
            "grid_auto_rows": null,
            "grid_column": null,
            "grid_gap": null,
            "grid_row": null,
            "grid_template_areas": null,
            "grid_template_columns": null,
            "grid_template_rows": null,
            "height": null,
            "justify_content": null,
            "justify_items": null,
            "left": null,
            "margin": null,
            "max_height": null,
            "max_width": null,
            "min_height": null,
            "min_width": null,
            "object_fit": null,
            "object_position": null,
            "order": null,
            "overflow": null,
            "overflow_x": null,
            "overflow_y": null,
            "padding": null,
            "right": null,
            "top": null,
            "visibility": null,
            "width": null
          }
        },
        "0651523a51f44b7ebff97e8709d27383": {
          "model_module": "@jupyter-widgets/controls",
          "model_name": "DescriptionStyleModel",
          "model_module_version": "1.5.0",
          "state": {
            "_model_module": "@jupyter-widgets/controls",
            "_model_module_version": "1.5.0",
            "_model_name": "DescriptionStyleModel",
            "_view_count": null,
            "_view_module": "@jupyter-widgets/base",
            "_view_module_version": "1.2.0",
            "_view_name": "StyleView",
            "description_width": ""
          }
        },
        "2e71084c341c4e828139e3844713c088": {
          "model_module": "@jupyter-widgets/base",
          "model_name": "LayoutModel",
          "model_module_version": "1.2.0",
          "state": {
            "_model_module": "@jupyter-widgets/base",
            "_model_module_version": "1.2.0",
            "_model_name": "LayoutModel",
            "_view_count": null,
            "_view_module": "@jupyter-widgets/base",
            "_view_module_version": "1.2.0",
            "_view_name": "LayoutView",
            "align_content": null,
            "align_items": null,
            "align_self": null,
            "border": null,
            "bottom": null,
            "display": null,
            "flex": null,
            "flex_flow": null,
            "grid_area": null,
            "grid_auto_columns": null,
            "grid_auto_flow": null,
            "grid_auto_rows": null,
            "grid_column": null,
            "grid_gap": null,
            "grid_row": null,
            "grid_template_areas": null,
            "grid_template_columns": null,
            "grid_template_rows": null,
            "height": null,
            "justify_content": null,
            "justify_items": null,
            "left": null,
            "margin": null,
            "max_height": null,
            "max_width": null,
            "min_height": null,
            "min_width": null,
            "object_fit": null,
            "object_position": null,
            "order": null,
            "overflow": null,
            "overflow_x": null,
            "overflow_y": null,
            "padding": null,
            "right": null,
            "top": null,
            "visibility": null,
            "width": null
          }
        },
        "c917b850b6c04b2db31f9d63cb50a85f": {
          "model_module": "@jupyter-widgets/controls",
          "model_name": "ProgressStyleModel",
          "model_module_version": "1.5.0",
          "state": {
            "_model_module": "@jupyter-widgets/controls",
            "_model_module_version": "1.5.0",
            "_model_name": "ProgressStyleModel",
            "_view_count": null,
            "_view_module": "@jupyter-widgets/base",
            "_view_module_version": "1.2.0",
            "_view_name": "StyleView",
            "bar_color": null,
            "description_width": ""
          }
        },
        "aa5525dfb8a04ab9b905c5dba79c6d95": {
          "model_module": "@jupyter-widgets/controls",
          "model_name": "VBoxModel",
          "model_module_version": "1.5.0",
          "state": {
            "_dom_classes": [],
            "_model_module": "@jupyter-widgets/controls",
            "_model_module_version": "1.5.0",
            "_model_name": "VBoxModel",
            "_view_count": null,
            "_view_module": "@jupyter-widgets/controls",
            "_view_module_version": "1.5.0",
            "_view_name": "VBoxView",
            "box_style": "",
            "children": [
              "IPY_MODEL_5fad0e8e928546f6bd008850f0cc281e",
              "IPY_MODEL_5af564cd5fbe4f6a8ffad182c7e0ba65"
            ],
            "layout": "IPY_MODEL_f4ac1bfa1da543f5876ca5d485b212ab"
          }
        },
        "5fad0e8e928546f6bd008850f0cc281e": {
          "model_module": "@jupyter-widgets/controls",
          "model_name": "LabelModel",
          "model_module_version": "1.5.0",
          "state": {
            "_dom_classes": [],
            "_model_module": "@jupyter-widgets/controls",
            "_model_module_version": "1.5.0",
            "_model_name": "LabelModel",
            "_view_count": null,
            "_view_module": "@jupyter-widgets/controls",
            "_view_module_version": "1.5.0",
            "_view_name": "LabelView",
            "description": "",
            "description_tooltip": null,
            "layout": "IPY_MODEL_26633fdbb1484266a644b41b531e249f",
            "placeholder": "​",
            "style": "IPY_MODEL_c2fa5274c91747aeb3eb5bc9d0e0c64c",
            "value": "0.012 MB of 0.012 MB uploaded\r"
          }
        },
        "5af564cd5fbe4f6a8ffad182c7e0ba65": {
          "model_module": "@jupyter-widgets/controls",
          "model_name": "FloatProgressModel",
          "model_module_version": "1.5.0",
          "state": {
            "_dom_classes": [],
            "_model_module": "@jupyter-widgets/controls",
            "_model_module_version": "1.5.0",
            "_model_name": "FloatProgressModel",
            "_view_count": null,
            "_view_module": "@jupyter-widgets/controls",
            "_view_module_version": "1.5.0",
            "_view_name": "ProgressView",
            "bar_style": "",
            "description": "",
            "description_tooltip": null,
            "layout": "IPY_MODEL_527ea010db934200b001f64366c2f20d",
            "max": 1,
            "min": 0,
            "orientation": "horizontal",
            "style": "IPY_MODEL_8a8ee28227a54f94af447314cf251535",
            "value": 1
          }
        },
        "f4ac1bfa1da543f5876ca5d485b212ab": {
          "model_module": "@jupyter-widgets/base",
          "model_name": "LayoutModel",
          "model_module_version": "1.2.0",
          "state": {
            "_model_module": "@jupyter-widgets/base",
            "_model_module_version": "1.2.0",
            "_model_name": "LayoutModel",
            "_view_count": null,
            "_view_module": "@jupyter-widgets/base",
            "_view_module_version": "1.2.0",
            "_view_name": "LayoutView",
            "align_content": null,
            "align_items": null,
            "align_self": null,
            "border": null,
            "bottom": null,
            "display": null,
            "flex": null,
            "flex_flow": null,
            "grid_area": null,
            "grid_auto_columns": null,
            "grid_auto_flow": null,
            "grid_auto_rows": null,
            "grid_column": null,
            "grid_gap": null,
            "grid_row": null,
            "grid_template_areas": null,
            "grid_template_columns": null,
            "grid_template_rows": null,
            "height": null,
            "justify_content": null,
            "justify_items": null,
            "left": null,
            "margin": null,
            "max_height": null,
            "max_width": null,
            "min_height": null,
            "min_width": null,
            "object_fit": null,
            "object_position": null,
            "order": null,
            "overflow": null,
            "overflow_x": null,
            "overflow_y": null,
            "padding": null,
            "right": null,
            "top": null,
            "visibility": null,
            "width": null
          }
        },
        "26633fdbb1484266a644b41b531e249f": {
          "model_module": "@jupyter-widgets/base",
          "model_name": "LayoutModel",
          "model_module_version": "1.2.0",
          "state": {
            "_model_module": "@jupyter-widgets/base",
            "_model_module_version": "1.2.0",
            "_model_name": "LayoutModel",
            "_view_count": null,
            "_view_module": "@jupyter-widgets/base",
            "_view_module_version": "1.2.0",
            "_view_name": "LayoutView",
            "align_content": null,
            "align_items": null,
            "align_self": null,
            "border": null,
            "bottom": null,
            "display": null,
            "flex": null,
            "flex_flow": null,
            "grid_area": null,
            "grid_auto_columns": null,
            "grid_auto_flow": null,
            "grid_auto_rows": null,
            "grid_column": null,
            "grid_gap": null,
            "grid_row": null,
            "grid_template_areas": null,
            "grid_template_columns": null,
            "grid_template_rows": null,
            "height": null,
            "justify_content": null,
            "justify_items": null,
            "left": null,
            "margin": null,
            "max_height": null,
            "max_width": null,
            "min_height": null,
            "min_width": null,
            "object_fit": null,
            "object_position": null,
            "order": null,
            "overflow": null,
            "overflow_x": null,
            "overflow_y": null,
            "padding": null,
            "right": null,
            "top": null,
            "visibility": null,
            "width": null
          }
        },
        "c2fa5274c91747aeb3eb5bc9d0e0c64c": {
          "model_module": "@jupyter-widgets/controls",
          "model_name": "DescriptionStyleModel",
          "model_module_version": "1.5.0",
          "state": {
            "_model_module": "@jupyter-widgets/controls",
            "_model_module_version": "1.5.0",
            "_model_name": "DescriptionStyleModel",
            "_view_count": null,
            "_view_module": "@jupyter-widgets/base",
            "_view_module_version": "1.2.0",
            "_view_name": "StyleView",
            "description_width": ""
          }
        },
        "527ea010db934200b001f64366c2f20d": {
          "model_module": "@jupyter-widgets/base",
          "model_name": "LayoutModel",
          "model_module_version": "1.2.0",
          "state": {
            "_model_module": "@jupyter-widgets/base",
            "_model_module_version": "1.2.0",
            "_model_name": "LayoutModel",
            "_view_count": null,
            "_view_module": "@jupyter-widgets/base",
            "_view_module_version": "1.2.0",
            "_view_name": "LayoutView",
            "align_content": null,
            "align_items": null,
            "align_self": null,
            "border": null,
            "bottom": null,
            "display": null,
            "flex": null,
            "flex_flow": null,
            "grid_area": null,
            "grid_auto_columns": null,
            "grid_auto_flow": null,
            "grid_auto_rows": null,
            "grid_column": null,
            "grid_gap": null,
            "grid_row": null,
            "grid_template_areas": null,
            "grid_template_columns": null,
            "grid_template_rows": null,
            "height": null,
            "justify_content": null,
            "justify_items": null,
            "left": null,
            "margin": null,
            "max_height": null,
            "max_width": null,
            "min_height": null,
            "min_width": null,
            "object_fit": null,
            "object_position": null,
            "order": null,
            "overflow": null,
            "overflow_x": null,
            "overflow_y": null,
            "padding": null,
            "right": null,
            "top": null,
            "visibility": null,
            "width": null
          }
        },
        "8a8ee28227a54f94af447314cf251535": {
          "model_module": "@jupyter-widgets/controls",
          "model_name": "ProgressStyleModel",
          "model_module_version": "1.5.0",
          "state": {
            "_model_module": "@jupyter-widgets/controls",
            "_model_module_version": "1.5.0",
            "_model_name": "ProgressStyleModel",
            "_view_count": null,
            "_view_module": "@jupyter-widgets/base",
            "_view_module_version": "1.2.0",
            "_view_name": "StyleView",
            "bar_color": null,
            "description_width": ""
          }
        },
        "b905fa9e052a40f9ab9e290b1febc5bc": {
          "model_module": "@jupyter-widgets/controls",
          "model_name": "VBoxModel",
          "model_module_version": "1.5.0",
          "state": {
            "_dom_classes": [],
            "_model_module": "@jupyter-widgets/controls",
            "_model_module_version": "1.5.0",
            "_model_name": "VBoxModel",
            "_view_count": null,
            "_view_module": "@jupyter-widgets/controls",
            "_view_module_version": "1.5.0",
            "_view_name": "VBoxView",
            "box_style": "",
            "children": [
              "IPY_MODEL_b787cecc43a947a2b6bcd00c6c4549cb",
              "IPY_MODEL_33b67023f379442795a2be81bdbfbcfd"
            ],
            "layout": "IPY_MODEL_7d6a37ccc4e84476afcbc4b842cdaca8"
          }
        },
        "b787cecc43a947a2b6bcd00c6c4549cb": {
          "model_module": "@jupyter-widgets/controls",
          "model_name": "LabelModel",
          "model_module_version": "1.5.0",
          "state": {
            "_dom_classes": [],
            "_model_module": "@jupyter-widgets/controls",
            "_model_module_version": "1.5.0",
            "_model_name": "LabelModel",
            "_view_count": null,
            "_view_module": "@jupyter-widgets/controls",
            "_view_module_version": "1.5.0",
            "_view_name": "LabelView",
            "description": "",
            "description_tooltip": null,
            "layout": "IPY_MODEL_635ac9e4f3c94d17a878cd6990e212b2",
            "placeholder": "​",
            "style": "IPY_MODEL_9d66613101c34d088b978a7ca653bc4c",
            "value": "0.012 MB of 0.012 MB uploaded\r"
          }
        },
        "33b67023f379442795a2be81bdbfbcfd": {
          "model_module": "@jupyter-widgets/controls",
          "model_name": "FloatProgressModel",
          "model_module_version": "1.5.0",
          "state": {
            "_dom_classes": [],
            "_model_module": "@jupyter-widgets/controls",
            "_model_module_version": "1.5.0",
            "_model_name": "FloatProgressModel",
            "_view_count": null,
            "_view_module": "@jupyter-widgets/controls",
            "_view_module_version": "1.5.0",
            "_view_name": "ProgressView",
            "bar_style": "",
            "description": "",
            "description_tooltip": null,
            "layout": "IPY_MODEL_be0b0b75750a4a8db36d6200f81f676c",
            "max": 1,
            "min": 0,
            "orientation": "horizontal",
            "style": "IPY_MODEL_40861c5b5174440a9c0f5f5d1b56555a",
            "value": 1
          }
        },
        "7d6a37ccc4e84476afcbc4b842cdaca8": {
          "model_module": "@jupyter-widgets/base",
          "model_name": "LayoutModel",
          "model_module_version": "1.2.0",
          "state": {
            "_model_module": "@jupyter-widgets/base",
            "_model_module_version": "1.2.0",
            "_model_name": "LayoutModel",
            "_view_count": null,
            "_view_module": "@jupyter-widgets/base",
            "_view_module_version": "1.2.0",
            "_view_name": "LayoutView",
            "align_content": null,
            "align_items": null,
            "align_self": null,
            "border": null,
            "bottom": null,
            "display": null,
            "flex": null,
            "flex_flow": null,
            "grid_area": null,
            "grid_auto_columns": null,
            "grid_auto_flow": null,
            "grid_auto_rows": null,
            "grid_column": null,
            "grid_gap": null,
            "grid_row": null,
            "grid_template_areas": null,
            "grid_template_columns": null,
            "grid_template_rows": null,
            "height": null,
            "justify_content": null,
            "justify_items": null,
            "left": null,
            "margin": null,
            "max_height": null,
            "max_width": null,
            "min_height": null,
            "min_width": null,
            "object_fit": null,
            "object_position": null,
            "order": null,
            "overflow": null,
            "overflow_x": null,
            "overflow_y": null,
            "padding": null,
            "right": null,
            "top": null,
            "visibility": null,
            "width": null
          }
        },
        "635ac9e4f3c94d17a878cd6990e212b2": {
          "model_module": "@jupyter-widgets/base",
          "model_name": "LayoutModel",
          "model_module_version": "1.2.0",
          "state": {
            "_model_module": "@jupyter-widgets/base",
            "_model_module_version": "1.2.0",
            "_model_name": "LayoutModel",
            "_view_count": null,
            "_view_module": "@jupyter-widgets/base",
            "_view_module_version": "1.2.0",
            "_view_name": "LayoutView",
            "align_content": null,
            "align_items": null,
            "align_self": null,
            "border": null,
            "bottom": null,
            "display": null,
            "flex": null,
            "flex_flow": null,
            "grid_area": null,
            "grid_auto_columns": null,
            "grid_auto_flow": null,
            "grid_auto_rows": null,
            "grid_column": null,
            "grid_gap": null,
            "grid_row": null,
            "grid_template_areas": null,
            "grid_template_columns": null,
            "grid_template_rows": null,
            "height": null,
            "justify_content": null,
            "justify_items": null,
            "left": null,
            "margin": null,
            "max_height": null,
            "max_width": null,
            "min_height": null,
            "min_width": null,
            "object_fit": null,
            "object_position": null,
            "order": null,
            "overflow": null,
            "overflow_x": null,
            "overflow_y": null,
            "padding": null,
            "right": null,
            "top": null,
            "visibility": null,
            "width": null
          }
        },
        "9d66613101c34d088b978a7ca653bc4c": {
          "model_module": "@jupyter-widgets/controls",
          "model_name": "DescriptionStyleModel",
          "model_module_version": "1.5.0",
          "state": {
            "_model_module": "@jupyter-widgets/controls",
            "_model_module_version": "1.5.0",
            "_model_name": "DescriptionStyleModel",
            "_view_count": null,
            "_view_module": "@jupyter-widgets/base",
            "_view_module_version": "1.2.0",
            "_view_name": "StyleView",
            "description_width": ""
          }
        },
        "be0b0b75750a4a8db36d6200f81f676c": {
          "model_module": "@jupyter-widgets/base",
          "model_name": "LayoutModel",
          "model_module_version": "1.2.0",
          "state": {
            "_model_module": "@jupyter-widgets/base",
            "_model_module_version": "1.2.0",
            "_model_name": "LayoutModel",
            "_view_count": null,
            "_view_module": "@jupyter-widgets/base",
            "_view_module_version": "1.2.0",
            "_view_name": "LayoutView",
            "align_content": null,
            "align_items": null,
            "align_self": null,
            "border": null,
            "bottom": null,
            "display": null,
            "flex": null,
            "flex_flow": null,
            "grid_area": null,
            "grid_auto_columns": null,
            "grid_auto_flow": null,
            "grid_auto_rows": null,
            "grid_column": null,
            "grid_gap": null,
            "grid_row": null,
            "grid_template_areas": null,
            "grid_template_columns": null,
            "grid_template_rows": null,
            "height": null,
            "justify_content": null,
            "justify_items": null,
            "left": null,
            "margin": null,
            "max_height": null,
            "max_width": null,
            "min_height": null,
            "min_width": null,
            "object_fit": null,
            "object_position": null,
            "order": null,
            "overflow": null,
            "overflow_x": null,
            "overflow_y": null,
            "padding": null,
            "right": null,
            "top": null,
            "visibility": null,
            "width": null
          }
        },
        "40861c5b5174440a9c0f5f5d1b56555a": {
          "model_module": "@jupyter-widgets/controls",
          "model_name": "ProgressStyleModel",
          "model_module_version": "1.5.0",
          "state": {
            "_model_module": "@jupyter-widgets/controls",
            "_model_module_version": "1.5.0",
            "_model_name": "ProgressStyleModel",
            "_view_count": null,
            "_view_module": "@jupyter-widgets/base",
            "_view_module_version": "1.2.0",
            "_view_name": "StyleView",
            "bar_color": null,
            "description_width": ""
          }
        }
      }
    }
  },
  "cells": [
    {
      "cell_type": "markdown",
      "source": [
        "Import Library"
      ],
      "metadata": {
        "id": "BtSUZ-whbUV5"
      }
    },
    {
      "cell_type": "code",
      "source": [
        "!pip install wandb"
      ],
      "metadata": {
        "colab": {
          "base_uri": "https://localhost:8080/"
        },
        "id": "od1O1ywcD5ds",
        "outputId": "5c86c69b-40da-4381-ca3a-eb91475fce8c"
      },
      "execution_count": 58,
      "outputs": [
        {
          "output_type": "stream",
          "name": "stdout",
          "text": [
            "Requirement already satisfied: wandb in /usr/local/lib/python3.10/dist-packages (0.16.4)\n",
            "Requirement already satisfied: Click!=8.0.0,>=7.1 in /usr/local/lib/python3.10/dist-packages (from wandb) (8.1.7)\n",
            "Requirement already satisfied: GitPython!=3.1.29,>=1.0.0 in /usr/local/lib/python3.10/dist-packages (from wandb) (3.1.42)\n",
            "Requirement already satisfied: requests<3,>=2.0.0 in /usr/local/lib/python3.10/dist-packages (from wandb) (2.31.0)\n",
            "Requirement already satisfied: psutil>=5.0.0 in /usr/local/lib/python3.10/dist-packages (from wandb) (5.9.5)\n",
            "Requirement already satisfied: sentry-sdk>=1.0.0 in /usr/local/lib/python3.10/dist-packages (from wandb) (1.41.0)\n",
            "Requirement already satisfied: docker-pycreds>=0.4.0 in /usr/local/lib/python3.10/dist-packages (from wandb) (0.4.0)\n",
            "Requirement already satisfied: PyYAML in /usr/local/lib/python3.10/dist-packages (from wandb) (6.0.1)\n",
            "Requirement already satisfied: setproctitle in /usr/local/lib/python3.10/dist-packages (from wandb) (1.3.3)\n",
            "Requirement already satisfied: setuptools in /usr/local/lib/python3.10/dist-packages (from wandb) (67.7.2)\n",
            "Requirement already satisfied: appdirs>=1.4.3 in /usr/local/lib/python3.10/dist-packages (from wandb) (1.4.4)\n",
            "Requirement already satisfied: protobuf!=4.21.0,<5,>=3.19.0 in /usr/local/lib/python3.10/dist-packages (from wandb) (3.20.3)\n",
            "Requirement already satisfied: six>=1.4.0 in /usr/local/lib/python3.10/dist-packages (from docker-pycreds>=0.4.0->wandb) (1.16.0)\n",
            "Requirement already satisfied: gitdb<5,>=4.0.1 in /usr/local/lib/python3.10/dist-packages (from GitPython!=3.1.29,>=1.0.0->wandb) (4.0.11)\n",
            "Requirement already satisfied: charset-normalizer<4,>=2 in /usr/local/lib/python3.10/dist-packages (from requests<3,>=2.0.0->wandb) (3.3.2)\n",
            "Requirement already satisfied: idna<4,>=2.5 in /usr/local/lib/python3.10/dist-packages (from requests<3,>=2.0.0->wandb) (3.6)\n",
            "Requirement already satisfied: urllib3<3,>=1.21.1 in /usr/local/lib/python3.10/dist-packages (from requests<3,>=2.0.0->wandb) (2.0.7)\n",
            "Requirement already satisfied: certifi>=2017.4.17 in /usr/local/lib/python3.10/dist-packages (from requests<3,>=2.0.0->wandb) (2024.2.2)\n",
            "Requirement already satisfied: smmap<6,>=3.0.1 in /usr/local/lib/python3.10/dist-packages (from gitdb<5,>=4.0.1->GitPython!=3.1.29,>=1.0.0->wandb) (5.0.1)\n"
          ]
        }
      ]
    },
    {
      "cell_type": "code",
      "execution_count": 59,
      "metadata": {
        "id": "yhH5VjIYbIi-"
      },
      "outputs": [],
      "source": [
        "from keras.datasets import fashion_mnist, mnist\n",
        "import matplotlib.pyplot as plt\n",
        "from sklearn.model_selection import train_test_split\n",
        "import numpy as np\n",
        "import wandb"
      ]
    },
    {
      "cell_type": "code",
      "source": [],
      "metadata": {
        "id": "-j0PhxNsdE40"
      },
      "execution_count": 59,
      "outputs": []
    },
    {
      "cell_type": "markdown",
      "source": [
        "**Plotting various Categories of data**"
      ],
      "metadata": {
        "id": "ZZp9fLezgqKH"
      }
    },
    {
      "cell_type": "code",
      "source": [
        "(x_train, y_train), (x_test, y_test) = fashion_mnist.load_data()"
      ],
      "metadata": {
        "id": "BBsLJTwTmq37"
      },
      "execution_count": 60,
      "outputs": []
    },
    {
      "cell_type": "code",
      "source": [
        "# MetaData of Fashion_Mnist dataset ...\n",
        "CLASSES = {\n",
        "  0:'T-shirt/top',\n",
        "  1:'Trouser',\n",
        "  2:'Pullover',\n",
        "  3:'Dress',\n",
        "  4:'Coat',\n",
        "  5:'Sandal',\n",
        "  6:'Shirt',\n",
        "  7:'Sneaker',\n",
        "  8:'Bag',\n",
        "  9:'Ankle boot'\n",
        "}"
      ],
      "metadata": {
        "id": "UKVffiY4gy2G"
      },
      "execution_count": 61,
      "outputs": []
    },
    {
      "cell_type": "code",
      "source": [
        "ind_of_first_occurance = np.argsort(y_train)\n",
        "ind = ind_of_first_occurance[np.searchsorted(y_train, np.arange(0,10,1), sorter=ind_of_first_occurance)]\n",
        "fig, ax = plt.subplots(nrows=2, ncols=5)\n",
        "for i in range(10):\n",
        "  ax[i//5, i%5].imshow(x_train[ind[i]], cmap='gray')\n",
        "  ax[i//5, i%5].set_title(CLASSES[i])\n",
        "\n",
        "fig.suptitle('List of Categories')\n",
        "plt.show()"
      ],
      "metadata": {
        "colab": {
          "base_uri": "https://localhost:8080/",
          "height": 437
        },
        "id": "Hkt1ibDQg41B",
        "outputId": "a545a8ac-c766-473b-a0e0-18d8f3b6eea0"
      },
      "execution_count": 62,
      "outputs": [
        {
          "output_type": "display_data",
          "data": {
            "text/plain": [
              "<Figure size 640x480 with 10 Axes>"
            ],
            "image/png": "[encoded data removed]"
          },
          "metadata": {}
        }
      ]
    },
    {
      "cell_type": "code",
      "source": [],
      "metadata": {
        "id": "eTvgDi4LaqPu"
      },
      "execution_count": 62,
      "outputs": []
    },
    {
      "cell_type": "code",
      "source": [
        "def load_data(dataset='fashion_mnist', purpose='train'):\n",
        "  dataset=dataset.lower()\n",
        "  purpose=purpose.lower()\n",
        "  x,x_t,y,y_t = None,None,None,None\n",
        "\n",
        "  if dataset == 'fashion_mnist':\n",
        "    (x, y), (x_t, y_t) = fashion_mnist.load_data()\n",
        "  elif dataset == 'mnist':\n",
        "    (x, y), (x_t, y_t) = mnist.load_data()\n",
        "\n",
        "  if purpose == 'train':\n",
        "    x = x.reshape(x.shape[0], 784) / 255\n",
        "    y = np.eye(10)[y]\n",
        "    return x, y\n",
        "  elif purpose == 'test':\n",
        "    x_t = x_t.reshape(x_t.shape[0], 784) / 255\n",
        "    y_t = np.eye(10)[y_t]\n",
        "    return x_t, y_t"
      ],
      "metadata": {
        "id": "zsax32-WAPI2"
      },
      "execution_count": 63,
      "outputs": []
    },
    {
      "cell_type": "markdown",
      "source": [
        "**Feed Forward Neural Net**"
      ],
      "metadata": {
        "id": "EoEI7S_3avwA"
      }
    },
    {
      "cell_type": "code",
      "source": [
        "class FF_NN:\n",
        "\n",
        "  def __init__(self, param):\n",
        "    self.hidden_layers = param['hidden_lyrs']\n",
        "    self.neurons = param['neurons']\n",
        "    self.input_neurons = param['inpt_sz'] # self.x_train.shape[1] * self.x_train.shape[2]\n",
        "    self.output_neurons = param['oupt_sz'] # len(CLASSES)\n",
        "    self.weights = []\n",
        "    self.bias = []\n",
        "    self.activation = param['activation']\n",
        "    self.output_activation = param['oupt_activation']\n",
        "    self.weight_initialisation = param['weight_initialisation']\n",
        "\n",
        "    self.get_weights()\n",
        "    self.get_bias()\n",
        "\n",
        "\n",
        "  def get_bias(self):\n",
        "    for _ in range(self.hidden_layers):\n",
        "      self.bias.append(np.random.randn(self.neurons))\n",
        "    self.bias.append(np.random.randn(self.output_neurons))\n",
        "\n",
        "  def get_weights(self):\n",
        "    if self.weight_initialisation.lower() == 'random':\n",
        "      self.weights.append(np.random.randn(self.input_neurons, self.neurons))\n",
        "      for _ in range(self.hidden_layers-1):\n",
        "        self.weights.append(np.random.randn(self.neurons, self.neurons))\n",
        "      self.weights.append(np.random.randn(self.neurons, self.output_neurons))\n",
        "\n",
        "    else:\n",
        "      limit = np.sqrt(6/(self.input_neurons + self.neurons))\n",
        "      self.weights.append(np.random.uniform(low=-limit, high=limit, size=(self.input_neurons, self.neurons)))\n",
        "      limit = np.sqrt(6/(self.neurons + self.neurons))\n",
        "      for _ in range(self.hidden_layers-1):\n",
        "        self.weights.append(np.random.uniform(low=-limit, high=limit, size=(self.neurons, self.neurons)))\n",
        "      limit = np.sqrt(6/(self.neurons + self.output_neurons))\n",
        "      self.weights.append(np.random.uniform(low=-limit, high=limit, size=(self.neurons, self.output_neurons)))\n",
        "\n",
        "\n",
        "  def apply_activation(self, data):\n",
        "    act = self.activation.lower()\n",
        "    if act == 'sigmoid':\n",
        "      return 1/(1+np.exp(-data))\n",
        "    elif act == 'relu':\n",
        "      return np.maximum(0,data)\n",
        "    elif act == 'tanh':\n",
        "      return np.tanh(data)\n",
        "    elif act == 'identity':\n",
        "      return data\n",
        "\n",
        "\n",
        "  def apply_output_activation(self, data):\n",
        "    if self.output_activation.lower() == 'softmax':\n",
        "      data = np.exp(data)\n",
        "      return data/np.sum(data,axis=1).reshape(data.shape[0],1)\n",
        "\n",
        "\n",
        "  def feed_forward(self, input):\n",
        "    self.A = [input]\n",
        "    self.H = [input]\n",
        "\n",
        "    # hidden layer calculations...\n",
        "    for i in range(self.hidden_layers):\n",
        "      self.A.append(self.bias[i] + np.matmul(self.H[-1], self.weights[i]))\n",
        "      self.H.append(self.apply_activation(self.A[-1]))\n",
        "\n",
        "    # output layer calculations...\n",
        "    self.A.append(self.bias[-1] + np.matmul(self.H[-1], self.weights[-1]))\n",
        "    self.H.append(self.apply_output_activation(self.A[-1]))\n",
        "\n",
        "    return self.H[-1] # shape of H[-1] = 60000,10   shape of H = layers, 60000, neurons in each layer\n"
      ],
      "metadata": {
        "id": "_Awp3LSHCYbz"
      },
      "execution_count": 64,
      "outputs": []
    },
    {
      "cell_type": "code",
      "source": [
        "# nn = FF_NN(PARAMETERS)\n",
        "# x_train, y_train = load_data(PARAMETERS['dataset'], 'train')\n",
        "# prediction = nn.feed_forward(x_train) # shape of xtrain -> 60000,784\n",
        "# print(prediction[0])"
      ],
      "metadata": {
        "id": "YP5OXM2jAGVV"
      },
      "execution_count": 65,
      "outputs": []
    },
    {
      "cell_type": "code",
      "source": [],
      "metadata": {
        "id": "8fvv5cxJQtrI"
      },
      "execution_count": 65,
      "outputs": []
    },
    {
      "cell_type": "markdown",
      "source": [
        "**Back_Propagation**"
      ],
      "metadata": {
        "id": "m-8nHyZIQuTh"
      }
    },
    {
      "cell_type": "code",
      "source": [
        "class BP_NN:\n",
        "\n",
        "  def __init__(\n",
        "      self,\n",
        "      ff_nn:FF_NN,\n",
        "      param):\n",
        "    self.ff_nn, self.loss, self.activation, self.output_activation = ff_nn, param['loss_function'], param['activation'], param['oupt_activation']\n",
        "\n",
        "  def loss_derivative(self, y, y_pred):\n",
        "    ls = self.loss.lower()\n",
        "    if ls == \"cross_entropy\":\n",
        "      return -y / y_pred\n",
        "    elif ls == \"mse\":\n",
        "      return y_pred - y\n",
        "\n",
        "  def activation_derivative(self, x):\n",
        "    act = self.activation.lower()\n",
        "    if act == \"sigmoid\":\n",
        "      return x * (1 - x)\n",
        "    elif act == \"tanh\":\n",
        "      return 1 - x ** 2\n",
        "    elif act == \"relu\":\n",
        "      return (x > 0).astype(int)\n",
        "    elif act == \"identity\":\n",
        "      return np.ones(x.shape)\n",
        "\n",
        "  def propogate_backward(self, y, y_pred):  # y=60000,10   y_pred=60000,10\n",
        "    self.d_h, self.d_a, self.delta_weights, self.delta_bias = [], [], [], []\n",
        "\n",
        "    self.d_a.append(y_pred-y)\n",
        "\n",
        "    for i in range(self.ff_nn.hidden_layers, 0, -1):\n",
        "      self.delta_weights.append(np.matmul(self.ff_nn.H[i].T, self.d_a[-1]))\n",
        "      self.delta_bias.append(np.sum(self.d_a[-1], axis=0))\n",
        "      self.d_h.append(np.matmul(self.d_a[-1], self.ff_nn.weights[i].T))\n",
        "      self.d_a.append(self.d_h[-1] * self.activation_derivative(self.ff_nn.H[i]))\n",
        "\n",
        "    self.delta_weights.append(np.matmul(self.ff_nn.H[0].T, self.d_a[-1]))\n",
        "    self.delta_bias.append(np.sum(self.d_a[-1], axis=0))\n",
        "\n",
        "    self.delta_weights.reverse()\n",
        "    self.delta_bias.reverse()\n",
        "    for i in range(len(self.delta_weights)):\n",
        "      self.delta_weights[i] = self.delta_weights[i] / y.shape[0]\n",
        "      self.delta_bias[i] = self.delta_bias[i] / y.shape[0]\n",
        "\n",
        "    return self.delta_weights, self.delta_bias"
      ],
      "metadata": {
        "id": "k5e66lFgROJI"
      },
      "execution_count": 66,
      "outputs": []
    },
    {
      "cell_type": "code",
      "source": [],
      "metadata": {
        "id": "yXz9TvroRcUF"
      },
      "execution_count": 66,
      "outputs": []
    },
    {
      "cell_type": "markdown",
      "source": [
        "**Optimizers**"
      ],
      "metadata": {
        "id": "sQyYmWEZgLvq"
      }
    },
    {
      "cell_type": "code",
      "source": [
        "class Optimizer():\n",
        "  def __init__(\n",
        "      self,\n",
        "      ff_nn: FF_NN,\n",
        "      bp_nn: BP_NN,\n",
        "      param\n",
        "  ):\n",
        "    self.ff_nn, self.bp_nn, self.lr, self.optimizer, self.momentum, self.decay = ff_nn, bp_nn, param['learning_rate'], param['optimizer'], param['momentum'], param['decay']\n",
        "    self.B1, self.B2, self.eps, self.t = param['beta1'], param['beta2'], param['epsilon'], 0\n",
        "    self.b_history = [np.zeros_like(i) for i in self.ff_nn.bias]\n",
        "    self.hm_biases = [np.zeros_like(i) for i in self.ff_nn.bias]\n",
        "    self.w_history = [np.zeros_like(i) for i in self.ff_nn.weights]\n",
        "    self.hm_weights = [np.zeros_like(i) for i in self.ff_nn.weights]\n",
        "\n",
        "\n",
        "  def optimize(self, delta_weights, delta_bias):\n",
        "    opt = self.optimizer.lower()\n",
        "    if(opt == \"sgd\"):\n",
        "      self.SGD(delta_weights, delta_bias)\n",
        "    elif(opt == \"momentum\"):\n",
        "      self.MGD(delta_weights, delta_bias)\n",
        "    elif(opt == \"nag\"):\n",
        "      self.NAG(delta_weights, delta_bias)\n",
        "    elif(opt == \"rmsprop\"):\n",
        "      self.RMSPROP(delta_weights, delta_bias)\n",
        "    elif(opt == \"adam\"):\n",
        "      self.ADAM(delta_weights, delta_bias)\n",
        "    elif(opt == \"nadam\"):\n",
        "      self.NADAM(delta_weights, delta_bias)\n",
        "\n",
        "\n",
        "  def SGD(self, delta_weights, delta_bias):\n",
        "    for i in range(self.ff_nn.hidden_layers + 1):\n",
        "      self.ff_nn.weights[i] -= self.lr * (delta_weights[i] + self.ff_nn.weights[i]*self.decay)\n",
        "      self.ff_nn.bias[i] -= self.lr * (delta_bias[i] + self.ff_nn.bias[i]*self.decay)\n",
        "\n",
        "  def MGD(self, delta_weights, delta_bias):\n",
        "    for i in range(self.ff_nn.hidden_layers + 1):\n",
        "      self.w_history[i] = self.momentum * self.w_history[i] + delta_weights[i]\n",
        "      self.ff_nn.weights[i] -= self.lr * (self.w_history[i] + self.ff_nn.weights[i]*self.decay)\n",
        "      self.b_history[i] = self.momentum * self.b_history[i] + delta_bias[i]\n",
        "      self.ff_nn.bias[i] -= self.lr * (self.b_history[i] + self.ff_nn.bias[i]*self.decay)\n",
        "\n",
        "  def NAG(self, delta_weights, delta_bias):\n",
        "    for i in range(self.ff_nn.hidden_layers + 1):\n",
        "      self.w_history[i] = self.momentum * self.w_history[i] + delta_weights[i]\n",
        "      self.ff_nn.weights[i] -= self.lr * (self.momentum * self.w_history[i] + delta_weights[i] + self.ff_nn.weights[i]*self.decay)\n",
        "      self.b_history[i] = self.momentum * self.b_history[i] + delta_bias[i]\n",
        "      self.ff_nn.bias[i] -= self.lr * (self.momentum * self.b_history[i] + delta_bias[i] + self.ff_nn.bias[i]*self.decay)\n",
        "\n",
        "\n",
        "  def RMSPROP(self, delta_weights, delta_bias):\n",
        "    for i in range(self.ff_nn.hidden_layers + 1):\n",
        "      self.w_history[i] = self.w_history[i]*self.momentum + (1-self.momentum)*delta_weights[i]**2\n",
        "      self.ff_nn.weights[i] -= delta_weights[i]*(self.lr / (np.sqrt(self.w_history[i]) + self.eps)) + self.decay * self.ff_nn.weights[i] * self.lr\n",
        "      self.b_history[i] = self.b_history[i]*self.momentum + (1-self.momentum)*delta_bias[i]**2\n",
        "      self.ff_nn.bias[i] -= delta_bias[i]*(self.lr / (np.sqrt(self.b_history[i]) + self.eps)) + self.decay * self.ff_nn.bias[i] * self.lr\n",
        "\n",
        "\n",
        "  def ADAM(self, delta_weights, delta_bias):\n",
        "    for i in range(self.ff_nn.hidden_layers + 1):\n",
        "      self.hm_weights[i] = self.B1 * self.hm_weights[i] + (1 - self.B1) * delta_weights[i]\n",
        "      self.w_history[i] = self.B2 * self.w_history[i] + (1 - self.B2) * delta_weights[i]**2\n",
        "      self.hm_weights_hat = self.hm_weights[i] / (1 - self.B1**(self.t + 1))\n",
        "      self.w_history_hat = self.w_history[i] / (1 - self.B2**(self.t + 1))\n",
        "      self.ff_nn.weights[i] -= self.lr * (self.hm_weights_hat / ((np.sqrt(self.w_history_hat)) + self.eps) + self.decay * self.ff_nn.weights[i])\n",
        "\n",
        "      self.hm_biases[i] = self.B1 * self.hm_biases[i] + (1 - self.B1) * delta_bias[i]\n",
        "      self.b_history[i] = self.B2 * self.b_history[i] + (1 - self.B2) * delta_bias[i]**2\n",
        "      self.hm_biases_hat = self.hm_biases[i] / (1 - self.B1**(1+self.t))\n",
        "      self.b_history_hat = self.b_history[i] / (1 - self.B2**(1+self.t))\n",
        "      self.ff_nn.bias[i] -= self.lr * (self.hm_biases_hat / ((np.sqrt(self.b_history_hat)) + self.eps) + self.decay * self.ff_nn.bias[i])\n",
        "\n",
        "\n",
        "  def NADAM(self, delta_weights, delta_bias):\n",
        "    for i in range(self.ff_nn.hidden_layers + 1):\n",
        "      self.hm_weights[i] = self.B1 * self.hm_weights[i] + (1 - self.B1) * delta_weights[i]\n",
        "      self.hm_weights_hat = self.hm_weights[i] / (1 - self.B1 ** (self.t + 1))\n",
        "      self.w_history[i] = self.B2 * self.w_history[i] + (1 - self.B2) * delta_weights[i]**2\n",
        "      self.w_history_hat = self.w_history[i] / (1 - self.B2 ** (self.t + 1))\n",
        "      w_temp = self.B1 * self.hm_weights_hat + ((1 - self.B1) / (1 - self.B1 ** (self.t + 1))) * delta_weights[i]\n",
        "      self.ff_nn.weights[i] -= self.lr * (w_temp / ((np.sqrt(self.w_history_hat)) + self.eps) + self.decay * self.ff_nn.weights[i])\n",
        "\n",
        "\n",
        "      self.hm_biases[i] = self.B1 * self.hm_biases[i] + (1 - self.B1) * delta_bias[i]\n",
        "      self.hm_biases_hat = self.hm_biases[i] / (1 - self.B1 ** (self.t + 1))\n",
        "      self.b_history[i] = self.B2 * self.b_history[i] + (1 - self.B2) * delta_bias[i]**2\n",
        "      self.b_history_hat = self.b_history[i] / (1 - self.B2 ** (self.t + 1))\n",
        "      b_temp = self.B1 * self.hm_biases_hat + ((1 - self.B1) / (1 - self.B1 ** (self.t + 1))) * delta_bias[i]\n",
        "      self.ff_nn.bias[i] -= self.lr * (b_temp / ((np.sqrt(self.b_history_hat)) + self.eps) + self.decay * self.ff_nn.bias[i])\n"
      ],
      "metadata": {
        "id": "D5uVrcosgti4"
      },
      "execution_count": 67,
      "outputs": []
    },
    {
      "cell_type": "code",
      "source": [
        "def calculate_loss(y, y_pred, loss_function):\n",
        "  ls_fn = loss_function.lower()\n",
        "  if ls_fn == \"mean_squared_error\":\n",
        "    return np.sum((y_pred-y) ** 2) / y.shape[0]\n",
        "  elif ls_fn == \"cross_entropy\":\n",
        "    return (-np.sum(y * np.log(y_pred))) / y.shape[0]\n"
      ],
      "metadata": {
        "id": "-doCB1E_jEvf"
      },
      "execution_count": 68,
      "outputs": []
    },
    {
      "cell_type": "code",
      "source": [
        "# def train(PARAMETERS):\n",
        "#   # wandb.init()\n",
        "#   # config = wandb.config\n",
        "#   x_train, y_train = load_data(PARAMETERS['dataset'], 'train')\n",
        "#   np.random.seed(7)\n",
        "#   ff_nn = FF_NN(PARAMETERS)\n",
        "#   bp_nn = BP_NN(ff_nn, PARAMETERS)\n",
        "#   opt = Optimizer(ff_nn, bp_nn, PARAMETERS)\n",
        "#   print(\"Initial Accuracy: {}\".format(np.sum(np.argmax(ff_nn.feed_forward(x_train), axis=1) == np.argmax(y_train, axis=1)) / y_train.shape[0]))\n",
        "#   batch_size = PARAMETERS['batch_sz']\n",
        "#   # wandb.run.name = f'hl_{config.hidden_lyrs}_bs_{config.batch_sz}_ac_{config.activation}'\n",
        "#   x_train, x_train_t, y_train, y_train_t = train_test_split(x_train, y_train, test_size=0.1, random_state=7)\n",
        "\n",
        "#   for epoch in range(PARAMETERS['epochs']):\n",
        "#     for i in range(0, x_train.shape[0], batch_size):\n",
        "#       y_batch = y_train[i:i+batch_size]\n",
        "#       x_batch = x_train[i:i+batch_size]\n",
        "#       opt.optimize(*bp_nn.propogate_backward(y_batch, ff_nn.feed_forward(x_batch)))\n",
        "\n",
        "#     opt.t += 1\n",
        "#     y_pred = ff_nn.feed_forward(x_train)\n",
        "#     y_pred_t = ff_nn.feed_forward(x_train_t)\n",
        "#     # lg={\n",
        "#     #     'accuracy':np.sum(np.argmax(y_pred, axis=1) == np.argmax(y_train, axis=1)) / y_train.shape[0],\n",
        "#     #     'val_accuracy':np.sum(np.argmax(y_pred_t, axis=1) == np.argmax(y_train_t, axis=1)) / y_train_t.shape[0],\n",
        "#     #     'epoch':epoch+1,\n",
        "#     #     'loss':calculate_loss(y_train, y_pred, PARAMETERS['loss_function']),\n",
        "#     #     'validation_loss':calculate_loss(y_train_t, y_pred_t, PARAMETERS['loss_function'])\n",
        "#     # }\n",
        "#     # wandb.log(lg)\n",
        "#     print(\"epoch-\",epoch+1)\n",
        "#     print(\"accuracy-\",np.sum(np.argmax(y_pred, axis=1) == np.argmax(y_train, axis=1)) / y_train.shape[0])\n",
        "#     print(\"loss-\", calculate_loss(y_train, y_pred, PARAMETERS['loss_function']))\n",
        "#     print(\"validation_acc-\",np.sum(np.argmax(y_pred_t, axis=1) == np.argmax(y_train_t, axis=1)) / y_train_t.shape[0])\n",
        "#     print(\"validation_loss-\", calculate_loss(y_train_t, y_pred_t, PARAMETERS['loss_function']))\n",
        "\n",
        "\n",
        "#   return ff_nn\n"
      ],
      "metadata": {
        "id": "V3fGH5jfjEqz"
      },
      "execution_count": 69,
      "outputs": []
    },
    {
      "cell_type": "code",
      "source": [
        "# PARAMETERS = {\n",
        "#     'inpt_sz' : 784,\n",
        "#     'oupt_sz' : 10,\n",
        "#     'neurons' : 64,\n",
        "#     'hidden_lyrs' : 4,\n",
        "#     'activation' : 'sigmoid',\n",
        "#     'oupt_activation' : 'softmax',\n",
        "#     'dataset' : 'fashion_mnist',\n",
        "#     'loss_function': 'cross_entropy',\n",
        "#     'learning_rate': 0.001,\n",
        "#     'optimizer': 'adam',\n",
        "#     'momentum': 0.9,\n",
        "#     'batch_sz': 16,\n",
        "#     'epochs': 10,\n",
        "#     'weight_initialisation': 'random',\n",
        "#     'decay': 0.005,\n",
        "#     'beta1': 0.9,\n",
        "#     'beta2': 0.999,\n",
        "#     'epsilon': 1e-10\n",
        "# }"
      ],
      "metadata": {
        "id": "mSx2jPGAjxIT"
      },
      "execution_count": 70,
      "outputs": []
    },
    {
      "cell_type": "code",
      "source": [
        "# train(PARAMETERS)"
      ],
      "metadata": {
        "id": "IKyouRUyK6Oa"
      },
      "execution_count": 71,
      "outputs": []
    },
    {
      "cell_type": "code",
      "source": [],
      "metadata": {
        "id": "83OA4q4LiEbc"
      },
      "execution_count": 71,
      "outputs": []
    },
    {
      "cell_type": "code",
      "source": [],
      "metadata": {
        "id": "6p_4pkqriPv8"
      },
      "execution_count": 71,
      "outputs": []
    },
    {
      "cell_type": "code",
      "source": [
        "def train():\n",
        "  wandb.init()\n",
        "  PARAMETERS = wandb.config\n",
        "  x_train, y_train = load_data(PARAMETERS['dataset'], 'train')\n",
        "  np.random.seed(7)\n",
        "  ff_nn = FF_NN(PARAMETERS)\n",
        "  bp_nn = BP_NN(ff_nn, PARAMETERS)\n",
        "  opt = Optimizer(ff_nn, bp_nn, PARAMETERS)\n",
        "  print(\"Initial Accuracy: {}\".format(np.sum(np.argmax(ff_nn.feed_forward(x_train), axis=1) == np.argmax(y_train, axis=1)) / y_train.shape[0]))\n",
        "  batch_size = PARAMETERS['batch_sz']\n",
        "\n",
        "  wandb.run.name = f'hl_{PARAMETERS.hidden_lyrs}_bs_{PARAMETERS.batch_sz}_ac_{PARAMETERS.activation}'\n",
        "  x_train, x_train_t, y_train, y_train_t = train_test_split(x_train, y_train, test_size=0.1, random_state=7)\n",
        "\n",
        "  for epoch in range(PARAMETERS['epochs']):\n",
        "    for i in range(0, x_train.shape[0], batch_size):\n",
        "      y_batch = y_train[i:i+batch_size]\n",
        "      x_batch = x_train[i:i+batch_size]\n",
        "      y_pred = ff_nn.feed_forward(x_batch)\n",
        "      weight_change, bias_change = bp_nn.propogate_backward(y_batch, y_pred)\n",
        "      opt.optimize(weight_change, bias_change)\n",
        "\n",
        "    opt.t += 1\n",
        "    y_pred = ff_nn.feed_forward(x_train)\n",
        "    y_pred_t = ff_nn.feed_forward(x_train_t)\n",
        "    lg={\n",
        "        'accuracy':np.sum(np.argmax(y_pred, axis=1) == np.argmax(y_train, axis=1)) / y_train.shape[0],\n",
        "        'val_accuracy':np.sum(np.argmax(y_pred_t, axis=1) == np.argmax(y_train_t, axis=1)) / y_train_t.shape[0],\n",
        "        'epoch':epoch+1,\n",
        "        'loss':calculate_loss(y_train, y_pred, PARAMETERS['loss_function']),\n",
        "        'validation_loss':calculate_loss(y_train_t, y_pred_t, PARAMETERS['loss_function'])\n",
        "    }\n",
        "    wandb.log(lg)\n",
        "    print(\"epoch-\",epoch+1)\n",
        "    print(\"accuracy-\",np.sum(np.argmax(y_pred, axis=1) == np.argmax(y_train, axis=1)) / y_train.shape[0])\n",
        "    print(\"loss-\", calculate_loss(y_train, y_pred, PARAMETERS['loss_function']))\n",
        "    print(\"validation-\",np.sum(np.argmax(y_pred_t, axis=1) == np.argmax(y_train_t, axis=1)) / y_train_t.shape[0])\n",
        "\n",
        "\n",
        "  return ff_nn\n"
      ],
      "metadata": {
        "id": "tgAhIl9ueTKO"
      },
      "execution_count": 72,
      "outputs": []
    },
    {
      "cell_type": "code",
      "source": [
        "sweep_config = {\n",
        "    \"method\": \"bayes\",  # Use grid search for this example\n",
        "    \"metric\": {\"goal\": \"maximize\", \"name\": \"accuracy\"},  # Maximize accuracy\n",
        "    \"parameters\": {\n",
        "        \"inpt_sz\": {\"values\": [784]},  # Fix input size\n",
        "        \"oupt_sz\": {\"values\": [10]},  # Fix output size\n",
        "        \"neurons\": {\"values\": [16, 32, 64, 128]},  # Sweep neuron count\n",
        "        \"hidden_lyrs\": {\"values\": [3, 4, 5]},  # Sweep hidden layers\n",
        "        \"activation\": {\"values\": [\"relu\", \"tanh\", 'sigmoid']},  # Sweep activation function\n",
        "        \"oupt_activation\": {\"values\": [\"softmax\"]},  # Fix output activation\n",
        "        \"dataset\": {\"values\": [\"fashion_mnist\"]},  # Fix dataset\n",
        "        \"loss_function\": {\"values\": [\"cross_entropy\"]},  # Fix loss function\n",
        "        \"learning_rate\": {\"values\": [0.0001, 0.001, 0.01]},  # Sweep learning rate\n",
        "        \"optimizer\": {\"values\": [\"adam\", \"sgd\", 'nag', 'rmsprop', 'momentum', 'nadam']},  # Sweep optimizer\n",
        "        \"momentum\": {\"values\": [0.8, 0.9]},  # Sweep momentum (if using sgd)\n",
        "        \"batch_sz\": {\"values\": [16, 32, 64]},  # Sweep batch size\n",
        "        \"epochs\": {\"values\": [5, 10]},  # Sweep epochs\n",
        "        \"weight_initialisation\": {\"values\": [\"random\", \"xavier\"]},  # Sweep initialization\n",
        "        \"decay\": {\"values\": [0.0, 0.005, 0.05]},  # Sweep weight decay\n",
        "        \"beta1\": {\"values\": [0.9]},  # Fix beta1 (for Adam)\n",
        "        \"beta2\": {\"values\": [0.999]},  # Fix beta2 (for Adam)\n",
        "        \"epsilon\": {\"values\": [1e-8, 1e-10]},  # Sweep epsilon (for Adam)\n",
        "    }\n",
        "}\n"
      ],
      "metadata": {
        "id": "SVSsiDyzEHQK"
      },
      "execution_count": 44,
      "outputs": []
    },
    {
      "cell_type": "code",
      "source": [
        "sweep_id = wandb.sweep(sweep_config, project=\"cs6910_assignment1\")"
      ],
      "metadata": {
        "colab": {
          "base_uri": "https://localhost:8080/"
        },
        "id": "QoM39NQ-HP8n",
        "outputId": "bf32cfb2-3720-49b0-ae5b-d105b8bb61d4"
      },
      "execution_count": 73,
      "outputs": [
        {
          "output_type": "stream",
          "name": "stdout",
          "text": [
            "Create sweep with ID: m9vmiqw8\n",
            "Sweep URL: https://wandb.ai/cs23m070/cs6910_assignment1/sweeps/m9vmiqw8\n"
          ]
        }
      ]
    },
    {
      "cell_type": "code",
      "source": [
        "wandb.agent(sweep_id, function=train, count=5)"
      ],
      "metadata": {
        "colab": {
          "base_uri": "https://localhost:8080/",
          "height": 1000,
          "referenced_widgets": [
            "cd5c669352214feda06a71fc5f69b08c",
            "a7f88144d4be4b0084f6cb1209316fee",
            "c071cb06cb2f4004be699ced9b7ab5f2",
            "033dcbd91e42414d96a97226dbebca80",
            "374a45ab4bac469298a634f9bd3be91c",
            "b3db9c7f6f1642198dd11b0c9604b8f3",
            "1129d7b102b5476fac025238006dcc03",
            "61237bd3454c457cba90c491b4755987",
            "5743b57b9d8a4815b336d2255663c104",
            "0f130329086f40ba8fa94c3b271e1f4c",
            "56d2478135894395a961b7501fdb785f",
            "1e17cf93ee2f44a6a2639a7d9c8d175b",
            "96802c5311fd4512b7606907f28d87d8",
            "e9f5dfe53d164c0dbd35239f0dc17211",
            "d19cb432295841e18f9b1b577342e2fc",
            "755c5a2046bd41d78ff7357fb902dc9b",
            "9e1f7171be134182a36791401a646c36",
            "2c4a4a2caf424e6b93aaa565bcd1a342",
            "a89da23900f8408b8e4973a956c050e2",
            "76154e0f669442b2bf9b26e82726c763",
            "b51855bfb6cf47b599e76195203d3aeb",
            "0651523a51f44b7ebff97e8709d27383",
            "2e71084c341c4e828139e3844713c088",
            "c917b850b6c04b2db31f9d63cb50a85f",
            "aa5525dfb8a04ab9b905c5dba79c6d95",
            "5fad0e8e928546f6bd008850f0cc281e",
            "5af564cd5fbe4f6a8ffad182c7e0ba65",
            "f4ac1bfa1da543f5876ca5d485b212ab",
            "26633fdbb1484266a644b41b531e249f",
            "c2fa5274c91747aeb3eb5bc9d0e0c64c",
            "527ea010db934200b001f64366c2f20d",
            "8a8ee28227a54f94af447314cf251535",
            "b905fa9e052a40f9ab9e290b1febc5bc",
            "b787cecc43a947a2b6bcd00c6c4549cb",
            "33b67023f379442795a2be81bdbfbcfd",
            "7d6a37ccc4e84476afcbc4b842cdaca8",
            "635ac9e4f3c94d17a878cd6990e212b2",
            "9d66613101c34d088b978a7ca653bc4c",
            "be0b0b75750a4a8db36d6200f81f676c",
            "40861c5b5174440a9c0f5f5d1b56555a"
          ]
        },
        "id": "mTIL2dA_cYND",
        "outputId": "36100607-c097-4df5-b137-6582cbf2c271"
      },
      "execution_count": 74,
      "outputs": [
        {
          "output_type": "stream",
          "name": "stderr",
          "text": [
            "\u001b[34m\u001b[1mwandb\u001b[0m: Agent Starting Run: o923burt with config:\n",
            "\u001b[34m\u001b[1mwandb\u001b[0m: \tactivation: relu\n",
            "\u001b[34m\u001b[1mwandb\u001b[0m: \tbatch_sz: 16\n",
            "\u001b[34m\u001b[1mwandb\u001b[0m: \tbeta1: 0.9\n",
            "\u001b[34m\u001b[1mwandb\u001b[0m: \tbeta2: 0.999\n",
            "\u001b[34m\u001b[1mwandb\u001b[0m: \tdataset: fashion_mnist\n",
            "\u001b[34m\u001b[1mwandb\u001b[0m: \tdecay: 0.05\n",
            "\u001b[34m\u001b[1mwandb\u001b[0m: \tepochs: 10\n",
            "\u001b[34m\u001b[1mwandb\u001b[0m: \tepsilon: 1e-10\n",
            "\u001b[34m\u001b[1mwandb\u001b[0m: \thidden_lyrs: 3\n",
            "\u001b[34m\u001b[1mwandb\u001b[0m: \tinpt_sz: 784\n",
            "\u001b[34m\u001b[1mwandb\u001b[0m: \tlearning_rate: 0.01\n",
            "\u001b[34m\u001b[1mwandb\u001b[0m: \tloss_function: cross_entropy\n",
            "\u001b[34m\u001b[1mwandb\u001b[0m: \tmomentum: 0.9\n",
            "\u001b[34m\u001b[1mwandb\u001b[0m: \tneurons: 32\n",
            "\u001b[34m\u001b[1mwandb\u001b[0m: \toptimizer: nag\n",
            "\u001b[34m\u001b[1mwandb\u001b[0m: \toupt_activation: softmax\n",
            "\u001b[34m\u001b[1mwandb\u001b[0m: \toupt_sz: 10\n",
            "\u001b[34m\u001b[1mwandb\u001b[0m: \tweight_initialisation: random\n"
          ]
        },
        {
          "output_type": "display_data",
          "data": {
            "text/plain": [
              "<IPython.core.display.HTML object>"
            ],
            "text/html": [
              "Tracking run with wandb version 0.16.4"
            ]
          },
          "metadata": {}
        },
        {
          "output_type": "display_data",
          "data": {
            "text/plain": [
              "<IPython.core.display.HTML object>"
            ],
            "text/html": [
              "Run data is saved locally in <code>/content/wandb/run-20240313_114539-o923burt</code>"
            ]
          },
          "metadata": {}
        },
        {
          "output_type": "display_data",
          "data": {
            "text/plain": [
              "<IPython.core.display.HTML object>"
            ],
            "text/html": [
              "Syncing run <strong><a href='https://wandb.ai/cs23m070/cs6910_assignment1/runs/o923burt' target=\"_blank\">clean-sweep-1</a></strong> to <a href='https://wandb.ai/cs23m070/cs6910_assignment1' target=\"_blank\">Weights & Biases</a> (<a href='https://wandb.me/run' target=\"_blank\">docs</a>)<br/>Sweep page: <a href='https://wandb.ai/cs23m070/cs6910_assignment1/sweeps/m9vmiqw8' target=\"_blank\">https://wandb.ai/cs23m070/cs6910_assignment1/sweeps/m9vmiqw8</a>"
            ]
          },
          "metadata": {}
        },
        {
          "output_type": "display_data",
          "data": {
            "text/plain": [
              "<IPython.core.display.HTML object>"
            ],
            "text/html": [
              " View project at <a href='https://wandb.ai/cs23m070/cs6910_assignment1' target=\"_blank\">https://wandb.ai/cs23m070/cs6910_assignment1</a>"
            ]
          },
          "metadata": {}
        },
        {
          "output_type": "display_data",
          "data": {
            "text/plain": [
              "<IPython.core.display.HTML object>"
            ],
            "text/html": [
              " View sweep at <a href='https://wandb.ai/cs23m070/cs6910_assignment1/sweeps/m9vmiqw8' target=\"_blank\">https://wandb.ai/cs23m070/cs6910_assignment1/sweeps/m9vmiqw8</a>"
            ]
          },
          "metadata": {}
        },
        {
          "output_type": "display_data",
          "data": {
            "text/plain": [
              "<IPython.core.display.HTML object>"
            ],
            "text/html": [
              " View run at <a href='https://wandb.ai/cs23m070/cs6910_assignment1/runs/o923burt' target=\"_blank\">https://wandb.ai/cs23m070/cs6910_assignment1/runs/o923burt</a>"
            ]
          },
          "metadata": {}
        },
        {
          "output_type": "stream",
          "name": "stderr",
          "text": [
            "<ipython-input-64-3eec72049e0c>:54: RuntimeWarning: overflow encountered in exp\n",
            "  data = np.exp(data)\n",
            "/usr/local/lib/python3.10/dist-packages/numpy/core/fromnumeric.py:88: RuntimeWarning: overflow encountered in reduce\n",
            "  return ufunc.reduce(obj, axis, dtype, out, **passkwargs)\n",
            "<ipython-input-64-3eec72049e0c>:55: RuntimeWarning: invalid value encountered in divide\n",
            "  return data/np.sum(data,axis=1).reshape(data.shape[0],1)\n"
          ]
        },
        {
          "output_type": "stream",
          "name": "stdout",
          "text": [
            "Initial Accuracy: 0.08371666666666666\n",
            "epoch- 1\n",
            "accuracy- 0.0995\n",
            "loss- nan\n",
            "validation- 0.1045\n",
            "epoch- 2\n",
            "accuracy- 0.0995\n",
            "loss- nan\n",
            "validation- 0.1045\n",
            "epoch- 3\n",
            "accuracy- 0.0995\n",
            "loss- nan\n",
            "validation- 0.1045\n",
            "epoch- 4\n",
            "accuracy- 0.0995\n",
            "loss- nan\n",
            "validation- 0.1045\n",
            "epoch- 5\n",
            "accuracy- 0.0995\n",
            "loss- nan\n",
            "validation- 0.1045\n",
            "epoch- 6\n",
            "accuracy- 0.0995\n",
            "loss- nan\n",
            "validation- 0.1045\n",
            "epoch- 7\n",
            "accuracy- 0.0995\n",
            "loss- nan\n",
            "validation- 0.1045\n",
            "epoch- 8\n",
            "accuracy- 0.0995\n",
            "loss- nan\n",
            "validation- 0.1045\n",
            "epoch- 9\n",
            "accuracy- 0.0995\n",
            "loss- nan\n",
            "validation- 0.1045\n",
            "epoch- 10\n",
            "accuracy- 0.0995\n",
            "loss- nan\n",
            "validation- 0.1045\n"
          ]
        },
        {
          "output_type": "display_data",
          "data": {
            "text/plain": [
              "VBox(children=(Label(value='0.001 MB of 0.001 MB uploaded\\r'), FloatProgress(value=1.0, max=1.0)))"
            ],
            "application/vnd.jupyter.widget-view+json": {
              "version_major": 2,
              "version_minor": 0,
              "model_id": "cd5c669352214feda06a71fc5f69b08c"
            }
          },
          "metadata": {}
        },
        {
          "output_type": "display_data",
          "data": {
            "text/plain": [
              "<IPython.core.display.HTML object>"
            ],
            "text/html": [
              "<style>\n",
              "    table.wandb td:nth-child(1) { padding: 0 10px; text-align: left ; width: auto;} td:nth-child(2) {text-align: left ; width: 100%}\n",
              "    .wandb-row { display: flex; flex-direction: row; flex-wrap: wrap; justify-content: flex-start; width: 100% }\n",
              "    .wandb-col { display: flex; flex-direction: column; flex-basis: 100%; flex: 1; padding: 10px; }\n",
              "    </style>\n",
              "<div class=\"wandb-row\"><div class=\"wandb-col\"><h3>Run history:</h3><br/><table class=\"wandb\"><tr><td>accuracy</td><td>▁▁▁▁▁▁▁▁▁▁</td></tr><tr><td>epoch</td><td>▁▂▃▃▄▅▆▆▇█</td></tr><tr><td>val_accuracy</td><td>▁▁▁▁▁▁▁▁▁▁</td></tr></table><br/></div><div class=\"wandb-col\"><h3>Run summary:</h3><br/><table class=\"wandb\"><tr><td>accuracy</td><td>0.0995</td></tr><tr><td>epoch</td><td>10</td></tr><tr><td>loss</td><td>nan</td></tr><tr><td>val_accuracy</td><td>0.1045</td></tr><tr><td>validation_loss</td><td>nan</td></tr></table><br/></div></div>"
            ]
          },
          "metadata": {}
        },
        {
          "output_type": "display_data",
          "data": {
            "text/plain": [
              "<IPython.core.display.HTML object>"
            ],
            "text/html": [
              " View run <strong style=\"color:#cdcd00\">clean-sweep-1</strong> at: <a href='https://wandb.ai/cs23m070/cs6910_assignment1/runs/o923burt' target=\"_blank\">https://wandb.ai/cs23m070/cs6910_assignment1/runs/o923burt</a><br/>Synced 5 W&B file(s), 0 media file(s), 0 artifact file(s) and 0 other file(s)"
            ]
          },
          "metadata": {}
        },
        {
          "output_type": "display_data",
          "data": {
            "text/plain": [
              "<IPython.core.display.HTML object>"
            ],
            "text/html": [
              "Find logs at: <code>./wandb/run-20240313_114539-o923burt/logs</code>"
            ]
          },
          "metadata": {}
        },
        {
          "output_type": "stream",
          "name": "stderr",
          "text": [
            "\u001b[34m\u001b[1mwandb\u001b[0m: Agent Starting Run: jgs5llle with config:\n",
            "\u001b[34m\u001b[1mwandb\u001b[0m: \tactivation: tanh\n",
            "\u001b[34m\u001b[1mwandb\u001b[0m: \tbatch_sz: 16\n",
            "\u001b[34m\u001b[1mwandb\u001b[0m: \tbeta1: 0.9\n",
            "\u001b[34m\u001b[1mwandb\u001b[0m: \tbeta2: 0.999\n",
            "\u001b[34m\u001b[1mwandb\u001b[0m: \tdataset: fashion_mnist\n",
            "\u001b[34m\u001b[1mwandb\u001b[0m: \tdecay: 0\n",
            "\u001b[34m\u001b[1mwandb\u001b[0m: \tepochs: 10\n",
            "\u001b[34m\u001b[1mwandb\u001b[0m: \tepsilon: 1e-10\n",
            "\u001b[34m\u001b[1mwandb\u001b[0m: \thidden_lyrs: 5\n",
            "\u001b[34m\u001b[1mwandb\u001b[0m: \tinpt_sz: 784\n",
            "\u001b[34m\u001b[1mwandb\u001b[0m: \tlearning_rate: 0.0001\n",
            "\u001b[34m\u001b[1mwandb\u001b[0m: \tloss_function: cross_entropy\n",
            "\u001b[34m\u001b[1mwandb\u001b[0m: \tmomentum: 0.8\n",
            "\u001b[34m\u001b[1mwandb\u001b[0m: \tneurons: 64\n",
            "\u001b[34m\u001b[1mwandb\u001b[0m: \toptimizer: rmsprop\n",
            "\u001b[34m\u001b[1mwandb\u001b[0m: \toupt_activation: softmax\n",
            "\u001b[34m\u001b[1mwandb\u001b[0m: \toupt_sz: 10\n",
            "\u001b[34m\u001b[1mwandb\u001b[0m: \tweight_initialisation: random\n"
          ]
        },
        {
          "output_type": "display_data",
          "data": {
            "text/plain": [
              "<IPython.core.display.HTML object>"
            ],
            "text/html": [
              "Tracking run with wandb version 0.16.4"
            ]
          },
          "metadata": {}
        },
        {
          "output_type": "display_data",
          "data": {
            "text/plain": [
              "<IPython.core.display.HTML object>"
            ],
            "text/html": [
              "Run data is saved locally in <code>/content/wandb/run-20240313_114637-jgs5llle</code>"
            ]
          },
          "metadata": {}
        },
        {
          "output_type": "display_data",
          "data": {
            "text/plain": [
              "<IPython.core.display.HTML object>"
            ],
            "text/html": [
              "Syncing run <strong><a href='https://wandb.ai/cs23m070/cs6910_assignment1/runs/jgs5llle' target=\"_blank\">exalted-sweep-2</a></strong> to <a href='https://wandb.ai/cs23m070/cs6910_assignment1' target=\"_blank\">Weights & Biases</a> (<a href='https://wandb.me/run' target=\"_blank\">docs</a>)<br/>Sweep page: <a href='https://wandb.ai/cs23m070/cs6910_assignment1/sweeps/m9vmiqw8' target=\"_blank\">https://wandb.ai/cs23m070/cs6910_assignment1/sweeps/m9vmiqw8</a>"
            ]
          },
          "metadata": {}
        },
        {
          "output_type": "display_data",
          "data": {
            "text/plain": [
              "<IPython.core.display.HTML object>"
            ],
            "text/html": [
              " View project at <a href='https://wandb.ai/cs23m070/cs6910_assignment1' target=\"_blank\">https://wandb.ai/cs23m070/cs6910_assignment1</a>"
            ]
          },
          "metadata": {}
        },
        {
          "output_type": "display_data",
          "data": {
            "text/plain": [
              "<IPython.core.display.HTML object>"
            ],
            "text/html": [
              " View sweep at <a href='https://wandb.ai/cs23m070/cs6910_assignment1/sweeps/m9vmiqw8' target=\"_blank\">https://wandb.ai/cs23m070/cs6910_assignment1/sweeps/m9vmiqw8</a>"
            ]
          },
          "metadata": {}
        },
        {
          "output_type": "display_data",
          "data": {
            "text/plain": [
              "<IPython.core.display.HTML object>"
            ],
            "text/html": [
              " View run at <a href='https://wandb.ai/cs23m070/cs6910_assignment1/runs/jgs5llle' target=\"_blank\">https://wandb.ai/cs23m070/cs6910_assignment1/runs/jgs5llle</a>"
            ]
          },
          "metadata": {}
        },
        {
          "output_type": "stream",
          "name": "stdout",
          "text": [
            "Initial Accuracy: 0.1341\n",
            "epoch- 1\n",
            "accuracy- 0.23166666666666666\n",
            "loss- 6.423079215361144\n",
            "validation- 0.22883333333333333\n",
            "epoch- 2\n",
            "accuracy- 0.303462962962963\n",
            "loss- 4.889923314584821\n",
            "validation- 0.30666666666666664\n",
            "epoch- 3\n",
            "accuracy- 0.35274074074074074\n",
            "loss- 4.01608046677932\n",
            "validation- 0.341\n",
            "epoch- 4\n",
            "accuracy- 0.3922037037037037\n",
            "loss- 3.456573135989714\n",
            "validation- 0.38033333333333336\n",
            "epoch- 5\n",
            "accuracy- 0.4081296296296296\n",
            "loss- 3.089246020272492\n",
            "validation- 0.3925\n",
            "epoch- 6\n",
            "accuracy- 0.4329074074074074\n",
            "loss- 2.7617911518177625\n",
            "validation- 0.41433333333333333\n",
            "epoch- 7\n",
            "accuracy- 0.44657407407407407\n",
            "loss- 2.5066861317305045\n",
            "validation- 0.432\n",
            "epoch- 8\n",
            "accuracy- 0.4667222222222222\n",
            "loss- 2.253001373481445\n",
            "validation- 0.4525\n",
            "epoch- 9\n",
            "accuracy- 0.4812592592592593\n",
            "loss- 2.0818537606879977\n",
            "validation- 0.4673333333333333\n",
            "epoch- 10\n",
            "accuracy- 0.5005\n",
            "loss- 1.907236322739168\n",
            "validation- 0.48833333333333334\n"
          ]
        },
        {
          "output_type": "display_data",
          "data": {
            "text/plain": [
              "VBox(children=(Label(value='0.001 MB of 0.001 MB uploaded\\r'), FloatProgress(value=1.0, max=1.0)))"
            ],
            "application/vnd.jupyter.widget-view+json": {
              "version_major": 2,
              "version_minor": 0,
              "model_id": "5743b57b9d8a4815b336d2255663c104"
            }
          },
          "metadata": {}
        },
        {
          "output_type": "display_data",
          "data": {
            "text/plain": [
              "<IPython.core.display.HTML object>"
            ],
            "text/html": [
              "<style>\n",
              "    table.wandb td:nth-child(1) { padding: 0 10px; text-align: left ; width: auto;} td:nth-child(2) {text-align: left ; width: 100%}\n",
              "    .wandb-row { display: flex; flex-direction: row; flex-wrap: wrap; justify-content: flex-start; width: 100% }\n",
              "    .wandb-col { display: flex; flex-direction: column; flex-basis: 100%; flex: 1; padding: 10px; }\n",
              "    </style>\n",
              "<div class=\"wandb-row\"><div class=\"wandb-col\"><h3>Run history:</h3><br/><table class=\"wandb\"><tr><td>accuracy</td><td>▁▃▄▅▆▆▇▇▇█</td></tr><tr><td>epoch</td><td>▁▂▃▃▄▅▆▆▇█</td></tr><tr><td>loss</td><td>█▆▄▃▃▂▂▂▁▁</td></tr><tr><td>val_accuracy</td><td>▁▃▄▅▅▆▆▇▇█</td></tr><tr><td>validation_loss</td><td>█▆▄▄▃▂▂▂▁▁</td></tr></table><br/></div><div class=\"wandb-col\"><h3>Run summary:</h3><br/><table class=\"wandb\"><tr><td>accuracy</td><td>0.5005</td></tr><tr><td>epoch</td><td>10</td></tr><tr><td>loss</td><td>1.90724</td></tr><tr><td>val_accuracy</td><td>0.48833</td></tr><tr><td>validation_loss</td><td>2.00023</td></tr></table><br/></div></div>"
            ]
          },
          "metadata": {}
        },
        {
          "output_type": "display_data",
          "data": {
            "text/plain": [
              "<IPython.core.display.HTML object>"
            ],
            "text/html": [
              " View run <strong style=\"color:#cdcd00\">exalted-sweep-2</strong> at: <a href='https://wandb.ai/cs23m070/cs6910_assignment1/runs/jgs5llle' target=\"_blank\">https://wandb.ai/cs23m070/cs6910_assignment1/runs/jgs5llle</a><br/>Synced 5 W&B file(s), 0 media file(s), 0 artifact file(s) and 0 other file(s)"
            ]
          },
          "metadata": {}
        },
        {
          "output_type": "display_data",
          "data": {
            "text/plain": [
              "<IPython.core.display.HTML object>"
            ],
            "text/html": [
              "Find logs at: <code>./wandb/run-20240313_114637-jgs5llle/logs</code>"
            ]
          },
          "metadata": {}
        },
        {
          "output_type": "stream",
          "name": "stderr",
          "text": [
            "\u001b[34m\u001b[1mwandb\u001b[0m: Agent Starting Run: cuxftjj0 with config:\n",
            "\u001b[34m\u001b[1mwandb\u001b[0m: \tactivation: tanh\n",
            "\u001b[34m\u001b[1mwandb\u001b[0m: \tbatch_sz: 32\n",
            "\u001b[34m\u001b[1mwandb\u001b[0m: \tbeta1: 0.9\n",
            "\u001b[34m\u001b[1mwandb\u001b[0m: \tbeta2: 0.999\n",
            "\u001b[34m\u001b[1mwandb\u001b[0m: \tdataset: fashion_mnist\n",
            "\u001b[34m\u001b[1mwandb\u001b[0m: \tdecay: 0.005\n",
            "\u001b[34m\u001b[1mwandb\u001b[0m: \tepochs: 10\n",
            "\u001b[34m\u001b[1mwandb\u001b[0m: \tepsilon: 1e-08\n",
            "\u001b[34m\u001b[1mwandb\u001b[0m: \thidden_lyrs: 5\n",
            "\u001b[34m\u001b[1mwandb\u001b[0m: \tinpt_sz: 784\n",
            "\u001b[34m\u001b[1mwandb\u001b[0m: \tlearning_rate: 0.0001\n",
            "\u001b[34m\u001b[1mwandb\u001b[0m: \tloss_function: cross_entropy\n",
            "\u001b[34m\u001b[1mwandb\u001b[0m: \tmomentum: 0.8\n",
            "\u001b[34m\u001b[1mwandb\u001b[0m: \tneurons: 32\n",
            "\u001b[34m\u001b[1mwandb\u001b[0m: \toptimizer: adam\n",
            "\u001b[34m\u001b[1mwandb\u001b[0m: \toupt_activation: softmax\n",
            "\u001b[34m\u001b[1mwandb\u001b[0m: \toupt_sz: 10\n",
            "\u001b[34m\u001b[1mwandb\u001b[0m: \tweight_initialisation: xavier\n"
          ]
        },
        {
          "output_type": "display_data",
          "data": {
            "text/plain": [
              "<IPython.core.display.HTML object>"
            ],
            "text/html": [
              "Tracking run with wandb version 0.16.4"
            ]
          },
          "metadata": {}
        },
        {
          "output_type": "display_data",
          "data": {
            "text/plain": [
              "<IPython.core.display.HTML object>"
            ],
            "text/html": [
              "Run data is saved locally in <code>/content/wandb/run-20240313_114909-cuxftjj0</code>"
            ]
          },
          "metadata": {}
        },
        {
          "output_type": "display_data",
          "data": {
            "text/plain": [
              "<IPython.core.display.HTML object>"
            ],
            "text/html": [
              "Syncing run <strong><a href='https://wandb.ai/cs23m070/cs6910_assignment1/runs/cuxftjj0' target=\"_blank\">earthy-sweep-3</a></strong> to <a href='https://wandb.ai/cs23m070/cs6910_assignment1' target=\"_blank\">Weights & Biases</a> (<a href='https://wandb.me/run' target=\"_blank\">docs</a>)<br/>Sweep page: <a href='https://wandb.ai/cs23m070/cs6910_assignment1/sweeps/m9vmiqw8' target=\"_blank\">https://wandb.ai/cs23m070/cs6910_assignment1/sweeps/m9vmiqw8</a>"
            ]
          },
          "metadata": {}
        },
        {
          "output_type": "display_data",
          "data": {
            "text/plain": [
              "<IPython.core.display.HTML object>"
            ],
            "text/html": [
              " View project at <a href='https://wandb.ai/cs23m070/cs6910_assignment1' target=\"_blank\">https://wandb.ai/cs23m070/cs6910_assignment1</a>"
            ]
          },
          "metadata": {}
        },
        {
          "output_type": "display_data",
          "data": {
            "text/plain": [
              "<IPython.core.display.HTML object>"
            ],
            "text/html": [
              " View sweep at <a href='https://wandb.ai/cs23m070/cs6910_assignment1/sweeps/m9vmiqw8' target=\"_blank\">https://wandb.ai/cs23m070/cs6910_assignment1/sweeps/m9vmiqw8</a>"
            ]
          },
          "metadata": {}
        },
        {
          "output_type": "display_data",
          "data": {
            "text/plain": [
              "<IPython.core.display.HTML object>"
            ],
            "text/html": [
              " View run at <a href='https://wandb.ai/cs23m070/cs6910_assignment1/runs/cuxftjj0' target=\"_blank\">https://wandb.ai/cs23m070/cs6910_assignment1/runs/cuxftjj0</a>"
            ]
          },
          "metadata": {}
        },
        {
          "output_type": "stream",
          "name": "stdout",
          "text": [
            "Initial Accuracy: 0.05025\n",
            "epoch- 1\n",
            "accuracy- 0.7285925925925926\n",
            "loss- 1.041951691197528\n",
            "validation- 0.7248333333333333\n",
            "epoch- 2\n",
            "accuracy- 0.7692407407407408\n",
            "loss- 0.8018606174930152\n",
            "validation- 0.7638333333333334\n",
            "epoch- 3\n",
            "accuracy- 0.7843333333333333\n",
            "loss- 0.6961107449404801\n",
            "validation- 0.7791666666666667\n",
            "epoch- 4\n",
            "accuracy- 0.7941296296296296\n",
            "loss- 0.6341048104414867\n",
            "validation- 0.7865\n",
            "epoch- 5\n",
            "accuracy- 0.8032777777777778\n",
            "loss- 0.593108431029711\n",
            "validation- 0.793\n",
            "epoch- 6\n",
            "accuracy- 0.8122037037037036\n",
            "loss- 0.563825123734603\n",
            "validation- 0.801\n",
            "epoch- 7\n",
            "accuracy- 0.818462962962963\n",
            "loss- 0.541570642194339\n",
            "validation- 0.8076666666666666\n",
            "epoch- 8\n",
            "accuracy- 0.8240185185185185\n",
            "loss- 0.5238076593245494\n",
            "validation- 0.8123333333333334\n",
            "epoch- 9\n",
            "accuracy- 0.8282407407407407\n",
            "loss- 0.5090944171791162\n",
            "validation- 0.8175\n",
            "epoch- 10\n",
            "accuracy- 0.832574074074074\n",
            "loss- 0.4965581857856809\n",
            "validation- 0.821\n"
          ]
        },
        {
          "output_type": "display_data",
          "data": {
            "text/plain": [
              "VBox(children=(Label(value='0.001 MB of 0.012 MB uploaded\\r'), FloatProgress(value=0.08616504854368932, max=1.…"
            ],
            "application/vnd.jupyter.widget-view+json": {
              "version_major": 2,
              "version_minor": 0,
              "model_id": "9e1f7171be134182a36791401a646c36"
            }
          },
          "metadata": {}
        },
        {
          "output_type": "display_data",
          "data": {
            "text/plain": [
              "<IPython.core.display.HTML object>"
            ],
            "text/html": [
              "<style>\n",
              "    table.wandb td:nth-child(1) { padding: 0 10px; text-align: left ; width: auto;} td:nth-child(2) {text-align: left ; width: 100%}\n",
              "    .wandb-row { display: flex; flex-direction: row; flex-wrap: wrap; justify-content: flex-start; width: 100% }\n",
              "    .wandb-col { display: flex; flex-direction: column; flex-basis: 100%; flex: 1; padding: 10px; }\n",
              "    </style>\n",
              "<div class=\"wandb-row\"><div class=\"wandb-col\"><h3>Run history:</h3><br/><table class=\"wandb\"><tr><td>accuracy</td><td>▁▄▅▅▆▇▇▇██</td></tr><tr><td>epoch</td><td>▁▂▃▃▄▅▆▆▇█</td></tr><tr><td>loss</td><td>█▅▄▃▂▂▂▁▁▁</td></tr><tr><td>val_accuracy</td><td>▁▄▅▅▆▇▇▇██</td></tr><tr><td>validation_loss</td><td>█▅▄▃▂▂▂▁▁▁</td></tr></table><br/></div><div class=\"wandb-col\"><h3>Run summary:</h3><br/><table class=\"wandb\"><tr><td>accuracy</td><td>0.83257</td></tr><tr><td>epoch</td><td>10</td></tr><tr><td>loss</td><td>0.49656</td></tr><tr><td>val_accuracy</td><td>0.821</td></tr><tr><td>validation_loss</td><td>0.51793</td></tr></table><br/></div></div>"
            ]
          },
          "metadata": {}
        },
        {
          "output_type": "display_data",
          "data": {
            "text/plain": [
              "<IPython.core.display.HTML object>"
            ],
            "text/html": [
              " View run <strong style=\"color:#cdcd00\">earthy-sweep-3</strong> at: <a href='https://wandb.ai/cs23m070/cs6910_assignment1/runs/cuxftjj0' target=\"_blank\">https://wandb.ai/cs23m070/cs6910_assignment1/runs/cuxftjj0</a><br/>Synced 5 W&B file(s), 0 media file(s), 0 artifact file(s) and 0 other file(s)"
            ]
          },
          "metadata": {}
        },
        {
          "output_type": "display_data",
          "data": {
            "text/plain": [
              "<IPython.core.display.HTML object>"
            ],
            "text/html": [
              "Find logs at: <code>./wandb/run-20240313_114909-cuxftjj0/logs</code>"
            ]
          },
          "metadata": {}
        },
        {
          "output_type": "stream",
          "name": "stderr",
          "text": [
            "\u001b[34m\u001b[1mwandb\u001b[0m: Agent Starting Run: 7zt9anjz with config:\n",
            "\u001b[34m\u001b[1mwandb\u001b[0m: \tactivation: tanh\n",
            "\u001b[34m\u001b[1mwandb\u001b[0m: \tbatch_sz: 32\n",
            "\u001b[34m\u001b[1mwandb\u001b[0m: \tbeta1: 0.9\n",
            "\u001b[34m\u001b[1mwandb\u001b[0m: \tbeta2: 0.999\n",
            "\u001b[34m\u001b[1mwandb\u001b[0m: \tdataset: fashion_mnist\n",
            "\u001b[34m\u001b[1mwandb\u001b[0m: \tdecay: 0.05\n",
            "\u001b[34m\u001b[1mwandb\u001b[0m: \tepochs: 10\n",
            "\u001b[34m\u001b[1mwandb\u001b[0m: \tepsilon: 1e-08\n",
            "\u001b[34m\u001b[1mwandb\u001b[0m: \thidden_lyrs: 5\n",
            "\u001b[34m\u001b[1mwandb\u001b[0m: \tinpt_sz: 784\n",
            "\u001b[34m\u001b[1mwandb\u001b[0m: \tlearning_rate: 0.001\n",
            "\u001b[34m\u001b[1mwandb\u001b[0m: \tloss_function: cross_entropy\n",
            "\u001b[34m\u001b[1mwandb\u001b[0m: \tmomentum: 0.9\n",
            "\u001b[34m\u001b[1mwandb\u001b[0m: \tneurons: 32\n",
            "\u001b[34m\u001b[1mwandb\u001b[0m: \toptimizer: nag\n",
            "\u001b[34m\u001b[1mwandb\u001b[0m: \toupt_activation: softmax\n",
            "\u001b[34m\u001b[1mwandb\u001b[0m: \toupt_sz: 10\n",
            "\u001b[34m\u001b[1mwandb\u001b[0m: \tweight_initialisation: xavier\n"
          ]
        },
        {
          "output_type": "display_data",
          "data": {
            "text/plain": [
              "<IPython.core.display.HTML object>"
            ],
            "text/html": [
              "Tracking run with wandb version 0.16.4"
            ]
          },
          "metadata": {}
        },
        {
          "output_type": "display_data",
          "data": {
            "text/plain": [
              "<IPython.core.display.HTML object>"
            ],
            "text/html": [
              "Run data is saved locally in <code>/content/wandb/run-20240313_115021-7zt9anjz</code>"
            ]
          },
          "metadata": {}
        },
        {
          "output_type": "display_data",
          "data": {
            "text/plain": [
              "<IPython.core.display.HTML object>"
            ],
            "text/html": [
              "Syncing run <strong><a href='https://wandb.ai/cs23m070/cs6910_assignment1/runs/7zt9anjz' target=\"_blank\">electric-sweep-4</a></strong> to <a href='https://wandb.ai/cs23m070/cs6910_assignment1' target=\"_blank\">Weights & Biases</a> (<a href='https://wandb.me/run' target=\"_blank\">docs</a>)<br/>Sweep page: <a href='https://wandb.ai/cs23m070/cs6910_assignment1/sweeps/m9vmiqw8' target=\"_blank\">https://wandb.ai/cs23m070/cs6910_assignment1/sweeps/m9vmiqw8</a>"
            ]
          },
          "metadata": {}
        },
        {
          "output_type": "display_data",
          "data": {
            "text/plain": [
              "<IPython.core.display.HTML object>"
            ],
            "text/html": [
              " View project at <a href='https://wandb.ai/cs23m070/cs6910_assignment1' target=\"_blank\">https://wandb.ai/cs23m070/cs6910_assignment1</a>"
            ]
          },
          "metadata": {}
        },
        {
          "output_type": "display_data",
          "data": {
            "text/plain": [
              "<IPython.core.display.HTML object>"
            ],
            "text/html": [
              " View sweep at <a href='https://wandb.ai/cs23m070/cs6910_assignment1/sweeps/m9vmiqw8' target=\"_blank\">https://wandb.ai/cs23m070/cs6910_assignment1/sweeps/m9vmiqw8</a>"
            ]
          },
          "metadata": {}
        },
        {
          "output_type": "display_data",
          "data": {
            "text/plain": [
              "<IPython.core.display.HTML object>"
            ],
            "text/html": [
              " View run at <a href='https://wandb.ai/cs23m070/cs6910_assignment1/runs/7zt9anjz' target=\"_blank\">https://wandb.ai/cs23m070/cs6910_assignment1/runs/7zt9anjz</a>"
            ]
          },
          "metadata": {}
        },
        {
          "output_type": "stream",
          "name": "stdout",
          "text": [
            "Initial Accuracy: 0.05025\n",
            "epoch- 1\n",
            "accuracy- 0.7053888888888888\n",
            "loss- 0.8347227226284026\n",
            "validation- 0.707\n",
            "epoch- 2\n",
            "accuracy- 0.7768703703703703\n",
            "loss- 0.6223032604883\n",
            "validation- 0.7715\n",
            "epoch- 3\n",
            "accuracy- 0.8153148148148148\n",
            "loss- 0.5410241057306028\n",
            "validation- 0.807\n",
            "epoch- 4\n",
            "accuracy- 0.8323333333333334\n",
            "loss- 0.4936044555630466\n",
            "validation- 0.826\n",
            "epoch- 5\n",
            "accuracy- 0.8434814814814815\n",
            "loss- 0.4625572179949479\n",
            "validation- 0.8365\n",
            "epoch- 6\n",
            "accuracy- 0.8525925925925926\n",
            "loss- 0.4410999643168477\n",
            "validation- 0.8435\n",
            "epoch- 7\n",
            "accuracy- 0.8589444444444444\n",
            "loss- 0.42469665769113957\n",
            "validation- 0.8465\n",
            "epoch- 8\n",
            "accuracy- 0.8639074074074075\n",
            "loss- 0.4119294892458105\n",
            "validation- 0.8508333333333333\n",
            "epoch- 9\n",
            "accuracy- 0.8679444444444444\n",
            "loss- 0.40193178857835987\n",
            "validation- 0.8533333333333334\n",
            "epoch- 10\n",
            "accuracy- 0.8708703703703704\n",
            "loss- 0.39386302938461093\n",
            "validation- 0.8563333333333333\n"
          ]
        },
        {
          "output_type": "display_data",
          "data": {
            "text/plain": [
              "VBox(children=(Label(value='0.001 MB of 0.001 MB uploaded\\r'), FloatProgress(value=1.0, max=1.0)))"
            ],
            "application/vnd.jupyter.widget-view+json": {
              "version_major": 2,
              "version_minor": 0,
              "model_id": "aa5525dfb8a04ab9b905c5dba79c6d95"
            }
          },
          "metadata": {}
        },
        {
          "output_type": "display_data",
          "data": {
            "text/plain": [
              "<IPython.core.display.HTML object>"
            ],
            "text/html": [
              "<style>\n",
              "    table.wandb td:nth-child(1) { padding: 0 10px; text-align: left ; width: auto;} td:nth-child(2) {text-align: left ; width: 100%}\n",
              "    .wandb-row { display: flex; flex-direction: row; flex-wrap: wrap; justify-content: flex-start; width: 100% }\n",
              "    .wandb-col { display: flex; flex-direction: column; flex-basis: 100%; flex: 1; padding: 10px; }\n",
              "    </style>\n",
              "<div class=\"wandb-row\"><div class=\"wandb-col\"><h3>Run history:</h3><br/><table class=\"wandb\"><tr><td>accuracy</td><td>▁▄▆▆▇▇▇███</td></tr><tr><td>epoch</td><td>▁▂▃▃▄▅▆▆▇█</td></tr><tr><td>loss</td><td>█▅▃▃▂▂▁▁▁▁</td></tr><tr><td>val_accuracy</td><td>▁▄▆▇▇▇████</td></tr><tr><td>validation_loss</td><td>█▄▃▂▂▂▁▁▁▁</td></tr></table><br/></div><div class=\"wandb-col\"><h3>Run summary:</h3><br/><table class=\"wandb\"><tr><td>accuracy</td><td>0.87087</td></tr><tr><td>epoch</td><td>10</td></tr><tr><td>loss</td><td>0.39386</td></tr><tr><td>val_accuracy</td><td>0.85633</td></tr><tr><td>validation_loss</td><td>0.42627</td></tr></table><br/></div></div>"
            ]
          },
          "metadata": {}
        },
        {
          "output_type": "display_data",
          "data": {
            "text/plain": [
              "<IPython.core.display.HTML object>"
            ],
            "text/html": [
              " View run <strong style=\"color:#cdcd00\">electric-sweep-4</strong> at: <a href='https://wandb.ai/cs23m070/cs6910_assignment1/runs/7zt9anjz' target=\"_blank\">https://wandb.ai/cs23m070/cs6910_assignment1/runs/7zt9anjz</a><br/>Synced 5 W&B file(s), 0 media file(s), 0 artifact file(s) and 0 other file(s)"
            ]
          },
          "metadata": {}
        },
        {
          "output_type": "display_data",
          "data": {
            "text/plain": [
              "<IPython.core.display.HTML object>"
            ],
            "text/html": [
              "Find logs at: <code>./wandb/run-20240313_115021-7zt9anjz/logs</code>"
            ]
          },
          "metadata": {}
        },
        {
          "output_type": "stream",
          "name": "stderr",
          "text": [
            "\u001b[34m\u001b[1mwandb\u001b[0m: Agent Starting Run: 4z7of782 with config:\n",
            "\u001b[34m\u001b[1mwandb\u001b[0m: \tactivation: sigmoid\n",
            "\u001b[34m\u001b[1mwandb\u001b[0m: \tbatch_sz: 64\n",
            "\u001b[34m\u001b[1mwandb\u001b[0m: \tbeta1: 0.9\n",
            "\u001b[34m\u001b[1mwandb\u001b[0m: \tbeta2: 0.999\n",
            "\u001b[34m\u001b[1mwandb\u001b[0m: \tdataset: fashion_mnist\n",
            "\u001b[34m\u001b[1mwandb\u001b[0m: \tdecay: 0.05\n",
            "\u001b[34m\u001b[1mwandb\u001b[0m: \tepochs: 10\n",
            "\u001b[34m\u001b[1mwandb\u001b[0m: \tepsilon: 1e-08\n",
            "\u001b[34m\u001b[1mwandb\u001b[0m: \thidden_lyrs: 5\n",
            "\u001b[34m\u001b[1mwandb\u001b[0m: \tinpt_sz: 784\n",
            "\u001b[34m\u001b[1mwandb\u001b[0m: \tlearning_rate: 0.01\n",
            "\u001b[34m\u001b[1mwandb\u001b[0m: \tloss_function: cross_entropy\n",
            "\u001b[34m\u001b[1mwandb\u001b[0m: \tmomentum: 0.8\n",
            "\u001b[34m\u001b[1mwandb\u001b[0m: \tneurons: 16\n",
            "\u001b[34m\u001b[1mwandb\u001b[0m: \toptimizer: rmsprop\n",
            "\u001b[34m\u001b[1mwandb\u001b[0m: \toupt_activation: softmax\n",
            "\u001b[34m\u001b[1mwandb\u001b[0m: \toupt_sz: 10\n",
            "\u001b[34m\u001b[1mwandb\u001b[0m: \tweight_initialisation: xavier\n"
          ]
        },
        {
          "output_type": "display_data",
          "data": {
            "text/plain": [
              "<IPython.core.display.HTML object>"
            ],
            "text/html": [
              "Tracking run with wandb version 0.16.4"
            ]
          },
          "metadata": {}
        },
        {
          "output_type": "display_data",
          "data": {
            "text/plain": [
              "<IPython.core.display.HTML object>"
            ],
            "text/html": [
              "Run data is saved locally in <code>/content/wandb/run-20240313_115125-4z7of782</code>"
            ]
          },
          "metadata": {}
        },
        {
          "output_type": "display_data",
          "data": {
            "text/plain": [
              "<IPython.core.display.HTML object>"
            ],
            "text/html": [
              "Syncing run <strong><a href='https://wandb.ai/cs23m070/cs6910_assignment1/runs/4z7of782' target=\"_blank\">drawn-sweep-5</a></strong> to <a href='https://wandb.ai/cs23m070/cs6910_assignment1' target=\"_blank\">Weights & Biases</a> (<a href='https://wandb.me/run' target=\"_blank\">docs</a>)<br/>Sweep page: <a href='https://wandb.ai/cs23m070/cs6910_assignment1/sweeps/m9vmiqw8' target=\"_blank\">https://wandb.ai/cs23m070/cs6910_assignment1/sweeps/m9vmiqw8</a>"
            ]
          },
          "metadata": {}
        },
        {
          "output_type": "display_data",
          "data": {
            "text/plain": [
              "<IPython.core.display.HTML object>"
            ],
            "text/html": [
              " View project at <a href='https://wandb.ai/cs23m070/cs6910_assignment1' target=\"_blank\">https://wandb.ai/cs23m070/cs6910_assignment1</a>"
            ]
          },
          "metadata": {}
        },
        {
          "output_type": "display_data",
          "data": {
            "text/plain": [
              "<IPython.core.display.HTML object>"
            ],
            "text/html": [
              " View sweep at <a href='https://wandb.ai/cs23m070/cs6910_assignment1/sweeps/m9vmiqw8' target=\"_blank\">https://wandb.ai/cs23m070/cs6910_assignment1/sweeps/m9vmiqw8</a>"
            ]
          },
          "metadata": {}
        },
        {
          "output_type": "display_data",
          "data": {
            "text/plain": [
              "<IPython.core.display.HTML object>"
            ],
            "text/html": [
              " View run at <a href='https://wandb.ai/cs23m070/cs6910_assignment1/runs/4z7of782' target=\"_blank\">https://wandb.ai/cs23m070/cs6910_assignment1/runs/4z7of782</a>"
            ]
          },
          "metadata": {}
        },
        {
          "output_type": "stream",
          "name": "stdout",
          "text": [
            "Initial Accuracy: 0.1\n",
            "epoch- 1\n",
            "accuracy- 0.6634814814814814\n",
            "loss- 0.9383268391113\n",
            "validation- 0.6665\n",
            "epoch- 2\n",
            "accuracy- 0.6928148148148148\n",
            "loss- 0.8406392655356321\n",
            "validation- 0.6923333333333334\n",
            "epoch- 3\n",
            "accuracy- 0.7258888888888889\n",
            "loss- 0.787655909707321\n",
            "validation- 0.7296666666666667\n",
            "epoch- 4\n",
            "accuracy- 0.7381851851851852\n",
            "loss- 0.7107724096404658\n",
            "validation- 0.7293333333333333\n",
            "epoch- 5\n",
            "accuracy- 0.7452592592592593\n",
            "loss- 0.6959981445467192\n",
            "validation- 0.7458333333333333\n",
            "epoch- 6\n",
            "accuracy- 0.7225185185185186\n",
            "loss- 0.7279302901706057\n",
            "validation- 0.7146666666666667\n",
            "epoch- 7\n",
            "accuracy- 0.7692037037037037\n",
            "loss- 0.6721066653302986\n",
            "validation- 0.7661666666666667\n",
            "epoch- 8\n",
            "accuracy- 0.7782407407407408\n",
            "loss- 0.7008864669937559\n",
            "validation- 0.7766666666666666\n",
            "epoch- 9\n",
            "accuracy- 0.7908888888888889\n",
            "loss- 0.6131201910158771\n",
            "validation- 0.7761666666666667\n",
            "epoch- 10\n",
            "accuracy- 0.8102592592592592\n",
            "loss- 0.5783959101314752\n",
            "validation- 0.8018333333333333\n"
          ]
        },
        {
          "output_type": "display_data",
          "data": {
            "text/plain": [
              "VBox(children=(Label(value='0.001 MB of 0.001 MB uploaded\\r'), FloatProgress(value=1.0, max=1.0)))"
            ],
            "application/vnd.jupyter.widget-view+json": {
              "version_major": 2,
              "version_minor": 0,
              "model_id": "b905fa9e052a40f9ab9e290b1febc5bc"
            }
          },
          "metadata": {}
        },
        {
          "output_type": "display_data",
          "data": {
            "text/plain": [
              "<IPython.core.display.HTML object>"
            ],
            "text/html": [
              "<style>\n",
              "    table.wandb td:nth-child(1) { padding: 0 10px; text-align: left ; width: auto;} td:nth-child(2) {text-align: left ; width: 100%}\n",
              "    .wandb-row { display: flex; flex-direction: row; flex-wrap: wrap; justify-content: flex-start; width: 100% }\n",
              "    .wandb-col { display: flex; flex-direction: column; flex-basis: 100%; flex: 1; padding: 10px; }\n",
              "    </style>\n",
              "<div class=\"wandb-row\"><div class=\"wandb-col\"><h3>Run history:</h3><br/><table class=\"wandb\"><tr><td>accuracy</td><td>▁▂▄▅▅▄▆▆▇█</td></tr><tr><td>epoch</td><td>▁▂▃▃▄▅▆▆▇█</td></tr><tr><td>loss</td><td>█▆▅▄▃▄▃▃▂▁</td></tr><tr><td>val_accuracy</td><td>▁▂▄▄▅▃▆▇▇█</td></tr><tr><td>validation_loss</td><td>█▆▅▄▃▄▃▃▂▁</td></tr></table><br/></div><div class=\"wandb-col\"><h3>Run summary:</h3><br/><table class=\"wandb\"><tr><td>accuracy</td><td>0.81026</td></tr><tr><td>epoch</td><td>10</td></tr><tr><td>loss</td><td>0.5784</td></tr><tr><td>val_accuracy</td><td>0.80183</td></tr><tr><td>validation_loss</td><td>0.61233</td></tr></table><br/></div></div>"
            ]
          },
          "metadata": {}
        },
        {
          "output_type": "display_data",
          "data": {
            "text/plain": [
              "<IPython.core.display.HTML object>"
            ],
            "text/html": [
              " View run <strong style=\"color:#cdcd00\">drawn-sweep-5</strong> at: <a href='https://wandb.ai/cs23m070/cs6910_assignment1/runs/4z7of782' target=\"_blank\">https://wandb.ai/cs23m070/cs6910_assignment1/runs/4z7of782</a><br/>Synced 5 W&B file(s), 0 media file(s), 0 artifact file(s) and 0 other file(s)"
            ]
          },
          "metadata": {}
        },
        {
          "output_type": "display_data",
          "data": {
            "text/plain": [
              "<IPython.core.display.HTML object>"
            ],
            "text/html": [
              "Find logs at: <code>./wandb/run-20240313_115125-4z7of782/logs</code>"
            ]
          },
          "metadata": {}
        }
      ]
    }
  ]
}