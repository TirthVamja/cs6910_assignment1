{
  "nbformat": 4,
  "nbformat_minor": 0,
  "metadata": {
    "colab": {
      "provenance": [],
      "authorship_tag": "ABX9TyNEWcxaQHcIXyN81TWB4bTf",
      "include_colab_link": true
    },
    "kernelspec": {
      "name": "python3",
      "display_name": "Python 3"
    },
    "language_info": {
      "name": "python"
    },
    "widgets": {
      "application/vnd.jupyter.widget-state+json": {
        "a70f629048b044fd962f1dcabe69c5c4": {
          "model_module": "@jupyter-widgets/controls",
          "model_name": "VBoxModel",
          "model_module_version": "1.5.0",
          "state": {
            "_dom_classes": [],
            "_model_module": "@jupyter-widgets/controls",
            "_model_module_version": "1.5.0",
            "_model_name": "VBoxModel",
            "_view_count": null,
            "_view_module": "@jupyter-widgets/controls",
            "_view_module_version": "1.5.0",
            "_view_name": "VBoxView",
            "box_style": "",
            "children": [
              "IPY_MODEL_29830ce353694d61975a740373771121",
              "IPY_MODEL_9b5e1819c5cc45949f505fafae64a2d2"
            ],
            "layout": "IPY_MODEL_1ece109235254def92f0a8d7e9b75e8f"
          }
        },
        "29830ce353694d61975a740373771121": {
          "model_module": "@jupyter-widgets/controls",
          "model_name": "LabelModel",
          "model_module_version": "1.5.0",
          "state": {
            "_dom_classes": [],
            "_model_module": "@jupyter-widgets/controls",
            "_model_module_version": "1.5.0",
            "_model_name": "LabelModel",
            "_view_count": null,
            "_view_module": "@jupyter-widgets/controls",
            "_view_module_version": "1.5.0",
            "_view_name": "LabelView",
            "description": "",
            "description_tooltip": null,
            "layout": "IPY_MODEL_4b4bb373502e42368db28db2490c951a",
            "placeholder": "​",
            "style": "IPY_MODEL_1e19f7302cd240e78a78a43095f57a47",
            "value": "0.011 MB of 0.011 MB uploaded\r"
          }
        },
        "9b5e1819c5cc45949f505fafae64a2d2": {
          "model_module": "@jupyter-widgets/controls",
          "model_name": "FloatProgressModel",
          "model_module_version": "1.5.0",
          "state": {
            "_dom_classes": [],
            "_model_module": "@jupyter-widgets/controls",
            "_model_module_version": "1.5.0",
            "_model_name": "FloatProgressModel",
            "_view_count": null,
            "_view_module": "@jupyter-widgets/controls",
            "_view_module_version": "1.5.0",
            "_view_name": "ProgressView",
            "bar_style": "",
            "description": "",
            "description_tooltip": null,
            "layout": "IPY_MODEL_2d2bec45ffcf48a2b53165410a75a7ed",
            "max": 1,
            "min": 0,
            "orientation": "horizontal",
            "style": "IPY_MODEL_a65094a858da43c0867244a88d8e3a69",
            "value": 1
          }
        },
        "1ece109235254def92f0a8d7e9b75e8f": {
          "model_module": "@jupyter-widgets/base",
          "model_name": "LayoutModel",
          "model_module_version": "1.2.0",
          "state": {
            "_model_module": "@jupyter-widgets/base",
            "_model_module_version": "1.2.0",
            "_model_name": "LayoutModel",
            "_view_count": null,
            "_view_module": "@jupyter-widgets/base",
            "_view_module_version": "1.2.0",
            "_view_name": "LayoutView",
            "align_content": null,
            "align_items": null,
            "align_self": null,
            "border": null,
            "bottom": null,
            "display": null,
            "flex": null,
            "flex_flow": null,
            "grid_area": null,
            "grid_auto_columns": null,
            "grid_auto_flow": null,
            "grid_auto_rows": null,
            "grid_column": null,
            "grid_gap": null,
            "grid_row": null,
            "grid_template_areas": null,
            "grid_template_columns": null,
            "grid_template_rows": null,
            "height": null,
            "justify_content": null,
            "justify_items": null,
            "left": null,
            "margin": null,
            "max_height": null,
            "max_width": null,
            "min_height": null,
            "min_width": null,
            "object_fit": null,
            "object_position": null,
            "order": null,
            "overflow": null,
            "overflow_x": null,
            "overflow_y": null,
            "padding": null,
            "right": null,
            "top": null,
            "visibility": null,
            "width": null
          }
        },
        "4b4bb373502e42368db28db2490c951a": {
          "model_module": "@jupyter-widgets/base",
          "model_name": "LayoutModel",
          "model_module_version": "1.2.0",
          "state": {
            "_model_module": "@jupyter-widgets/base",
            "_model_module_version": "1.2.0",
            "_model_name": "LayoutModel",
            "_view_count": null,
            "_view_module": "@jupyter-widgets/base",
            "_view_module_version": "1.2.0",
            "_view_name": "LayoutView",
            "align_content": null,
            "align_items": null,
            "align_self": null,
            "border": null,
            "bottom": null,
            "display": null,
            "flex": null,
            "flex_flow": null,
            "grid_area": null,
            "grid_auto_columns": null,
            "grid_auto_flow": null,
            "grid_auto_rows": null,
            "grid_column": null,
            "grid_gap": null,
            "grid_row": null,
            "grid_template_areas": null,
            "grid_template_columns": null,
            "grid_template_rows": null,
            "height": null,
            "justify_content": null,
            "justify_items": null,
            "left": null,
            "margin": null,
            "max_height": null,
            "max_width": null,
            "min_height": null,
            "min_width": null,
            "object_fit": null,
            "object_position": null,
            "order": null,
            "overflow": null,
            "overflow_x": null,
            "overflow_y": null,
            "padding": null,
            "right": null,
            "top": null,
            "visibility": null,
            "width": null
          }
        },
        "1e19f7302cd240e78a78a43095f57a47": {
          "model_module": "@jupyter-widgets/controls",
          "model_name": "DescriptionStyleModel",
          "model_module_version": "1.5.0",
          "state": {
            "_model_module": "@jupyter-widgets/controls",
            "_model_module_version": "1.5.0",
            "_model_name": "DescriptionStyleModel",
            "_view_count": null,
            "_view_module": "@jupyter-widgets/base",
            "_view_module_version": "1.2.0",
            "_view_name": "StyleView",
            "description_width": ""
          }
        },
        "2d2bec45ffcf48a2b53165410a75a7ed": {
          "model_module": "@jupyter-widgets/base",
          "model_name": "LayoutModel",
          "model_module_version": "1.2.0",
          "state": {
            "_model_module": "@jupyter-widgets/base",
            "_model_module_version": "1.2.0",
            "_model_name": "LayoutModel",
            "_view_count": null,
            "_view_module": "@jupyter-widgets/base",
            "_view_module_version": "1.2.0",
            "_view_name": "LayoutView",
            "align_content": null,
            "align_items": null,
            "align_self": null,
            "border": null,
            "bottom": null,
            "display": null,
            "flex": null,
            "flex_flow": null,
            "grid_area": null,
            "grid_auto_columns": null,
            "grid_auto_flow": null,
            "grid_auto_rows": null,
            "grid_column": null,
            "grid_gap": null,
            "grid_row": null,
            "grid_template_areas": null,
            "grid_template_columns": null,
            "grid_template_rows": null,
            "height": null,
            "justify_content": null,
            "justify_items": null,
            "left": null,
            "margin": null,
            "max_height": null,
            "max_width": null,
            "min_height": null,
            "min_width": null,
            "object_fit": null,
            "object_position": null,
            "order": null,
            "overflow": null,
            "overflow_x": null,
            "overflow_y": null,
            "padding": null,
            "right": null,
            "top": null,
            "visibility": null,
            "width": null
          }
        },
        "a65094a858da43c0867244a88d8e3a69": {
          "model_module": "@jupyter-widgets/controls",
          "model_name": "ProgressStyleModel",
          "model_module_version": "1.5.0",
          "state": {
            "_model_module": "@jupyter-widgets/controls",
            "_model_module_version": "1.5.0",
            "_model_name": "ProgressStyleModel",
            "_view_count": null,
            "_view_module": "@jupyter-widgets/base",
            "_view_module_version": "1.2.0",
            "_view_name": "StyleView",
            "bar_color": null,
            "description_width": ""
          }
        },
        "c96a65aaefe1412f8c7a8da19abdd67f": {
          "model_module": "@jupyter-widgets/controls",
          "model_name": "VBoxModel",
          "model_module_version": "1.5.0",
          "state": {
            "_dom_classes": [],
            "_model_module": "@jupyter-widgets/controls",
            "_model_module_version": "1.5.0",
            "_model_name": "VBoxModel",
            "_view_count": null,
            "_view_module": "@jupyter-widgets/controls",
            "_view_module_version": "1.5.0",
            "_view_name": "VBoxView",
            "box_style": "",
            "children": [
              "IPY_MODEL_0d5b3d3176874889812f419d9aeb1f12",
              "IPY_MODEL_4805ee23eb074ce4a6bdb9000400bfa4"
            ],
            "layout": "IPY_MODEL_347c84e7f7884a2ea767837d75d749e6"
          }
        },
        "0d5b3d3176874889812f419d9aeb1f12": {
          "model_module": "@jupyter-widgets/controls",
          "model_name": "LabelModel",
          "model_module_version": "1.5.0",
          "state": {
            "_dom_classes": [],
            "_model_module": "@jupyter-widgets/controls",
            "_model_module_version": "1.5.0",
            "_model_name": "LabelModel",
            "_view_count": null,
            "_view_module": "@jupyter-widgets/controls",
            "_view_module_version": "1.5.0",
            "_view_name": "LabelView",
            "description": "",
            "description_tooltip": null,
            "layout": "IPY_MODEL_6f4f3879ea6b49d5bcff5ab64fbf5d66",
            "placeholder": "​",
            "style": "IPY_MODEL_61a7ac0420784379bd2552d53ad91d61",
            "value": "0.011 MB of 0.011 MB uploaded\r"
          }
        },
        "4805ee23eb074ce4a6bdb9000400bfa4": {
          "model_module": "@jupyter-widgets/controls",
          "model_name": "FloatProgressModel",
          "model_module_version": "1.5.0",
          "state": {
            "_dom_classes": [],
            "_model_module": "@jupyter-widgets/controls",
            "_model_module_version": "1.5.0",
            "_model_name": "FloatProgressModel",
            "_view_count": null,
            "_view_module": "@jupyter-widgets/controls",
            "_view_module_version": "1.5.0",
            "_view_name": "ProgressView",
            "bar_style": "",
            "description": "",
            "description_tooltip": null,
            "layout": "IPY_MODEL_189d80ee23b147738c6312e42ed5e856",
            "max": 1,
            "min": 0,
            "orientation": "horizontal",
            "style": "IPY_MODEL_5b2aa20a9ef4496bbe1b5a94023969ce",
            "value": 1
          }
        },
        "347c84e7f7884a2ea767837d75d749e6": {
          "model_module": "@jupyter-widgets/base",
          "model_name": "LayoutModel",
          "model_module_version": "1.2.0",
          "state": {
            "_model_module": "@jupyter-widgets/base",
            "_model_module_version": "1.2.0",
            "_model_name": "LayoutModel",
            "_view_count": null,
            "_view_module": "@jupyter-widgets/base",
            "_view_module_version": "1.2.0",
            "_view_name": "LayoutView",
            "align_content": null,
            "align_items": null,
            "align_self": null,
            "border": null,
            "bottom": null,
            "display": null,
            "flex": null,
            "flex_flow": null,
            "grid_area": null,
            "grid_auto_columns": null,
            "grid_auto_flow": null,
            "grid_auto_rows": null,
            "grid_column": null,
            "grid_gap": null,
            "grid_row": null,
            "grid_template_areas": null,
            "grid_template_columns": null,
            "grid_template_rows": null,
            "height": null,
            "justify_content": null,
            "justify_items": null,
            "left": null,
            "margin": null,
            "max_height": null,
            "max_width": null,
            "min_height": null,
            "min_width": null,
            "object_fit": null,
            "object_position": null,
            "order": null,
            "overflow": null,
            "overflow_x": null,
            "overflow_y": null,
            "padding": null,
            "right": null,
            "top": null,
            "visibility": null,
            "width": null
          }
        },
        "6f4f3879ea6b49d5bcff5ab64fbf5d66": {
          "model_module": "@jupyter-widgets/base",
          "model_name": "LayoutModel",
          "model_module_version": "1.2.0",
          "state": {
            "_model_module": "@jupyter-widgets/base",
            "_model_module_version": "1.2.0",
            "_model_name": "LayoutModel",
            "_view_count": null,
            "_view_module": "@jupyter-widgets/base",
            "_view_module_version": "1.2.0",
            "_view_name": "LayoutView",
            "align_content": null,
            "align_items": null,
            "align_self": null,
            "border": null,
            "bottom": null,
            "display": null,
            "flex": null,
            "flex_flow": null,
            "grid_area": null,
            "grid_auto_columns": null,
            "grid_auto_flow": null,
            "grid_auto_rows": null,
            "grid_column": null,
            "grid_gap": null,
            "grid_row": null,
            "grid_template_areas": null,
            "grid_template_columns": null,
            "grid_template_rows": null,
            "height": null,
            "justify_content": null,
            "justify_items": null,
            "left": null,
            "margin": null,
            "max_height": null,
            "max_width": null,
            "min_height": null,
            "min_width": null,
            "object_fit": null,
            "object_position": null,
            "order": null,
            "overflow": null,
            "overflow_x": null,
            "overflow_y": null,
            "padding": null,
            "right": null,
            "top": null,
            "visibility": null,
            "width": null
          }
        },
        "61a7ac0420784379bd2552d53ad91d61": {
          "model_module": "@jupyter-widgets/controls",
          "model_name": "DescriptionStyleModel",
          "model_module_version": "1.5.0",
          "state": {
            "_model_module": "@jupyter-widgets/controls",
            "_model_module_version": "1.5.0",
            "_model_name": "DescriptionStyleModel",
            "_view_count": null,
            "_view_module": "@jupyter-widgets/base",
            "_view_module_version": "1.2.0",
            "_view_name": "StyleView",
            "description_width": ""
          }
        },
        "189d80ee23b147738c6312e42ed5e856": {
          "model_module": "@jupyter-widgets/base",
          "model_name": "LayoutModel",
          "model_module_version": "1.2.0",
          "state": {
            "_model_module": "@jupyter-widgets/base",
            "_model_module_version": "1.2.0",
            "_model_name": "LayoutModel",
            "_view_count": null,
            "_view_module": "@jupyter-widgets/base",
            "_view_module_version": "1.2.0",
            "_view_name": "LayoutView",
            "align_content": null,
            "align_items": null,
            "align_self": null,
            "border": null,
            "bottom": null,
            "display": null,
            "flex": null,
            "flex_flow": null,
            "grid_area": null,
            "grid_auto_columns": null,
            "grid_auto_flow": null,
            "grid_auto_rows": null,
            "grid_column": null,
            "grid_gap": null,
            "grid_row": null,
            "grid_template_areas": null,
            "grid_template_columns": null,
            "grid_template_rows": null,
            "height": null,
            "justify_content": null,
            "justify_items": null,
            "left": null,
            "margin": null,
            "max_height": null,
            "max_width": null,
            "min_height": null,
            "min_width": null,
            "object_fit": null,
            "object_position": null,
            "order": null,
            "overflow": null,
            "overflow_x": null,
            "overflow_y": null,
            "padding": null,
            "right": null,
            "top": null,
            "visibility": null,
            "width": null
          }
        },
        "5b2aa20a9ef4496bbe1b5a94023969ce": {
          "model_module": "@jupyter-widgets/controls",
          "model_name": "ProgressStyleModel",
          "model_module_version": "1.5.0",
          "state": {
            "_model_module": "@jupyter-widgets/controls",
            "_model_module_version": "1.5.0",
            "_model_name": "ProgressStyleModel",
            "_view_count": null,
            "_view_module": "@jupyter-widgets/base",
            "_view_module_version": "1.2.0",
            "_view_name": "StyleView",
            "bar_color": null,
            "description_width": ""
          }
        },
        "8bb51ed0c24d4d4daad3d59102125574": {
          "model_module": "@jupyter-widgets/controls",
          "model_name": "VBoxModel",
          "model_module_version": "1.5.0",
          "state": {
            "_dom_classes": [],
            "_model_module": "@jupyter-widgets/controls",
            "_model_module_version": "1.5.0",
            "_model_name": "VBoxModel",
            "_view_count": null,
            "_view_module": "@jupyter-widgets/controls",
            "_view_module_version": "1.5.0",
            "_view_name": "VBoxView",
            "box_style": "",
            "children": [
              "IPY_MODEL_e014ac46a43e4eb89e0cb32d5ae83109",
              "IPY_MODEL_2875627064614db1b594290cffdb43b9"
            ],
            "layout": "IPY_MODEL_e82f9df9513f49169738073450db3bfa"
          }
        },
        "e014ac46a43e4eb89e0cb32d5ae83109": {
          "model_module": "@jupyter-widgets/controls",
          "model_name": "LabelModel",
          "model_module_version": "1.5.0",
          "state": {
            "_dom_classes": [],
            "_model_module": "@jupyter-widgets/controls",
            "_model_module_version": "1.5.0",
            "_model_name": "LabelModel",
            "_view_count": null,
            "_view_module": "@jupyter-widgets/controls",
            "_view_module_version": "1.5.0",
            "_view_name": "LabelView",
            "description": "",
            "description_tooltip": null,
            "layout": "IPY_MODEL_b9687f5272c84bad9de15c6a899d5eee",
            "placeholder": "​",
            "style": "IPY_MODEL_377bcc13614e4adcaf727701b2d0da5a",
            "value": "0.011 MB of 0.011 MB uploaded\r"
          }
        },
        "2875627064614db1b594290cffdb43b9": {
          "model_module": "@jupyter-widgets/controls",
          "model_name": "FloatProgressModel",
          "model_module_version": "1.5.0",
          "state": {
            "_dom_classes": [],
            "_model_module": "@jupyter-widgets/controls",
            "_model_module_version": "1.5.0",
            "_model_name": "FloatProgressModel",
            "_view_count": null,
            "_view_module": "@jupyter-widgets/controls",
            "_view_module_version": "1.5.0",
            "_view_name": "ProgressView",
            "bar_style": "",
            "description": "",
            "description_tooltip": null,
            "layout": "IPY_MODEL_4d3d832f22d644ee859da72b63321d03",
            "max": 1,
            "min": 0,
            "orientation": "horizontal",
            "style": "IPY_MODEL_9997b64bc5a5493eb7c73deb51134df5",
            "value": 1
          }
        },
        "e82f9df9513f49169738073450db3bfa": {
          "model_module": "@jupyter-widgets/base",
          "model_name": "LayoutModel",
          "model_module_version": "1.2.0",
          "state": {
            "_model_module": "@jupyter-widgets/base",
            "_model_module_version": "1.2.0",
            "_model_name": "LayoutModel",
            "_view_count": null,
            "_view_module": "@jupyter-widgets/base",
            "_view_module_version": "1.2.0",
            "_view_name": "LayoutView",
            "align_content": null,
            "align_items": null,
            "align_self": null,
            "border": null,
            "bottom": null,
            "display": null,
            "flex": null,
            "flex_flow": null,
            "grid_area": null,
            "grid_auto_columns": null,
            "grid_auto_flow": null,
            "grid_auto_rows": null,
            "grid_column": null,
            "grid_gap": null,
            "grid_row": null,
            "grid_template_areas": null,
            "grid_template_columns": null,
            "grid_template_rows": null,
            "height": null,
            "justify_content": null,
            "justify_items": null,
            "left": null,
            "margin": null,
            "max_height": null,
            "max_width": null,
            "min_height": null,
            "min_width": null,
            "object_fit": null,
            "object_position": null,
            "order": null,
            "overflow": null,
            "overflow_x": null,
            "overflow_y": null,
            "padding": null,
            "right": null,
            "top": null,
            "visibility": null,
            "width": null
          }
        },
        "b9687f5272c84bad9de15c6a899d5eee": {
          "model_module": "@jupyter-widgets/base",
          "model_name": "LayoutModel",
          "model_module_version": "1.2.0",
          "state": {
            "_model_module": "@jupyter-widgets/base",
            "_model_module_version": "1.2.0",
            "_model_name": "LayoutModel",
            "_view_count": null,
            "_view_module": "@jupyter-widgets/base",
            "_view_module_version": "1.2.0",
            "_view_name": "LayoutView",
            "align_content": null,
            "align_items": null,
            "align_self": null,
            "border": null,
            "bottom": null,
            "display": null,
            "flex": null,
            "flex_flow": null,
            "grid_area": null,
            "grid_auto_columns": null,
            "grid_auto_flow": null,
            "grid_auto_rows": null,
            "grid_column": null,
            "grid_gap": null,
            "grid_row": null,
            "grid_template_areas": null,
            "grid_template_columns": null,
            "grid_template_rows": null,
            "height": null,
            "justify_content": null,
            "justify_items": null,
            "left": null,
            "margin": null,
            "max_height": null,
            "max_width": null,
            "min_height": null,
            "min_width": null,
            "object_fit": null,
            "object_position": null,
            "order": null,
            "overflow": null,
            "overflow_x": null,
            "overflow_y": null,
            "padding": null,
            "right": null,
            "top": null,
            "visibility": null,
            "width": null
          }
        },
        "377bcc13614e4adcaf727701b2d0da5a": {
          "model_module": "@jupyter-widgets/controls",
          "model_name": "DescriptionStyleModel",
          "model_module_version": "1.5.0",
          "state": {
            "_model_module": "@jupyter-widgets/controls",
            "_model_module_version": "1.5.0",
            "_model_name": "DescriptionStyleModel",
            "_view_count": null,
            "_view_module": "@jupyter-widgets/base",
            "_view_module_version": "1.2.0",
            "_view_name": "StyleView",
            "description_width": ""
          }
        },
        "4d3d832f22d644ee859da72b63321d03": {
          "model_module": "@jupyter-widgets/base",
          "model_name": "LayoutModel",
          "model_module_version": "1.2.0",
          "state": {
            "_model_module": "@jupyter-widgets/base",
            "_model_module_version": "1.2.0",
            "_model_name": "LayoutModel",
            "_view_count": null,
            "_view_module": "@jupyter-widgets/base",
            "_view_module_version": "1.2.0",
            "_view_name": "LayoutView",
            "align_content": null,
            "align_items": null,
            "align_self": null,
            "border": null,
            "bottom": null,
            "display": null,
            "flex": null,
            "flex_flow": null,
            "grid_area": null,
            "grid_auto_columns": null,
            "grid_auto_flow": null,
            "grid_auto_rows": null,
            "grid_column": null,
            "grid_gap": null,
            "grid_row": null,
            "grid_template_areas": null,
            "grid_template_columns": null,
            "grid_template_rows": null,
            "height": null,
            "justify_content": null,
            "justify_items": null,
            "left": null,
            "margin": null,
            "max_height": null,
            "max_width": null,
            "min_height": null,
            "min_width": null,
            "object_fit": null,
            "object_position": null,
            "order": null,
            "overflow": null,
            "overflow_x": null,
            "overflow_y": null,
            "padding": null,
            "right": null,
            "top": null,
            "visibility": null,
            "width": null
          }
        },
        "9997b64bc5a5493eb7c73deb51134df5": {
          "model_module": "@jupyter-widgets/controls",
          "model_name": "ProgressStyleModel",
          "model_module_version": "1.5.0",
          "state": {
            "_model_module": "@jupyter-widgets/controls",
            "_model_module_version": "1.5.0",
            "_model_name": "ProgressStyleModel",
            "_view_count": null,
            "_view_module": "@jupyter-widgets/base",
            "_view_module_version": "1.2.0",
            "_view_name": "StyleView",
            "bar_color": null,
            "description_width": ""
          }
        },
        "a20985da13f443b4b2427d3492790a10": {
          "model_module": "@jupyter-widgets/controls",
          "model_name": "VBoxModel",
          "model_module_version": "1.5.0",
          "state": {
            "_dom_classes": [],
            "_model_module": "@jupyter-widgets/controls",
            "_model_module_version": "1.5.0",
            "_model_name": "VBoxModel",
            "_view_count": null,
            "_view_module": "@jupyter-widgets/controls",
            "_view_module_version": "1.5.0",
            "_view_name": "VBoxView",
            "box_style": "",
            "children": [
              "IPY_MODEL_9bbe7c2ed5de47b4961004b178806980",
              "IPY_MODEL_cbb82d602d444d7381fc756590893e1c"
            ],
            "layout": "IPY_MODEL_c5758e3f81e843788704bf288d0b1e7d"
          }
        },
        "9bbe7c2ed5de47b4961004b178806980": {
          "model_module": "@jupyter-widgets/controls",
          "model_name": "LabelModel",
          "model_module_version": "1.5.0",
          "state": {
            "_dom_classes": [],
            "_model_module": "@jupyter-widgets/controls",
            "_model_module_version": "1.5.0",
            "_model_name": "LabelModel",
            "_view_count": null,
            "_view_module": "@jupyter-widgets/controls",
            "_view_module_version": "1.5.0",
            "_view_name": "LabelView",
            "description": "",
            "description_tooltip": null,
            "layout": "IPY_MODEL_fb025d3fc95745cc802174de207b3e29",
            "placeholder": "​",
            "style": "IPY_MODEL_adcdc1f893034fbba4c79d796606dac9",
            "value": "0.012 MB of 0.012 MB uploaded\r"
          }
        },
        "cbb82d602d444d7381fc756590893e1c": {
          "model_module": "@jupyter-widgets/controls",
          "model_name": "FloatProgressModel",
          "model_module_version": "1.5.0",
          "state": {
            "_dom_classes": [],
            "_model_module": "@jupyter-widgets/controls",
            "_model_module_version": "1.5.0",
            "_model_name": "FloatProgressModel",
            "_view_count": null,
            "_view_module": "@jupyter-widgets/controls",
            "_view_module_version": "1.5.0",
            "_view_name": "ProgressView",
            "bar_style": "",
            "description": "",
            "description_tooltip": null,
            "layout": "IPY_MODEL_8c3fbaf2b1ee44fd8594869c021c9179",
            "max": 1,
            "min": 0,
            "orientation": "horizontal",
            "style": "IPY_MODEL_9610b961f5454a76b5cf6b39ca258040",
            "value": 1
          }
        },
        "c5758e3f81e843788704bf288d0b1e7d": {
          "model_module": "@jupyter-widgets/base",
          "model_name": "LayoutModel",
          "model_module_version": "1.2.0",
          "state": {
            "_model_module": "@jupyter-widgets/base",
            "_model_module_version": "1.2.0",
            "_model_name": "LayoutModel",
            "_view_count": null,
            "_view_module": "@jupyter-widgets/base",
            "_view_module_version": "1.2.0",
            "_view_name": "LayoutView",
            "align_content": null,
            "align_items": null,
            "align_self": null,
            "border": null,
            "bottom": null,
            "display": null,
            "flex": null,
            "flex_flow": null,
            "grid_area": null,
            "grid_auto_columns": null,
            "grid_auto_flow": null,
            "grid_auto_rows": null,
            "grid_column": null,
            "grid_gap": null,
            "grid_row": null,
            "grid_template_areas": null,
            "grid_template_columns": null,
            "grid_template_rows": null,
            "height": null,
            "justify_content": null,
            "justify_items": null,
            "left": null,
            "margin": null,
            "max_height": null,
            "max_width": null,
            "min_height": null,
            "min_width": null,
            "object_fit": null,
            "object_position": null,
            "order": null,
            "overflow": null,
            "overflow_x": null,
            "overflow_y": null,
            "padding": null,
            "right": null,
            "top": null,
            "visibility": null,
            "width": null
          }
        },
        "fb025d3fc95745cc802174de207b3e29": {
          "model_module": "@jupyter-widgets/base",
          "model_name": "LayoutModel",
          "model_module_version": "1.2.0",
          "state": {
            "_model_module": "@jupyter-widgets/base",
            "_model_module_version": "1.2.0",
            "_model_name": "LayoutModel",
            "_view_count": null,
            "_view_module": "@jupyter-widgets/base",
            "_view_module_version": "1.2.0",
            "_view_name": "LayoutView",
            "align_content": null,
            "align_items": null,
            "align_self": null,
            "border": null,
            "bottom": null,
            "display": null,
            "flex": null,
            "flex_flow": null,
            "grid_area": null,
            "grid_auto_columns": null,
            "grid_auto_flow": null,
            "grid_auto_rows": null,
            "grid_column": null,
            "grid_gap": null,
            "grid_row": null,
            "grid_template_areas": null,
            "grid_template_columns": null,
            "grid_template_rows": null,
            "height": null,
            "justify_content": null,
            "justify_items": null,
            "left": null,
            "margin": null,
            "max_height": null,
            "max_width": null,
            "min_height": null,
            "min_width": null,
            "object_fit": null,
            "object_position": null,
            "order": null,
            "overflow": null,
            "overflow_x": null,
            "overflow_y": null,
            "padding": null,
            "right": null,
            "top": null,
            "visibility": null,
            "width": null
          }
        },
        "adcdc1f893034fbba4c79d796606dac9": {
          "model_module": "@jupyter-widgets/controls",
          "model_name": "DescriptionStyleModel",
          "model_module_version": "1.5.0",
          "state": {
            "_model_module": "@jupyter-widgets/controls",
            "_model_module_version": "1.5.0",
            "_model_name": "DescriptionStyleModel",
            "_view_count": null,
            "_view_module": "@jupyter-widgets/base",
            "_view_module_version": "1.2.0",
            "_view_name": "StyleView",
            "description_width": ""
          }
        },
        "8c3fbaf2b1ee44fd8594869c021c9179": {
          "model_module": "@jupyter-widgets/base",
          "model_name": "LayoutModel",
          "model_module_version": "1.2.0",
          "state": {
            "_model_module": "@jupyter-widgets/base",
            "_model_module_version": "1.2.0",
            "_model_name": "LayoutModel",
            "_view_count": null,
            "_view_module": "@jupyter-widgets/base",
            "_view_module_version": "1.2.0",
            "_view_name": "LayoutView",
            "align_content": null,
            "align_items": null,
            "align_self": null,
            "border": null,
            "bottom": null,
            "display": null,
            "flex": null,
            "flex_flow": null,
            "grid_area": null,
            "grid_auto_columns": null,
            "grid_auto_flow": null,
            "grid_auto_rows": null,
            "grid_column": null,
            "grid_gap": null,
            "grid_row": null,
            "grid_template_areas": null,
            "grid_template_columns": null,
            "grid_template_rows": null,
            "height": null,
            "justify_content": null,
            "justify_items": null,
            "left": null,
            "margin": null,
            "max_height": null,
            "max_width": null,
            "min_height": null,
            "min_width": null,
            "object_fit": null,
            "object_position": null,
            "order": null,
            "overflow": null,
            "overflow_x": null,
            "overflow_y": null,
            "padding": null,
            "right": null,
            "top": null,
            "visibility": null,
            "width": null
          }
        },
        "9610b961f5454a76b5cf6b39ca258040": {
          "model_module": "@jupyter-widgets/controls",
          "model_name": "ProgressStyleModel",
          "model_module_version": "1.5.0",
          "state": {
            "_model_module": "@jupyter-widgets/controls",
            "_model_module_version": "1.5.0",
            "_model_name": "ProgressStyleModel",
            "_view_count": null,
            "_view_module": "@jupyter-widgets/base",
            "_view_module_version": "1.2.0",
            "_view_name": "StyleView",
            "bar_color": null,
            "description_width": ""
          }
        },
        "d4736f3fb67547868c1ec0fb18884a5a": {
          "model_module": "@jupyter-widgets/controls",
          "model_name": "VBoxModel",
          "model_module_version": "1.5.0",
          "state": {
            "_dom_classes": [],
            "_model_module": "@jupyter-widgets/controls",
            "_model_module_version": "1.5.0",
            "_model_name": "VBoxModel",
            "_view_count": null,
            "_view_module": "@jupyter-widgets/controls",
            "_view_module_version": "1.5.0",
            "_view_name": "VBoxView",
            "box_style": "",
            "children": [
              "IPY_MODEL_0aa081b8ad094169a2276b033f0f2797",
              "IPY_MODEL_45d9e8c16132490395dbc8b25d525e30"
            ],
            "layout": "IPY_MODEL_03689ede7f6646fab77ae46d1aee4875"
          }
        },
        "0aa081b8ad094169a2276b033f0f2797": {
          "model_module": "@jupyter-widgets/controls",
          "model_name": "LabelModel",
          "model_module_version": "1.5.0",
          "state": {
            "_dom_classes": [],
            "_model_module": "@jupyter-widgets/controls",
            "_model_module_version": "1.5.0",
            "_model_name": "LabelModel",
            "_view_count": null,
            "_view_module": "@jupyter-widgets/controls",
            "_view_module_version": "1.5.0",
            "_view_name": "LabelView",
            "description": "",
            "description_tooltip": null,
            "layout": "IPY_MODEL_c59fe089d8aa479d82dfc6de0d83794a",
            "placeholder": "​",
            "style": "IPY_MODEL_0de117f6b0834e36bae2d2f5bf802dd7",
            "value": "0.011 MB of 0.011 MB uploaded\r"
          }
        },
        "45d9e8c16132490395dbc8b25d525e30": {
          "model_module": "@jupyter-widgets/controls",
          "model_name": "FloatProgressModel",
          "model_module_version": "1.5.0",
          "state": {
            "_dom_classes": [],
            "_model_module": "@jupyter-widgets/controls",
            "_model_module_version": "1.5.0",
            "_model_name": "FloatProgressModel",
            "_view_count": null,
            "_view_module": "@jupyter-widgets/controls",
            "_view_module_version": "1.5.0",
            "_view_name": "ProgressView",
            "bar_style": "",
            "description": "",
            "description_tooltip": null,
            "layout": "IPY_MODEL_e45e70af548047c6ba152b4b08066b3b",
            "max": 1,
            "min": 0,
            "orientation": "horizontal",
            "style": "IPY_MODEL_75087ca529544965a0275eac8eef10ea",
            "value": 1
          }
        },
        "03689ede7f6646fab77ae46d1aee4875": {
          "model_module": "@jupyter-widgets/base",
          "model_name": "LayoutModel",
          "model_module_version": "1.2.0",
          "state": {
            "_model_module": "@jupyter-widgets/base",
            "_model_module_version": "1.2.0",
            "_model_name": "LayoutModel",
            "_view_count": null,
            "_view_module": "@jupyter-widgets/base",
            "_view_module_version": "1.2.0",
            "_view_name": "LayoutView",
            "align_content": null,
            "align_items": null,
            "align_self": null,
            "border": null,
            "bottom": null,
            "display": null,
            "flex": null,
            "flex_flow": null,
            "grid_area": null,
            "grid_auto_columns": null,
            "grid_auto_flow": null,
            "grid_auto_rows": null,
            "grid_column": null,
            "grid_gap": null,
            "grid_row": null,
            "grid_template_areas": null,
            "grid_template_columns": null,
            "grid_template_rows": null,
            "height": null,
            "justify_content": null,
            "justify_items": null,
            "left": null,
            "margin": null,
            "max_height": null,
            "max_width": null,
            "min_height": null,
            "min_width": null,
            "object_fit": null,
            "object_position": null,
            "order": null,
            "overflow": null,
            "overflow_x": null,
            "overflow_y": null,
            "padding": null,
            "right": null,
            "top": null,
            "visibility": null,
            "width": null
          }
        },
        "c59fe089d8aa479d82dfc6de0d83794a": {
          "model_module": "@jupyter-widgets/base",
          "model_name": "LayoutModel",
          "model_module_version": "1.2.0",
          "state": {
            "_model_module": "@jupyter-widgets/base",
            "_model_module_version": "1.2.0",
            "_model_name": "LayoutModel",
            "_view_count": null,
            "_view_module": "@jupyter-widgets/base",
            "_view_module_version": "1.2.0",
            "_view_name": "LayoutView",
            "align_content": null,
            "align_items": null,
            "align_self": null,
            "border": null,
            "bottom": null,
            "display": null,
            "flex": null,
            "flex_flow": null,
            "grid_area": null,
            "grid_auto_columns": null,
            "grid_auto_flow": null,
            "grid_auto_rows": null,
            "grid_column": null,
            "grid_gap": null,
            "grid_row": null,
            "grid_template_areas": null,
            "grid_template_columns": null,
            "grid_template_rows": null,
            "height": null,
            "justify_content": null,
            "justify_items": null,
            "left": null,
            "margin": null,
            "max_height": null,
            "max_width": null,
            "min_height": null,
            "min_width": null,
            "object_fit": null,
            "object_position": null,
            "order": null,
            "overflow": null,
            "overflow_x": null,
            "overflow_y": null,
            "padding": null,
            "right": null,
            "top": null,
            "visibility": null,
            "width": null
          }
        },
        "0de117f6b0834e36bae2d2f5bf802dd7": {
          "model_module": "@jupyter-widgets/controls",
          "model_name": "DescriptionStyleModel",
          "model_module_version": "1.5.0",
          "state": {
            "_model_module": "@jupyter-widgets/controls",
            "_model_module_version": "1.5.0",
            "_model_name": "DescriptionStyleModel",
            "_view_count": null,
            "_view_module": "@jupyter-widgets/base",
            "_view_module_version": "1.2.0",
            "_view_name": "StyleView",
            "description_width": ""
          }
        },
        "e45e70af548047c6ba152b4b08066b3b": {
          "model_module": "@jupyter-widgets/base",
          "model_name": "LayoutModel",
          "model_module_version": "1.2.0",
          "state": {
            "_model_module": "@jupyter-widgets/base",
            "_model_module_version": "1.2.0",
            "_model_name": "LayoutModel",
            "_view_count": null,
            "_view_module": "@jupyter-widgets/base",
            "_view_module_version": "1.2.0",
            "_view_name": "LayoutView",
            "align_content": null,
            "align_items": null,
            "align_self": null,
            "border": null,
            "bottom": null,
            "display": null,
            "flex": null,
            "flex_flow": null,
            "grid_area": null,
            "grid_auto_columns": null,
            "grid_auto_flow": null,
            "grid_auto_rows": null,
            "grid_column": null,
            "grid_gap": null,
            "grid_row": null,
            "grid_template_areas": null,
            "grid_template_columns": null,
            "grid_template_rows": null,
            "height": null,
            "justify_content": null,
            "justify_items": null,
            "left": null,
            "margin": null,
            "max_height": null,
            "max_width": null,
            "min_height": null,
            "min_width": null,
            "object_fit": null,
            "object_position": null,
            "order": null,
            "overflow": null,
            "overflow_x": null,
            "overflow_y": null,
            "padding": null,
            "right": null,
            "top": null,
            "visibility": null,
            "width": null
          }
        },
        "75087ca529544965a0275eac8eef10ea": {
          "model_module": "@jupyter-widgets/controls",
          "model_name": "ProgressStyleModel",
          "model_module_version": "1.5.0",
          "state": {
            "_model_module": "@jupyter-widgets/controls",
            "_model_module_version": "1.5.0",
            "_model_name": "ProgressStyleModel",
            "_view_count": null,
            "_view_module": "@jupyter-widgets/base",
            "_view_module_version": "1.2.0",
            "_view_name": "StyleView",
            "bar_color": null,
            "description_width": ""
          }
        }
      }
    }
  },
  "cells": [
    {
      "cell_type": "markdown",
      "metadata": {
        "id": "view-in-github",
        "colab_type": "text"
      },
      "source": [
        "<a href=\"https://colab.research.google.com/github/TirthVamja/cs6910_assignment1/blob/main/assignment1.ipynb\" target=\"_parent\"><img src=\"https://colab.research.google.com/assets/colab-badge.svg\" alt=\"Open In Colab\"/></a>"
      ]
    },
    {
      "cell_type": "markdown",
      "source": [
        "Import Library"
      ],
      "metadata": {
        "id": "BtSUZ-whbUV5"
      }
    },
    {
      "cell_type": "code",
      "source": [
        "!pip install wandb"
      ],
      "metadata": {
        "colab": {
          "base_uri": "https://localhost:8080/"
        },
        "id": "od1O1ywcD5ds",
        "outputId": "ad445554-761d-4df5-9fcf-4e58cf9b5d7d"
      },
      "execution_count": 1,
      "outputs": [
        {
          "output_type": "stream",
          "name": "stdout",
          "text": [
            "Requirement already satisfied: wandb in /usr/local/lib/python3.10/dist-packages (0.16.4)\n",
            "Requirement already satisfied: Click!=8.0.0,>=7.1 in /usr/local/lib/python3.10/dist-packages (from wandb) (8.1.7)\n",
            "Requirement already satisfied: GitPython!=3.1.29,>=1.0.0 in /usr/local/lib/python3.10/dist-packages (from wandb) (3.1.42)\n",
            "Requirement already satisfied: requests<3,>=2.0.0 in /usr/local/lib/python3.10/dist-packages (from wandb) (2.31.0)\n",
            "Requirement already satisfied: psutil>=5.0.0 in /usr/local/lib/python3.10/dist-packages (from wandb) (5.9.5)\n",
            "Requirement already satisfied: sentry-sdk>=1.0.0 in /usr/local/lib/python3.10/dist-packages (from wandb) (1.42.0)\n",
            "Requirement already satisfied: docker-pycreds>=0.4.0 in /usr/local/lib/python3.10/dist-packages (from wandb) (0.4.0)\n",
            "Requirement already satisfied: PyYAML in /usr/local/lib/python3.10/dist-packages (from wandb) (6.0.1)\n",
            "Requirement already satisfied: setproctitle in /usr/local/lib/python3.10/dist-packages (from wandb) (1.3.3)\n",
            "Requirement already satisfied: setuptools in /usr/local/lib/python3.10/dist-packages (from wandb) (67.7.2)\n",
            "Requirement already satisfied: appdirs>=1.4.3 in /usr/local/lib/python3.10/dist-packages (from wandb) (1.4.4)\n",
            "Requirement already satisfied: protobuf!=4.21.0,<5,>=3.19.0 in /usr/local/lib/python3.10/dist-packages (from wandb) (3.20.3)\n",
            "Requirement already satisfied: six>=1.4.0 in /usr/local/lib/python3.10/dist-packages (from docker-pycreds>=0.4.0->wandb) (1.16.0)\n",
            "Requirement already satisfied: gitdb<5,>=4.0.1 in /usr/local/lib/python3.10/dist-packages (from GitPython!=3.1.29,>=1.0.0->wandb) (4.0.11)\n",
            "Requirement already satisfied: charset-normalizer<4,>=2 in /usr/local/lib/python3.10/dist-packages (from requests<3,>=2.0.0->wandb) (3.3.2)\n",
            "Requirement already satisfied: idna<4,>=2.5 in /usr/local/lib/python3.10/dist-packages (from requests<3,>=2.0.0->wandb) (3.6)\n",
            "Requirement already satisfied: urllib3<3,>=1.21.1 in /usr/local/lib/python3.10/dist-packages (from requests<3,>=2.0.0->wandb) (2.0.7)\n",
            "Requirement already satisfied: certifi>=2017.4.17 in /usr/local/lib/python3.10/dist-packages (from requests<3,>=2.0.0->wandb) (2024.2.2)\n",
            "Requirement already satisfied: smmap<6,>=3.0.1 in /usr/local/lib/python3.10/dist-packages (from gitdb<5,>=4.0.1->GitPython!=3.1.29,>=1.0.0->wandb) (5.0.1)\n"
          ]
        }
      ]
    },
    {
      "cell_type": "code",
      "execution_count": 2,
      "metadata": {
        "id": "yhH5VjIYbIi-"
      },
      "outputs": [],
      "source": [
        "from keras.datasets import fashion_mnist, mnist\n",
        "import matplotlib.pyplot as plt\n",
        "from sklearn.model_selection import train_test_split\n",
        "import numpy as np\n",
        "import wandb\n",
        "import seaborn as sn"
      ]
    },
    {
      "cell_type": "code",
      "source": [],
      "metadata": {
        "id": "-j0PhxNsdE40"
      },
      "execution_count": 2,
      "outputs": []
    },
    {
      "cell_type": "markdown",
      "source": [
        "**Plotting various Categories of data**"
      ],
      "metadata": {
        "id": "ZZp9fLezgqKH"
      }
    },
    {
      "cell_type": "code",
      "source": [
        "(x_train, y_train), (x_test, y_test) = fashion_mnist.load_data()"
      ],
      "metadata": {
        "id": "BBsLJTwTmq37"
      },
      "execution_count": 3,
      "outputs": []
    },
    {
      "cell_type": "code",
      "source": [
        "# MetaData of Fashion_Mnist dataset ...\n",
        "CLASSES = {\n",
        "  0:'T-shirt/top',\n",
        "  1:'Trouser',\n",
        "  2:'Pullover',\n",
        "  3:'Dress',\n",
        "  4:'Coat',\n",
        "  5:'Sandal',\n",
        "  6:'Shirt',\n",
        "  7:'Sneaker',\n",
        "  8:'Bag',\n",
        "  9:'Ankle boot'\n",
        "}"
      ],
      "metadata": {
        "id": "UKVffiY4gy2G"
      },
      "execution_count": 4,
      "outputs": []
    },
    {
      "cell_type": "code",
      "source": [
        "# ind_of_first_occurance = np.argsort(y_train)\n",
        "# ind = ind_of_first_occurance[np.searchsorted(y_train, np.arange(0,10,1), sorter=ind_of_first_occurance)]\n",
        "# fig, ax = plt.subplots(nrows=2, ncols=5)\n",
        "# for i in range(10):\n",
        "#   ax[i//5, i%5].imshow(x_train[ind[i]], cmap='gray')\n",
        "#   ax[i//5, i%5].set_title(CLASSES[i])\n",
        "\n",
        "\n",
        "# # wandb.init(project=\"cs6910_assignment1\")\n",
        "# # wandb.run.name = f'List of Categories'\n",
        "# # wandb.log({'List of Categories':plt})\n",
        "# # wandb.finish()\n",
        "\n",
        "# # fig.suptitle('List of Categories')\n",
        "# plt.show()"
      ],
      "metadata": {
        "id": "Hkt1ibDQg41B"
      },
      "execution_count": 5,
      "outputs": []
    },
    {
      "cell_type": "code",
      "source": [],
      "metadata": {
        "id": "VQnyti6jjGBn"
      },
      "execution_count": 5,
      "outputs": []
    },
    {
      "cell_type": "code",
      "source": [],
      "metadata": {
        "id": "eTvgDi4LaqPu"
      },
      "execution_count": 5,
      "outputs": []
    },
    {
      "cell_type": "code",
      "source": [
        "def load_data(dataset='fashion_mnist', purpose='train'):\n",
        "  dataset=dataset.lower()\n",
        "  purpose=purpose.lower()\n",
        "  x,x_t,y,y_t = None,None,None,None\n",
        "\n",
        "  if dataset == 'fashion_mnist':\n",
        "    (x, y), (x_t, y_t) = fashion_mnist.load_data()\n",
        "  elif dataset == 'mnist':\n",
        "    (x, y), (x_t, y_t) = mnist.load_data()\n",
        "\n",
        "  if purpose == 'train':\n",
        "    x = x.reshape(x.shape[0], 784) / 255\n",
        "    y = np.eye(10)[y]\n",
        "    return x, y\n",
        "  elif purpose == 'test':\n",
        "    x_t = x_t.reshape(x_t.shape[0], 784) / 255\n",
        "    y_t = np.eye(10)[y_t]\n",
        "    return x_t, y_t"
      ],
      "metadata": {
        "id": "zsax32-WAPI2"
      },
      "execution_count": 6,
      "outputs": []
    },
    {
      "cell_type": "markdown",
      "source": [
        "**Feed Forward Neural Net**"
      ],
      "metadata": {
        "id": "EoEI7S_3avwA"
      }
    },
    {
      "cell_type": "code",
      "source": [
        "class FF_NN:\n",
        "\n",
        "  def __init__(self, param):\n",
        "    self.hidden_layers = param['hidden_lyrs']\n",
        "    self.neurons = param['neurons']\n",
        "    self.input_neurons = param['inpt_sz']\n",
        "    self.output_neurons = param['oupt_sz']\n",
        "    self.weights = []\n",
        "    self.bias = []\n",
        "    self.activation = param['activation']\n",
        "    self.output_activation = param['oupt_activation']\n",
        "    self.weight_initialisation = param['weight_initialisation']\n",
        "\n",
        "    self.get_weights()\n",
        "    self.get_bias()\n",
        "\n",
        "\n",
        "  def get_bias(self):\n",
        "    for _ in range(self.hidden_layers):\n",
        "      self.bias.append(np.random.randn(self.neurons))\n",
        "    self.bias.append(np.random.randn(self.output_neurons))\n",
        "\n",
        "  def get_weights(self):\n",
        "    if self.weight_initialisation.lower() == 'random':\n",
        "      self.weights.append(np.random.randn(self.input_neurons, self.neurons))\n",
        "      for _ in range(self.hidden_layers-1):\n",
        "        self.weights.append(np.random.randn(self.neurons, self.neurons))\n",
        "      self.weights.append(np.random.randn(self.neurons, self.output_neurons))\n",
        "\n",
        "    else:\n",
        "      limit = np.sqrt(6/(self.input_neurons + self.neurons))\n",
        "      self.weights.append(np.random.uniform(low=-limit, high=limit, size=(self.input_neurons, self.neurons)))\n",
        "      limit = np.sqrt(6/(self.neurons + self.neurons))\n",
        "      for _ in range(self.hidden_layers-1):\n",
        "        self.weights.append(np.random.uniform(low=-limit, high=limit, size=(self.neurons, self.neurons)))\n",
        "      limit = np.sqrt(6/(self.neurons + self.output_neurons))\n",
        "      self.weights.append(np.random.uniform(low=-limit, high=limit, size=(self.neurons, self.output_neurons)))\n",
        "\n",
        "\n",
        "  def apply_activation(self, data):\n",
        "    act = self.activation.lower()\n",
        "    if act == 'sigmoid':\n",
        "      data = np.maximum(data, -500)\n",
        "      data = np.minimum(data, 500)\n",
        "      return 1/(1+np.exp(-data))\n",
        "    elif act == 'relu':\n",
        "      return np.maximum(0,data)\n",
        "    elif act == 'tanh':\n",
        "      return np.tanh(data)\n",
        "    elif act == 'identity':\n",
        "      return data\n",
        "\n",
        "\n",
        "  def apply_output_activation(self, data):\n",
        "    if self.output_activation.lower() == 'softmax':\n",
        "      data = np.maximum(data, -500)\n",
        "      data = np.minimum(data, 500)\n",
        "      data = np.exp(data)\n",
        "      return data/np.sum(data,axis=1).reshape(data.shape[0],1)\n",
        "\n",
        "\n",
        "  def feed_forward(self, input):\n",
        "    self.A = [input]\n",
        "    self.H = [input]\n",
        "\n",
        "    # hidden layer calculations...\n",
        "    for i in range(self.hidden_layers):\n",
        "      self.A.append(self.bias[i] + np.matmul(self.H[-1], self.weights[i]))\n",
        "      self.H.append(self.apply_activation(self.A[-1]))\n",
        "\n",
        "    # output layer calculations...\n",
        "    self.A.append(self.bias[-1] + np.matmul(self.H[-1], self.weights[-1]))\n",
        "    self.H.append(self.apply_output_activation(self.A[-1]))\n",
        "\n",
        "    return self.H[-1] # shape of H[-1] = 60000,10   shape of H = layers, 60000, neurons in each layer\n"
      ],
      "metadata": {
        "id": "_Awp3LSHCYbz"
      },
      "execution_count": 7,
      "outputs": []
    },
    {
      "cell_type": "code",
      "source": [
        "# nn = FF_NN(PARAMETERS)\n",
        "# x_train, y_train = load_data(PARAMETERS['dataset'], 'train')\n",
        "# prediction = nn.feed_forward(x_train) # shape of xtrain -> 60000,784\n",
        "# print(prediction[0])"
      ],
      "metadata": {
        "id": "YP5OXM2jAGVV"
      },
      "execution_count": 8,
      "outputs": []
    },
    {
      "cell_type": "code",
      "source": [],
      "metadata": {
        "id": "8fvv5cxJQtrI"
      },
      "execution_count": 8,
      "outputs": []
    },
    {
      "cell_type": "markdown",
      "source": [
        "**Back_Propagation**"
      ],
      "metadata": {
        "id": "m-8nHyZIQuTh"
      }
    },
    {
      "cell_type": "code",
      "source": [
        "class BP_NN:\n",
        "\n",
        "  def __init__(\n",
        "      self,\n",
        "      ff_nn:FF_NN,\n",
        "      param):\n",
        "    self.ff_nn, self.loss, self.activation, self.output_activation = ff_nn, param['loss_function'], param['activation'], param['oupt_activation']\n",
        "\n",
        "\n",
        "  def der_actvtn(self, x):\n",
        "    act = self.activation.lower()\n",
        "    if act == \"sigmoid\":\n",
        "      return x * (1 - x)\n",
        "    elif act == \"tanh\":\n",
        "      return 1 - x ** 2\n",
        "    elif act == \"relu\":\n",
        "      return (x > 0).astype(int)\n",
        "    elif act == \"identity\":\n",
        "      return np.ones(x.shape)\n",
        "\n",
        "  def der_ls(self, y, yp):\n",
        "    ls = self.loss.lower()\n",
        "    if ls == \"mean_squared_error\":\n",
        "      return yp-y\n",
        "    elif ls == \"cross_entropy\":\n",
        "      return -y/yp\n",
        "\n",
        "  def der_outpt_actvtn(self, yp):\n",
        "    act = self.output_activation.lower()\n",
        "    if act == \"softmax\":\n",
        "      return np.diag(yp)-np.outer(yp, yp)\n",
        "\n",
        "\n",
        "  def propogate_backward(self, y, y_pred):  # y=60000,10   y_pred=60000,10\n",
        "    self.d_h, self.d_a, self.delta_weights, self.delta_bias = [], [], [], []\n",
        "    der_outpt_mat = []\n",
        "\n",
        "    self.d_h.append(self.der_ls(y, y_pred))\n",
        "    for i in range(y_pred.shape[0]):\n",
        "        der_outpt_mat.append(np.matmul(self.der_ls(y[i], y_pred[i]), self.der_outpt_actvtn(y_pred[i])))\n",
        "    der_outpt_arr = np.array(der_outpt_mat)\n",
        "    self.d_a.append(der_outpt_arr)\n",
        "    # self.d_a.append(y_pred-y)\n",
        "\n",
        "    for i in range(self.ff_nn.hidden_layers, 0, -1):\n",
        "      self.delta_weights.append(np.matmul(self.ff_nn.H[i].T, self.d_a[-1]))\n",
        "      self.delta_bias.append(np.sum(self.d_a[-1], axis=0))\n",
        "      self.d_h.append(np.matmul(self.d_a[-1], self.ff_nn.weights[i].T))\n",
        "      self.d_a.append(self.d_h[-1] * self.der_actvtn(self.ff_nn.H[i]))\n",
        "\n",
        "    self.delta_weights.append(np.matmul(self.ff_nn.H[0].T, self.d_a[-1]))\n",
        "    self.delta_weights.reverse()\n",
        "    self.delta_bias.append(np.sum(self.d_a[-1], axis=0))\n",
        "    self.delta_bias.reverse()\n",
        "\n",
        "    for i in range(len(self.delta_bias)):\n",
        "      self.delta_weights[i] = self.delta_weights[i] / y.shape[0]\n",
        "      self.delta_bias[i] = self.delta_bias[i] / y.shape[0]\n",
        "\n",
        "    return self.delta_weights, self.delta_bias"
      ],
      "metadata": {
        "id": "k5e66lFgROJI"
      },
      "execution_count": 9,
      "outputs": []
    },
    {
      "cell_type": "code",
      "source": [],
      "metadata": {
        "id": "yXz9TvroRcUF"
      },
      "execution_count": 9,
      "outputs": []
    },
    {
      "cell_type": "markdown",
      "source": [
        "**Optimizers**"
      ],
      "metadata": {
        "id": "sQyYmWEZgLvq"
      }
    },
    {
      "cell_type": "code",
      "source": [
        "class Optimizer():\n",
        "  def __init__(\n",
        "      self,\n",
        "      ff_nn: FF_NN,\n",
        "      bp_nn: BP_NN,\n",
        "      param\n",
        "  ):\n",
        "    self.ff_nn, self.bp_nn, self.lr, self.optimizer, self.momentum, self.decay = ff_nn, bp_nn, param['learning_rate'], param['optimizer'], param['momentum'], param['decay']\n",
        "    self.B1, self.B2, self.eps, self.t = param['beta1'], param['beta2'], param['epsilon'], 0\n",
        "    self.b_history = [np.zeros_like(i) for i in self.ff_nn.bias]\n",
        "    self.b_hm = [np.zeros_like(i) for i in self.ff_nn.bias]\n",
        "    self.w_history = [np.zeros_like(i) for i in self.ff_nn.weights]\n",
        "    self.w_hm = [np.zeros_like(i) for i in self.ff_nn.weights]\n",
        "\n",
        "\n",
        "  def optimize(self, delta_weights, delta_bias):\n",
        "    opt = self.optimizer.lower()\n",
        "    if(opt == \"sgd\"):\n",
        "      self.SGD(delta_weights, delta_bias)\n",
        "    elif(opt == \"momentum\"):\n",
        "      self.MGD(delta_weights, delta_bias)\n",
        "    elif(opt == \"nesterov\"):\n",
        "      self.NAG(delta_weights, delta_bias)\n",
        "    elif(opt == \"rmsprop\"):\n",
        "      self.RMSPROP(delta_weights, delta_bias)\n",
        "    elif(opt == \"adam\"):\n",
        "      self.ADAM(delta_weights, delta_bias)\n",
        "    elif(opt == \"nadam\"):\n",
        "      self.NADAM(delta_weights, delta_bias)\n",
        "\n",
        "\n",
        "  def SGD(self, delta_weights, delta_bias):\n",
        "    for i in range(self.ff_nn.hidden_layers + 1):\n",
        "      self.ff_nn.weights[i] -= self.lr * (delta_weights[i] + self.ff_nn.weights[i]*self.decay)\n",
        "      self.ff_nn.bias[i] -= self.lr * (delta_bias[i] + self.ff_nn.bias[i]*self.decay)\n",
        "\n",
        "  def MGD(self, delta_weights, delta_bias):\n",
        "    for i in range(self.ff_nn.hidden_layers + 1):\n",
        "      self.w_history[i] = self.momentum * self.w_history[i] + delta_weights[i]\n",
        "      self.ff_nn.weights[i] -= self.lr * (self.w_history[i] + self.ff_nn.weights[i]*self.decay)\n",
        "      self.b_history[i] = self.momentum * self.b_history[i] + delta_bias[i]\n",
        "      self.ff_nn.bias[i] -= self.lr * (self.b_history[i] + self.ff_nn.bias[i]*self.decay)\n",
        "\n",
        "  def NAG(self, delta_weights, delta_bias):\n",
        "    for i in range(self.ff_nn.hidden_layers + 1):\n",
        "      self.w_history[i] = self.momentum * self.w_history[i] + delta_weights[i]\n",
        "      self.ff_nn.weights[i] -= self.lr * (self.momentum * self.w_history[i] + delta_weights[i] + self.ff_nn.weights[i]*self.decay)\n",
        "      self.b_history[i] = self.momentum * self.b_history[i] + delta_bias[i]\n",
        "      self.ff_nn.bias[i] -= self.lr * (self.momentum * self.b_history[i] + delta_bias[i] + self.ff_nn.bias[i]*self.decay)\n",
        "\n",
        "\n",
        "  def RMSPROP(self, delta_weights, delta_bias):\n",
        "    for i in range(self.ff_nn.hidden_layers + 1):\n",
        "      self.w_history[i] = self.w_history[i]*self.momentum + (1-self.momentum)*delta_weights[i]**2\n",
        "      self.ff_nn.weights[i] -= delta_weights[i]*(self.lr / (np.sqrt(self.w_history[i]) + self.eps)) + self.decay * self.ff_nn.weights[i] * self.lr\n",
        "      self.b_history[i] = self.b_history[i]*self.momentum + (1-self.momentum)*delta_bias[i]**2\n",
        "      self.ff_nn.bias[i] -= delta_bias[i]*(self.lr / (np.sqrt(self.b_history[i]) + self.eps)) + self.decay * self.ff_nn.bias[i] * self.lr\n",
        "\n",
        "\n",
        "  def ADAM(self, delta_weights, delta_bias):\n",
        "    for i in range(self.ff_nn.hidden_layers + 1):\n",
        "      self.w_hm[i] = self.B1 * self.w_hm[i] + (1 - self.B1) * delta_weights[i]\n",
        "      self.w_history[i] = self.B2 * self.w_history[i] + (1 - self.B2) * delta_weights[i]**2\n",
        "      self.w_hat_hm = self.w_hm[i] / (1 - self.B1**(self.t + 1))\n",
        "      self.w_history_hat = self.w_history[i] / (1 - self.B2**(self.t + 1))\n",
        "      self.ff_nn.weights[i] -= self.lr * (self.w_hat_hm / ((np.sqrt(self.w_history_hat)) + self.eps) + self.decay * self.ff_nn.weights[i])\n",
        "\n",
        "      self.b_hm[i] = self.B1 * self.b_hm[i] + (1 - self.B1) * delta_bias[i]\n",
        "      self.b_history[i] = self.B2 * self.b_history[i] + (1 - self.B2) * delta_bias[i]**2\n",
        "      self.b_hat_hm = self.b_hm[i] / (1 - self.B1**(1+self.t))\n",
        "      self.h_hat_b = self.b_history[i] / (1 - self.B2**(1+self.t))\n",
        "      self.ff_nn.bias[i] -= self.lr * (self.b_hat_hm / ((np.sqrt(self.h_hat_b)) + self.eps) + self.decay * self.ff_nn.bias[i])\n",
        "\n",
        "\n",
        "  def NADAM(self, delta_weights, delta_bias):\n",
        "    for i in range(self.ff_nn.hidden_layers + 1):\n",
        "      self.w_hm[i] = self.B1 * self.w_hm[i] + (1 - self.B1) * delta_weights[i]\n",
        "      self.w_hat_hm = self.w_hm[i] / (1 - self.B1 ** (self.t + 1))\n",
        "      self.w_history[i] = self.B2 * self.w_history[i] + (1 - self.B2) * delta_weights[i]**2\n",
        "      self.w_history_hat = self.w_history[i] / (1 - self.B2 ** (self.t + 1))\n",
        "      w_temp = self.B1 * self.w_hat_hm + ((1 - self.B1) / (1 - self.B1 ** (self.t + 1))) * delta_weights[i]\n",
        "      self.ff_nn.weights[i] -= self.lr * (w_temp / ((np.sqrt(self.w_history_hat)) + self.eps) + self.decay * self.ff_nn.weights[i])\n",
        "\n",
        "\n",
        "      self.b_hm[i] = self.B1 * self.b_hm[i] + (1 - self.B1) * delta_bias[i]\n",
        "      self.b_hat_hm = self.b_hm[i] / (1 - self.B1 ** (self.t + 1))\n",
        "      self.b_history[i] = self.B2 * self.b_history[i] + (1 - self.B2) * delta_bias[i]**2\n",
        "      self.h_hat_b = self.b_history[i] / (1 - self.B2 ** (self.t + 1))\n",
        "      b_temp = self.B1 * self.b_hat_hm + ((1 - self.B1) / (1 - self.B1 ** (self.t + 1))) * delta_bias[i]\n",
        "      self.ff_nn.bias[i] -= self.lr * (b_temp / ((np.sqrt(self.h_hat_b)) + self.eps) + self.decay * self.ff_nn.bias[i])\n"
      ],
      "metadata": {
        "id": "D5uVrcosgti4"
      },
      "execution_count": 10,
      "outputs": []
    },
    {
      "cell_type": "code",
      "source": [
        "def calculate_loss(y, y_pred, loss_function):\n",
        "  ls_fn = loss_function.lower()\n",
        "  if ls_fn == \"mean_squared_error\":\n",
        "    return np.sum((y_pred-y) ** 2) / y.shape[0]\n",
        "  elif ls_fn == \"cross_entropy\":\n",
        "    return (-np.sum(y * np.log(y_pred))) / y.shape[0]\n"
      ],
      "metadata": {
        "id": "-doCB1E_jEvf"
      },
      "execution_count": 11,
      "outputs": []
    },
    {
      "cell_type": "code",
      "source": [
        "# def train(PARAMETERS):\n",
        "#   # wandb.init()\n",
        "#   # PARAMETERS = wandb.config\n",
        "#   # wandb.run.name = f'hl_{PARAMETERS.hidden_lyrs}_bs_{PARAMETERS.batch_sz}_ac_{PARAMETERS.activation}'\n",
        "\n",
        "#   x_train, y_train = load_data(PARAMETERS['dataset'], 'train')\n",
        "#   np.random.seed(7)\n",
        "#   ff_nn = FF_NN(PARAMETERS)\n",
        "#   bp_nn = BP_NN(ff_nn, PARAMETERS)\n",
        "#   opt = Optimizer(ff_nn, bp_nn, PARAMETERS)\n",
        "#   print(\"Initial Accuracy: {}\".format(np.sum(np.argmax(ff_nn.feed_forward(x_train), axis=1) == np.argmax(y_train, axis=1)) / y_train.shape[0]))\n",
        "#   batch_size = PARAMETERS['batch_sz']\n",
        "\n",
        "#   x_train, x_train_t, y_train, y_train_t = train_test_split(x_train, y_train, test_size=0.1, random_state=7)\n",
        "\n",
        "#   for epoch in range(PARAMETERS['epochs']):\n",
        "#     for i in range(0, x_train.shape[0], batch_size):\n",
        "#       y_batch = y_train[i:i+batch_size]\n",
        "#       x_batch = x_train[i:i+batch_size]\n",
        "#       opt.optimize(*bp_nn.propogate_backward(y_batch, ff_nn.feed_forward(x_batch)))\n",
        "\n",
        "#     opt.t += 1\n",
        "#     y_pred = ff_nn.feed_forward(x_train)\n",
        "#     y_pred_t = ff_nn.feed_forward(x_train_t)\n",
        "#     print(\"epoch-\",epoch+1)\n",
        "#     print(\"accuracy-\",np.sum(np.argmax(y_pred, axis=1) == np.argmax(y_train, axis=1)) / y_train.shape[0])\n",
        "#     print(\"loss-\", calculate_loss(y_train, y_pred, PARAMETERS['loss_function']))\n",
        "#     print(\"validation-\",np.sum(np.argmax(y_pred_t, axis=1) == np.argmax(y_train_t, axis=1)) / y_train_t.shape[0])\n",
        "\n",
        "\n",
        "#     # lg={\n",
        "#     #     'accuracy':np.sum(np.argmax(y_pred, axis=1) == np.argmax(y_train, axis=1)) / y_train.shape[0],\n",
        "#     #     'val_accuracy':np.sum(np.argmax(y_pred_t, axis=1) == np.argmax(y_train_t, axis=1)) / y_train_t.shape[0],\n",
        "#     #     'epoch':epoch+1,\n",
        "#     #     'loss':calculate_loss(y_train, y_pred, PARAMETERS['loss_function']),\n",
        "#     #     'validation_loss':calculate_loss(y_train_t, y_pred_t, PARAMETERS['loss_function'])\n",
        "#     # }\n",
        "#     # wandb.log(lg)\n",
        "\n",
        "\n",
        "#   return ff_nn\n"
      ],
      "metadata": {
        "id": "V3fGH5jfjEqz"
      },
      "execution_count": 12,
      "outputs": []
    },
    {
      "cell_type": "code",
      "source": [
        "# # Best Validation Accuracy Parameters ...\n",
        "# PARAMETERS = {\n",
        "#     'inpt_sz' : 784,\n",
        "#     'oupt_sz' : 10,\n",
        "#     'neurons' : 32,\n",
        "#     'hidden_lyrs' : 4,\n",
        "#     'activation' : 'tanh',\n",
        "#     'oupt_activation' : 'softmax',\n",
        "#     'dataset' : 'fashion_mnist',\n",
        "#     'loss_function': 'cross_entropy',\n",
        "#     'learning_rate': 0.001,\n",
        "#     'optimizer': 'adam',\n",
        "#     'momentum': 0.9,\n",
        "#     'batch_sz': 16,\n",
        "#     'epochs': 10,\n",
        "#     'weight_initialisation': 'xavier',\n",
        "#     'decay': 0.0005,\n",
        "#     'beta': 0.9,\n",
        "#     'beta1': 0.9,\n",
        "#     'beta2': 0.999,\n",
        "#     'epsilon': 1e-8\n",
        "# }"
      ],
      "metadata": {
        "id": "mSx2jPGAjxIT"
      },
      "execution_count": 13,
      "outputs": []
    },
    {
      "cell_type": "code",
      "source": [
        "# model = train(PARAMETERS)"
      ],
      "metadata": {
        "id": "IKyouRUyK6Oa",
        "colab": {
          "base_uri": "https://localhost:8080/"
        },
        "outputId": "4fa5aecc-e780-4756-c6b1-387e93d50ddb"
      },
      "execution_count": 14,
      "outputs": [
        {
          "output_type": "stream",
          "name": "stdout",
          "text": [
            "Initial Accuracy: 0.1\n",
            "epoch- 1\n",
            "accuracy- 0.8487037037037037\n",
            "loss- 0.4249131213636829\n",
            "validation- 0.8406666666666667\n",
            "epoch- 2\n",
            "accuracy- 0.8653518518518518\n",
            "loss- 0.37346304950517567\n",
            "validation- 0.8536666666666667\n",
            "epoch- 3\n",
            "accuracy- 0.8734259259259259\n",
            "loss- 0.34932005610715183\n",
            "validation- 0.8615\n",
            "epoch- 4\n",
            "accuracy- 0.8787222222222222\n",
            "loss- 0.33325438217264247\n",
            "validation- 0.8636666666666667\n",
            "epoch- 5\n",
            "accuracy- 0.8824814814814815\n",
            "loss- 0.3210413166754241\n",
            "validation- 0.8665\n",
            "epoch- 6\n",
            "accuracy- 0.8860370370370371\n",
            "loss- 0.31085882898893347\n",
            "validation- 0.8703333333333333\n",
            "epoch- 7\n",
            "accuracy- 0.8890555555555556\n",
            "loss- 0.302108374585719\n",
            "validation- 0.8721666666666666\n",
            "epoch- 8\n",
            "accuracy- 0.8919814814814815\n",
            "loss- 0.2946252693403678\n",
            "validation- 0.8726666666666667\n",
            "epoch- 9\n",
            "accuracy- 0.8945185185185185\n",
            "loss- 0.28811345852583975\n",
            "validation- 0.8736666666666667\n",
            "epoch- 10\n",
            "accuracy- 0.8966851851851851\n",
            "loss- 0.2823468789652041\n",
            "validation- 0.8733333333333333\n"
          ]
        }
      ]
    },
    {
      "cell_type": "code",
      "source": [
        "# def plot_confusion_mat(y, y_pred):\n",
        "#   import pandas as pd\n",
        "#   import seaborn as sn\n",
        "#   mp = np.zeros((len(CLASSES),len(CLASSES)))\n",
        "#   for i,j in zip(y, y_pred):\n",
        "#     mp[np.argmax(i)][np.argmax(j)]+=1\n",
        "\n",
        "#   df_cm = pd.DataFrame(mp, [i for i in CLASSES.values()], [i for i in CLASSES.values()])\n",
        "#   plt.figure(figsize=(12,12))\n",
        "#   sn.set(font_scale=1) # for label size\n",
        "#   sn.heatmap(df_cm, annot=True, annot_kws={\"size\": 9}, cmap='crest', fmt='g') # font size\n",
        "#   plt.xlabel('Prediction')\n",
        "#   plt.ylabel('Actual')\n",
        "\n",
        "#   wandb.init(project=\"cs6910_assignment1\")\n",
        "#   wandb.run.name = f'Q7 Confusion Matrix'\n",
        "#   wandb.log({\"plot\":wandb.Image(plt)})\n",
        "#   wandb.finish()\n"
      ],
      "metadata": {
        "id": "83OA4q4LiEbc"
      },
      "execution_count": 15,
      "outputs": []
    },
    {
      "cell_type": "code",
      "source": [
        "# x_test, y_test = load_data(PARAMETERS['dataset'], 'test')\n",
        "# prediction = model.feed_forward(x_test)\n",
        "# plot_confusion_mat(y_test, prediction)"
      ],
      "metadata": {
        "id": "-5_cJebzpbPN"
      },
      "execution_count": 16,
      "outputs": []
    },
    {
      "cell_type": "code",
      "source": [
        "def train():\n",
        "  wandb.init()\n",
        "  PARAMETERS = wandb.config\n",
        "  wandb.run.name = f'hl_{PARAMETERS.hidden_lyrs}_bs_{PARAMETERS.batch_sz}_ac_{PARAMETERS.activation}'\n",
        "\n",
        "  x_train, y_train = load_data(PARAMETERS['dataset'], 'train')\n",
        "  np.random.seed(7)\n",
        "  ff_nn = FF_NN(PARAMETERS)\n",
        "  bp_nn = BP_NN(ff_nn, PARAMETERS)\n",
        "  opt = Optimizer(ff_nn, bp_nn, PARAMETERS)\n",
        "  print(\"Initial Accuracy: {}\".format(np.sum(np.argmax(ff_nn.feed_forward(x_train), axis=1) == np.argmax(y_train, axis=1)) / y_train.shape[0]))\n",
        "  batch_size = PARAMETERS['batch_sz']\n",
        "\n",
        "  x_train, x_train_t, y_train, y_train_t = train_test_split(x_train, y_train, test_size=0.1, random_state=7)\n",
        "\n",
        "  for epoch in range(PARAMETERS['epochs']):\n",
        "    for i in range(0, x_train.shape[0], batch_size):\n",
        "      y_batch = y_train[i:i+batch_size]\n",
        "      x_batch = x_train[i:i+batch_size]\n",
        "      opt.optimize(*bp_nn.propogate_backward(y_batch, ff_nn.feed_forward(x_batch)))\n",
        "\n",
        "    opt.t += 1\n",
        "    y_pred = ff_nn.feed_forward(x_train)\n",
        "    y_pred_t = ff_nn.feed_forward(x_train_t)\n",
        "    print(\"epoch-\",epoch+1)\n",
        "    print(\"accuracy-\",np.sum(np.argmax(y_pred, axis=1) == np.argmax(y_train, axis=1)) / y_train.shape[0])\n",
        "    print(\"loss-\", calculate_loss(y_train, y_pred, PARAMETERS['loss_function']))\n",
        "    print(\"validation-\",np.sum(np.argmax(y_pred_t, axis=1) == np.argmax(y_train_t, axis=1)) / y_train_t.shape[0])\n",
        "\n",
        "\n",
        "    lg={\n",
        "        'accuracy':np.sum(np.argmax(y_pred, axis=1) == np.argmax(y_train, axis=1)) / y_train.shape[0],\n",
        "        'val_accuracy':np.sum(np.argmax(y_pred_t, axis=1) == np.argmax(y_train_t, axis=1)) / y_train_t.shape[0],\n",
        "        'epoch':epoch+1,\n",
        "        'loss':calculate_loss(y_train, y_pred, PARAMETERS['loss_function']),\n",
        "        'validation_loss':calculate_loss(y_train_t, y_pred_t, PARAMETERS['loss_function'])\n",
        "    }\n",
        "    wandb.log(lg)\n",
        "\n",
        "\n",
        "  return ff_nn\n"
      ],
      "metadata": {
        "id": "tgAhIl9ueTKO"
      },
      "execution_count": null,
      "outputs": []
    },
    {
      "cell_type": "code",
      "source": [
        "sweep_config = {\n",
        "    \"method\": \"bayes\",\n",
        "    \"name\": \"Q4 WandB sweep\",\n",
        "    \"metric\": {\"goal\": \"maximize\", \"name\": \"accuracy\"},\n",
        "    \"parameters\": {\n",
        "        \"inpt_sz\": {\"values\": [784]},\n",
        "        \"oupt_sz\": {\"values\": [10]},\n",
        "        \"oupt_activation\": {\"values\": [\"softmax\"]},\n",
        "        \"dataset\": {\"values\": [\"fashion_mnist\"]},\n",
        "        \"loss_function\": {\"values\": [\"cross_entropy\"]},\n",
        "        \"beta\": {\"values\": [0.9]},\n",
        "        \"beta1\": {\"values\": [0.9]},\n",
        "        \"beta2\": {\"values\": [0.999]},\n",
        "        \"neurons\": {\"values\": [32, 64, 128]},\n",
        "        \"hidden_lyrs\": {\"values\": [3, 4, 5]},\n",
        "        \"activation\": {\"values\": [\"relu\", \"tanh\", \"sigmoid\"]},\n",
        "        \"learning_rate\": {\"values\": [1e-3, 1e-4]},\n",
        "        \"optimizer\": {\"values\": ['adam', 'sgd', 'nesterov', 'rmsprop', 'momentum', 'nadam']},\n",
        "        \"momentum\": {\"values\": [0.8, 0.9]},\n",
        "        \"batch_sz\": {\"values\": [16, 32, 64]},\n",
        "        \"epochs\": {\"values\": [5, 10]},\n",
        "        \"weight_initialisation\": {\"values\": [\"random\", \"xavier\"]},\n",
        "        \"decay\": {\"values\": [0, 0.0005, 0.5]},\n",
        "        \"epsilon\": {\"values\": [1e-8, 1e-10]},\n",
        "    }\n",
        "}\n"
      ],
      "metadata": {
        "id": "SVSsiDyzEHQK"
      },
      "execution_count": null,
      "outputs": []
    },
    {
      "cell_type": "code",
      "source": [
        "sweep_id = wandb.sweep(sweep_config, project=\"cs6910_assignment1\")"
      ],
      "metadata": {
        "colab": {
          "base_uri": "https://localhost:8080/"
        },
        "id": "QoM39NQ-HP8n",
        "outputId": "ed4d7b05-27ec-4f53-cd29-2f26c1fa5dba"
      },
      "execution_count": null,
      "outputs": [
        {
          "output_type": "stream",
          "name": "stdout",
          "text": [
            "Create sweep with ID: e00roqbx\n",
            "Sweep URL: https://wandb.ai/cs23m070/cs6910_assignment1/sweeps/e00roqbx\n"
          ]
        }
      ]
    },
    {
      "cell_type": "code",
      "source": [
        "wandb.agent(sweep_id, function=train, count=5)\n",
        "wandb.finish()"
      ],
      "metadata": {
        "colab": {
          "base_uri": "https://localhost:8080/",
          "height": 1000,
          "referenced_widgets": [
            "a70f629048b044fd962f1dcabe69c5c4",
            "29830ce353694d61975a740373771121",
            "9b5e1819c5cc45949f505fafae64a2d2",
            "1ece109235254def92f0a8d7e9b75e8f",
            "4b4bb373502e42368db28db2490c951a",
            "1e19f7302cd240e78a78a43095f57a47",
            "2d2bec45ffcf48a2b53165410a75a7ed",
            "a65094a858da43c0867244a88d8e3a69",
            "c96a65aaefe1412f8c7a8da19abdd67f",
            "0d5b3d3176874889812f419d9aeb1f12",
            "4805ee23eb074ce4a6bdb9000400bfa4",
            "347c84e7f7884a2ea767837d75d749e6",
            "6f4f3879ea6b49d5bcff5ab64fbf5d66",
            "61a7ac0420784379bd2552d53ad91d61",
            "189d80ee23b147738c6312e42ed5e856",
            "5b2aa20a9ef4496bbe1b5a94023969ce",
            "8bb51ed0c24d4d4daad3d59102125574",
            "e014ac46a43e4eb89e0cb32d5ae83109",
            "2875627064614db1b594290cffdb43b9",
            "e82f9df9513f49169738073450db3bfa",
            "b9687f5272c84bad9de15c6a899d5eee",
            "377bcc13614e4adcaf727701b2d0da5a",
            "4d3d832f22d644ee859da72b63321d03",
            "9997b64bc5a5493eb7c73deb51134df5",
            "a20985da13f443b4b2427d3492790a10",
            "9bbe7c2ed5de47b4961004b178806980",
            "cbb82d602d444d7381fc756590893e1c",
            "c5758e3f81e843788704bf288d0b1e7d",
            "fb025d3fc95745cc802174de207b3e29",
            "adcdc1f893034fbba4c79d796606dac9",
            "8c3fbaf2b1ee44fd8594869c021c9179",
            "9610b961f5454a76b5cf6b39ca258040",
            "d4736f3fb67547868c1ec0fb18884a5a",
            "0aa081b8ad094169a2276b033f0f2797",
            "45d9e8c16132490395dbc8b25d525e30",
            "03689ede7f6646fab77ae46d1aee4875",
            "c59fe089d8aa479d82dfc6de0d83794a",
            "0de117f6b0834e36bae2d2f5bf802dd7",
            "e45e70af548047c6ba152b4b08066b3b",
            "75087ca529544965a0275eac8eef10ea"
          ]
        },
        "id": "mTIL2dA_cYND",
        "outputId": "92513933-07e1-44ee-dd14-6542371d0dc2"
      },
      "execution_count": null,
      "outputs": [
        {
          "output_type": "stream",
          "name": "stderr",
          "text": [
            "\u001b[34m\u001b[1mwandb\u001b[0m: Agent Starting Run: 3e8nuudj with config:\n",
            "\u001b[34m\u001b[1mwandb\u001b[0m: \tactivation: tanh\n",
            "\u001b[34m\u001b[1mwandb\u001b[0m: \tbatch_sz: 64\n",
            "\u001b[34m\u001b[1mwandb\u001b[0m: \tbeta: 0.9\n",
            "\u001b[34m\u001b[1mwandb\u001b[0m: \tbeta1: 0.9\n",
            "\u001b[34m\u001b[1mwandb\u001b[0m: \tbeta2: 0.999\n",
            "\u001b[34m\u001b[1mwandb\u001b[0m: \tdataset: fashion_mnist\n",
            "\u001b[34m\u001b[1mwandb\u001b[0m: \tdecay: 0.5\n",
            "\u001b[34m\u001b[1mwandb\u001b[0m: \tepochs: 5\n",
            "\u001b[34m\u001b[1mwandb\u001b[0m: \tepsilon: 1e-10\n",
            "\u001b[34m\u001b[1mwandb\u001b[0m: \thidden_lyrs: 3\n",
            "\u001b[34m\u001b[1mwandb\u001b[0m: \tinpt_sz: 784\n",
            "\u001b[34m\u001b[1mwandb\u001b[0m: \tlearning_rate: 0.001\n",
            "\u001b[34m\u001b[1mwandb\u001b[0m: \tloss_function: cross_entropy\n",
            "\u001b[34m\u001b[1mwandb\u001b[0m: \tmomentum: 0.9\n",
            "\u001b[34m\u001b[1mwandb\u001b[0m: \tneurons: 64\n",
            "\u001b[34m\u001b[1mwandb\u001b[0m: \toptimizer: rmsprop\n",
            "\u001b[34m\u001b[1mwandb\u001b[0m: \toupt_activation: softmax\n",
            "\u001b[34m\u001b[1mwandb\u001b[0m: \toupt_sz: 10\n",
            "\u001b[34m\u001b[1mwandb\u001b[0m: \tweight_initialisation: xavier\n"
          ]
        },
        {
          "output_type": "display_data",
          "data": {
            "text/plain": [
              "<IPython.core.display.HTML object>"
            ],
            "text/html": [
              "Tracking run with wandb version 0.16.4"
            ]
          },
          "metadata": {}
        },
        {
          "output_type": "display_data",
          "data": {
            "text/plain": [
              "<IPython.core.display.HTML object>"
            ],
            "text/html": [
              "Run data is saved locally in <code>/content/wandb/run-20240316_065249-3e8nuudj</code>"
            ]
          },
          "metadata": {}
        },
        {
          "output_type": "display_data",
          "data": {
            "text/plain": [
              "<IPython.core.display.HTML object>"
            ],
            "text/html": [
              "Syncing run <strong><a href='https://wandb.ai/cs23m070/cs6910_assignment1/runs/3e8nuudj' target=\"_blank\">morning-sweep-6</a></strong> to <a href='https://wandb.ai/cs23m070/cs6910_assignment1' target=\"_blank\">Weights & Biases</a> (<a href='https://wandb.me/run' target=\"_blank\">docs</a>)<br/>Sweep page: <a href='https://wandb.ai/cs23m070/cs6910_assignment1/sweeps/e00roqbx' target=\"_blank\">https://wandb.ai/cs23m070/cs6910_assignment1/sweeps/e00roqbx</a>"
            ]
          },
          "metadata": {}
        },
        {
          "output_type": "display_data",
          "data": {
            "text/plain": [
              "<IPython.core.display.HTML object>"
            ],
            "text/html": [
              " View project at <a href='https://wandb.ai/cs23m070/cs6910_assignment1' target=\"_blank\">https://wandb.ai/cs23m070/cs6910_assignment1</a>"
            ]
          },
          "metadata": {}
        },
        {
          "output_type": "display_data",
          "data": {
            "text/plain": [
              "<IPython.core.display.HTML object>"
            ],
            "text/html": [
              " View sweep at <a href='https://wandb.ai/cs23m070/cs6910_assignment1/sweeps/e00roqbx' target=\"_blank\">https://wandb.ai/cs23m070/cs6910_assignment1/sweeps/e00roqbx</a>"
            ]
          },
          "metadata": {}
        },
        {
          "output_type": "display_data",
          "data": {
            "text/plain": [
              "<IPython.core.display.HTML object>"
            ],
            "text/html": [
              " View run at <a href='https://wandb.ai/cs23m070/cs6910_assignment1/runs/3e8nuudj' target=\"_blank\">https://wandb.ai/cs23m070/cs6910_assignment1/runs/3e8nuudj</a>"
            ]
          },
          "metadata": {}
        },
        {
          "output_type": "stream",
          "name": "stdout",
          "text": [
            "Initial Accuracy: 0.1\n",
            "epoch- 1\n",
            "accuracy- 0.8342037037037037\n",
            "loss- 0.4525486255549258\n",
            "validation- 0.8253333333333334\n",
            "epoch- 2\n",
            "accuracy- 0.8455185185185186\n",
            "loss- 0.42245035412416165\n",
            "validation- 0.8393333333333334\n",
            "epoch- 3\n",
            "accuracy- 0.8507962962962963\n",
            "loss- 0.4074257018619091\n",
            "validation- 0.8438333333333333\n",
            "epoch- 4\n",
            "accuracy- 0.8537962962962963\n",
            "loss- 0.4017881462482137\n",
            "validation- 0.8445\n",
            "epoch- 5\n",
            "accuracy- 0.8547407407407407\n",
            "loss- 0.3998902835524814\n",
            "validation- 0.8456666666666667\n"
          ]
        },
        {
          "output_type": "display_data",
          "data": {
            "text/plain": [
              "VBox(children=(Label(value='0.001 MB of 0.001 MB uploaded\\r'), FloatProgress(value=1.0, max=1.0)))"
            ],
            "application/vnd.jupyter.widget-view+json": {
              "version_major": 2,
              "version_minor": 0,
              "model_id": "a70f629048b044fd962f1dcabe69c5c4"
            }
          },
          "metadata": {}
        },
        {
          "output_type": "display_data",
          "data": {
            "text/plain": [
              "<IPython.core.display.HTML object>"
            ],
            "text/html": [
              "<style>\n",
              "    table.wandb td:nth-child(1) { padding: 0 10px; text-align: left ; width: auto;} td:nth-child(2) {text-align: left ; width: 100%}\n",
              "    .wandb-row { display: flex; flex-direction: row; flex-wrap: wrap; justify-content: flex-start; width: 100% }\n",
              "    .wandb-col { display: flex; flex-direction: column; flex-basis: 100%; flex: 1; padding: 10px; }\n",
              "    </style>\n",
              "<div class=\"wandb-row\"><div class=\"wandb-col\"><h3>Run history:</h3><br/><table class=\"wandb\"><tr><td>accuracy</td><td>▁▅▇██</td></tr><tr><td>epoch</td><td>▁▃▅▆█</td></tr><tr><td>loss</td><td>█▄▂▁▁</td></tr><tr><td>val_accuracy</td><td>▁▆▇██</td></tr><tr><td>validation_loss</td><td>█▄▂▁▁</td></tr></table><br/></div><div class=\"wandb-col\"><h3>Run summary:</h3><br/><table class=\"wandb\"><tr><td>accuracy</td><td>0.85474</td></tr><tr><td>epoch</td><td>5</td></tr><tr><td>loss</td><td>0.39989</td></tr><tr><td>val_accuracy</td><td>0.84567</td></tr><tr><td>validation_loss</td><td>0.43108</td></tr></table><br/></div></div>"
            ]
          },
          "metadata": {}
        },
        {
          "output_type": "display_data",
          "data": {
            "text/plain": [
              "<IPython.core.display.HTML object>"
            ],
            "text/html": [
              " View run <strong style=\"color:#cdcd00\">morning-sweep-6</strong> at: <a href='https://wandb.ai/cs23m070/cs6910_assignment1/runs/3e8nuudj' target=\"_blank\">https://wandb.ai/cs23m070/cs6910_assignment1/runs/3e8nuudj</a><br/>Synced 5 W&B file(s), 0 media file(s), 0 artifact file(s) and 0 other file(s)"
            ]
          },
          "metadata": {}
        },
        {
          "output_type": "display_data",
          "data": {
            "text/plain": [
              "<IPython.core.display.HTML object>"
            ],
            "text/html": [
              "Find logs at: <code>./wandb/run-20240316_065249-3e8nuudj/logs</code>"
            ]
          },
          "metadata": {}
        },
        {
          "output_type": "stream",
          "name": "stderr",
          "text": [
            "\u001b[34m\u001b[1mwandb\u001b[0m: Agent Starting Run: qdsxb1ht with config:\n",
            "\u001b[34m\u001b[1mwandb\u001b[0m: \tactivation: relu\n",
            "\u001b[34m\u001b[1mwandb\u001b[0m: \tbatch_sz: 64\n",
            "\u001b[34m\u001b[1mwandb\u001b[0m: \tbeta: 0.9\n",
            "\u001b[34m\u001b[1mwandb\u001b[0m: \tbeta1: 0.9\n",
            "\u001b[34m\u001b[1mwandb\u001b[0m: \tbeta2: 0.999\n",
            "\u001b[34m\u001b[1mwandb\u001b[0m: \tdataset: fashion_mnist\n",
            "\u001b[34m\u001b[1mwandb\u001b[0m: \tdecay: 0.0005\n",
            "\u001b[34m\u001b[1mwandb\u001b[0m: \tepochs: 5\n",
            "\u001b[34m\u001b[1mwandb\u001b[0m: \tepsilon: 1e-10\n",
            "\u001b[34m\u001b[1mwandb\u001b[0m: \thidden_lyrs: 3\n",
            "\u001b[34m\u001b[1mwandb\u001b[0m: \tinpt_sz: 784\n",
            "\u001b[34m\u001b[1mwandb\u001b[0m: \tlearning_rate: 0.001\n",
            "\u001b[34m\u001b[1mwandb\u001b[0m: \tloss_function: cross_entropy\n",
            "\u001b[34m\u001b[1mwandb\u001b[0m: \tmomentum: 0.9\n",
            "\u001b[34m\u001b[1mwandb\u001b[0m: \tneurons: 128\n",
            "\u001b[34m\u001b[1mwandb\u001b[0m: \toptimizer: sgd\n",
            "\u001b[34m\u001b[1mwandb\u001b[0m: \toupt_activation: softmax\n",
            "\u001b[34m\u001b[1mwandb\u001b[0m: \toupt_sz: 10\n",
            "\u001b[34m\u001b[1mwandb\u001b[0m: \tweight_initialisation: xavier\n"
          ]
        },
        {
          "output_type": "display_data",
          "data": {
            "text/plain": [
              "<IPython.core.display.HTML object>"
            ],
            "text/html": [
              "Tracking run with wandb version 0.16.4"
            ]
          },
          "metadata": {}
        },
        {
          "output_type": "display_data",
          "data": {
            "text/plain": [
              "<IPython.core.display.HTML object>"
            ],
            "text/html": [
              "Run data is saved locally in <code>/content/wandb/run-20240316_065335-qdsxb1ht</code>"
            ]
          },
          "metadata": {}
        },
        {
          "output_type": "display_data",
          "data": {
            "text/plain": [
              "<IPython.core.display.HTML object>"
            ],
            "text/html": [
              "Syncing run <strong><a href='https://wandb.ai/cs23m070/cs6910_assignment1/runs/qdsxb1ht' target=\"_blank\">super-sweep-7</a></strong> to <a href='https://wandb.ai/cs23m070/cs6910_assignment1' target=\"_blank\">Weights & Biases</a> (<a href='https://wandb.me/run' target=\"_blank\">docs</a>)<br/>Sweep page: <a href='https://wandb.ai/cs23m070/cs6910_assignment1/sweeps/e00roqbx' target=\"_blank\">https://wandb.ai/cs23m070/cs6910_assignment1/sweeps/e00roqbx</a>"
            ]
          },
          "metadata": {}
        },
        {
          "output_type": "display_data",
          "data": {
            "text/plain": [
              "<IPython.core.display.HTML object>"
            ],
            "text/html": [
              " View project at <a href='https://wandb.ai/cs23m070/cs6910_assignment1' target=\"_blank\">https://wandb.ai/cs23m070/cs6910_assignment1</a>"
            ]
          },
          "metadata": {}
        },
        {
          "output_type": "display_data",
          "data": {
            "text/plain": [
              "<IPython.core.display.HTML object>"
            ],
            "text/html": [
              " View sweep at <a href='https://wandb.ai/cs23m070/cs6910_assignment1/sweeps/e00roqbx' target=\"_blank\">https://wandb.ai/cs23m070/cs6910_assignment1/sweeps/e00roqbx</a>"
            ]
          },
          "metadata": {}
        },
        {
          "output_type": "display_data",
          "data": {
            "text/plain": [
              "<IPython.core.display.HTML object>"
            ],
            "text/html": [
              " View run at <a href='https://wandb.ai/cs23m070/cs6910_assignment1/runs/qdsxb1ht' target=\"_blank\">https://wandb.ai/cs23m070/cs6910_assignment1/runs/qdsxb1ht</a>"
            ]
          },
          "metadata": {}
        },
        {
          "output_type": "stream",
          "name": "stdout",
          "text": [
            "Initial Accuracy: 0.09976666666666667\n",
            "epoch- 1\n",
            "accuracy- 0.6279074074074074\n",
            "loss- 1.457781354610751\n",
            "validation- 0.6265\n",
            "epoch- 2\n",
            "accuracy- 0.7006481481481481\n",
            "loss- 1.035833762756186\n",
            "validation- 0.6953333333333334\n",
            "epoch- 3\n",
            "accuracy- 0.725462962962963\n",
            "loss- 0.8553180117756503\n",
            "validation- 0.7231666666666666\n",
            "epoch- 4\n",
            "accuracy- 0.7407592592592592\n",
            "loss- 0.7632519039518232\n",
            "validation- 0.7376666666666667\n",
            "epoch- 5\n",
            "accuracy- 0.7516111111111111\n",
            "loss- 0.7082380802807317\n",
            "validation- 0.7448333333333333\n"
          ]
        },
        {
          "output_type": "display_data",
          "data": {
            "text/plain": [
              "VBox(children=(Label(value='0.001 MB of 0.001 MB uploaded\\r'), FloatProgress(value=1.0, max=1.0)))"
            ],
            "application/vnd.jupyter.widget-view+json": {
              "version_major": 2,
              "version_minor": 0,
              "model_id": "c96a65aaefe1412f8c7a8da19abdd67f"
            }
          },
          "metadata": {}
        },
        {
          "output_type": "display_data",
          "data": {
            "text/plain": [
              "<IPython.core.display.HTML object>"
            ],
            "text/html": [
              "<style>\n",
              "    table.wandb td:nth-child(1) { padding: 0 10px; text-align: left ; width: auto;} td:nth-child(2) {text-align: left ; width: 100%}\n",
              "    .wandb-row { display: flex; flex-direction: row; flex-wrap: wrap; justify-content: flex-start; width: 100% }\n",
              "    .wandb-col { display: flex; flex-direction: column; flex-basis: 100%; flex: 1; padding: 10px; }\n",
              "    </style>\n",
              "<div class=\"wandb-row\"><div class=\"wandb-col\"><h3>Run history:</h3><br/><table class=\"wandb\"><tr><td>accuracy</td><td>▁▅▇▇█</td></tr><tr><td>epoch</td><td>▁▃▅▆█</td></tr><tr><td>loss</td><td>█▄▂▂▁</td></tr><tr><td>val_accuracy</td><td>▁▅▇██</td></tr><tr><td>validation_loss</td><td>█▄▂▂▁</td></tr></table><br/></div><div class=\"wandb-col\"><h3>Run summary:</h3><br/><table class=\"wandb\"><tr><td>accuracy</td><td>0.75161</td></tr><tr><td>epoch</td><td>5</td></tr><tr><td>loss</td><td>0.70824</td></tr><tr><td>val_accuracy</td><td>0.74483</td></tr><tr><td>validation_loss</td><td>0.72009</td></tr></table><br/></div></div>"
            ]
          },
          "metadata": {}
        },
        {
          "output_type": "display_data",
          "data": {
            "text/plain": [
              "<IPython.core.display.HTML object>"
            ],
            "text/html": [
              " View run <strong style=\"color:#cdcd00\">super-sweep-7</strong> at: <a href='https://wandb.ai/cs23m070/cs6910_assignment1/runs/qdsxb1ht' target=\"_blank\">https://wandb.ai/cs23m070/cs6910_assignment1/runs/qdsxb1ht</a><br/>Synced 5 W&B file(s), 0 media file(s), 0 artifact file(s) and 0 other file(s)"
            ]
          },
          "metadata": {}
        },
        {
          "output_type": "display_data",
          "data": {
            "text/plain": [
              "<IPython.core.display.HTML object>"
            ],
            "text/html": [
              "Find logs at: <code>./wandb/run-20240316_065335-qdsxb1ht/logs</code>"
            ]
          },
          "metadata": {}
        },
        {
          "output_type": "stream",
          "name": "stderr",
          "text": [
            "\u001b[34m\u001b[1mwandb\u001b[0m: Agent Starting Run: i3bdl45l with config:\n",
            "\u001b[34m\u001b[1mwandb\u001b[0m: \tactivation: relu\n",
            "\u001b[34m\u001b[1mwandb\u001b[0m: \tbatch_sz: 64\n",
            "\u001b[34m\u001b[1mwandb\u001b[0m: \tbeta: 0.9\n",
            "\u001b[34m\u001b[1mwandb\u001b[0m: \tbeta1: 0.9\n",
            "\u001b[34m\u001b[1mwandb\u001b[0m: \tbeta2: 0.999\n",
            "\u001b[34m\u001b[1mwandb\u001b[0m: \tdataset: fashion_mnist\n",
            "\u001b[34m\u001b[1mwandb\u001b[0m: \tdecay: 0.5\n",
            "\u001b[34m\u001b[1mwandb\u001b[0m: \tepochs: 5\n",
            "\u001b[34m\u001b[1mwandb\u001b[0m: \tepsilon: 1e-10\n",
            "\u001b[34m\u001b[1mwandb\u001b[0m: \thidden_lyrs: 3\n",
            "\u001b[34m\u001b[1mwandb\u001b[0m: \tinpt_sz: 784\n",
            "\u001b[34m\u001b[1mwandb\u001b[0m: \tlearning_rate: 0.0001\n",
            "\u001b[34m\u001b[1mwandb\u001b[0m: \tloss_function: cross_entropy\n",
            "\u001b[34m\u001b[1mwandb\u001b[0m: \tmomentum: 0.9\n",
            "\u001b[34m\u001b[1mwandb\u001b[0m: \tneurons: 128\n",
            "\u001b[34m\u001b[1mwandb\u001b[0m: \toptimizer: adam\n",
            "\u001b[34m\u001b[1mwandb\u001b[0m: \toupt_activation: softmax\n",
            "\u001b[34m\u001b[1mwandb\u001b[0m: \toupt_sz: 10\n",
            "\u001b[34m\u001b[1mwandb\u001b[0m: \tweight_initialisation: xavier\n"
          ]
        },
        {
          "output_type": "display_data",
          "data": {
            "text/plain": [
              "<IPython.core.display.HTML object>"
            ],
            "text/html": [
              "Tracking run with wandb version 0.16.4"
            ]
          },
          "metadata": {}
        },
        {
          "output_type": "display_data",
          "data": {
            "text/plain": [
              "<IPython.core.display.HTML object>"
            ],
            "text/html": [
              "Run data is saved locally in <code>/content/wandb/run-20240316_065416-i3bdl45l</code>"
            ]
          },
          "metadata": {}
        },
        {
          "output_type": "display_data",
          "data": {
            "text/plain": [
              "<IPython.core.display.HTML object>"
            ],
            "text/html": [
              "Syncing run <strong><a href='https://wandb.ai/cs23m070/cs6910_assignment1/runs/i3bdl45l' target=\"_blank\">absurd-sweep-8</a></strong> to <a href='https://wandb.ai/cs23m070/cs6910_assignment1' target=\"_blank\">Weights & Biases</a> (<a href='https://wandb.me/run' target=\"_blank\">docs</a>)<br/>Sweep page: <a href='https://wandb.ai/cs23m070/cs6910_assignment1/sweeps/e00roqbx' target=\"_blank\">https://wandb.ai/cs23m070/cs6910_assignment1/sweeps/e00roqbx</a>"
            ]
          },
          "metadata": {}
        },
        {
          "output_type": "display_data",
          "data": {
            "text/plain": [
              "<IPython.core.display.HTML object>"
            ],
            "text/html": [
              " View project at <a href='https://wandb.ai/cs23m070/cs6910_assignment1' target=\"_blank\">https://wandb.ai/cs23m070/cs6910_assignment1</a>"
            ]
          },
          "metadata": {}
        },
        {
          "output_type": "display_data",
          "data": {
            "text/plain": [
              "<IPython.core.display.HTML object>"
            ],
            "text/html": [
              " View sweep at <a href='https://wandb.ai/cs23m070/cs6910_assignment1/sweeps/e00roqbx' target=\"_blank\">https://wandb.ai/cs23m070/cs6910_assignment1/sweeps/e00roqbx</a>"
            ]
          },
          "metadata": {}
        },
        {
          "output_type": "display_data",
          "data": {
            "text/plain": [
              "<IPython.core.display.HTML object>"
            ],
            "text/html": [
              " View run at <a href='https://wandb.ai/cs23m070/cs6910_assignment1/runs/i3bdl45l' target=\"_blank\">https://wandb.ai/cs23m070/cs6910_assignment1/runs/i3bdl45l</a>"
            ]
          },
          "metadata": {}
        },
        {
          "output_type": "stream",
          "name": "stdout",
          "text": [
            "Initial Accuracy: 0.09976666666666667\n",
            "epoch- 1\n",
            "accuracy- 0.7989444444444445\n",
            "loss- 0.5960040475473005\n",
            "validation- 0.7876666666666666\n",
            "epoch- 2\n",
            "accuracy- 0.8130555555555555\n",
            "loss- 0.5536537265567235\n",
            "validation- 0.803\n",
            "epoch- 3\n",
            "accuracy- 0.8211296296296297\n",
            "loss- 0.5373877037144031\n",
            "validation- 0.811\n",
            "epoch- 4\n",
            "accuracy- 0.8252962962962963\n",
            "loss- 0.5299124677466451\n",
            "validation- 0.8168333333333333\n",
            "epoch- 5\n",
            "accuracy- 0.8273518518518519\n",
            "loss- 0.525869378679475\n",
            "validation- 0.8203333333333334\n"
          ]
        },
        {
          "output_type": "display_data",
          "data": {
            "text/plain": [
              "VBox(children=(Label(value='0.011 MB of 0.011 MB uploaded\\r'), FloatProgress(value=1.0, max=1.0)))"
            ],
            "application/vnd.jupyter.widget-view+json": {
              "version_major": 2,
              "version_minor": 0,
              "model_id": "8bb51ed0c24d4d4daad3d59102125574"
            }
          },
          "metadata": {}
        },
        {
          "output_type": "display_data",
          "data": {
            "text/plain": [
              "<IPython.core.display.HTML object>"
            ],
            "text/html": [
              "<style>\n",
              "    table.wandb td:nth-child(1) { padding: 0 10px; text-align: left ; width: auto;} td:nth-child(2) {text-align: left ; width: 100%}\n",
              "    .wandb-row { display: flex; flex-direction: row; flex-wrap: wrap; justify-content: flex-start; width: 100% }\n",
              "    .wandb-col { display: flex; flex-direction: column; flex-basis: 100%; flex: 1; padding: 10px; }\n",
              "    </style>\n",
              "<div class=\"wandb-row\"><div class=\"wandb-col\"><h3>Run history:</h3><br/><table class=\"wandb\"><tr><td>accuracy</td><td>▁▄▆▇█</td></tr><tr><td>epoch</td><td>▁▃▅▆█</td></tr><tr><td>loss</td><td>█▄▂▁▁</td></tr><tr><td>val_accuracy</td><td>▁▄▆▇█</td></tr><tr><td>validation_loss</td><td>█▄▂▁▁</td></tr></table><br/></div><div class=\"wandb-col\"><h3>Run summary:</h3><br/><table class=\"wandb\"><tr><td>accuracy</td><td>0.82735</td></tr><tr><td>epoch</td><td>5</td></tr><tr><td>loss</td><td>0.52587</td></tr><tr><td>val_accuracy</td><td>0.82033</td></tr><tr><td>validation_loss</td><td>0.53899</td></tr></table><br/></div></div>"
            ]
          },
          "metadata": {}
        },
        {
          "output_type": "display_data",
          "data": {
            "text/plain": [
              "<IPython.core.display.HTML object>"
            ],
            "text/html": [
              " View run <strong style=\"color:#cdcd00\">absurd-sweep-8</strong> at: <a href='https://wandb.ai/cs23m070/cs6910_assignment1/runs/i3bdl45l' target=\"_blank\">https://wandb.ai/cs23m070/cs6910_assignment1/runs/i3bdl45l</a><br/>Synced 5 W&B file(s), 0 media file(s), 0 artifact file(s) and 0 other file(s)"
            ]
          },
          "metadata": {}
        },
        {
          "output_type": "display_data",
          "data": {
            "text/plain": [
              "<IPython.core.display.HTML object>"
            ],
            "text/html": [
              "Find logs at: <code>./wandb/run-20240316_065416-i3bdl45l/logs</code>"
            ]
          },
          "metadata": {}
        },
        {
          "output_type": "stream",
          "name": "stderr",
          "text": [
            "\u001b[34m\u001b[1mwandb\u001b[0m: Agent Starting Run: ny6kx6nz with config:\n",
            "\u001b[34m\u001b[1mwandb\u001b[0m: \tactivation: relu\n",
            "\u001b[34m\u001b[1mwandb\u001b[0m: \tbatch_sz: 64\n",
            "\u001b[34m\u001b[1mwandb\u001b[0m: \tbeta: 0.9\n",
            "\u001b[34m\u001b[1mwandb\u001b[0m: \tbeta1: 0.9\n",
            "\u001b[34m\u001b[1mwandb\u001b[0m: \tbeta2: 0.999\n",
            "\u001b[34m\u001b[1mwandb\u001b[0m: \tdataset: fashion_mnist\n",
            "\u001b[34m\u001b[1mwandb\u001b[0m: \tdecay: 0.5\n",
            "\u001b[34m\u001b[1mwandb\u001b[0m: \tepochs: 10\n",
            "\u001b[34m\u001b[1mwandb\u001b[0m: \tepsilon: 1e-08\n",
            "\u001b[34m\u001b[1mwandb\u001b[0m: \thidden_lyrs: 3\n",
            "\u001b[34m\u001b[1mwandb\u001b[0m: \tinpt_sz: 784\n",
            "\u001b[34m\u001b[1mwandb\u001b[0m: \tlearning_rate: 0.001\n",
            "\u001b[34m\u001b[1mwandb\u001b[0m: \tloss_function: cross_entropy\n",
            "\u001b[34m\u001b[1mwandb\u001b[0m: \tmomentum: 0.9\n",
            "\u001b[34m\u001b[1mwandb\u001b[0m: \tneurons: 128\n",
            "\u001b[34m\u001b[1mwandb\u001b[0m: \toptimizer: rmsprop\n",
            "\u001b[34m\u001b[1mwandb\u001b[0m: \toupt_activation: softmax\n",
            "\u001b[34m\u001b[1mwandb\u001b[0m: \toupt_sz: 10\n",
            "\u001b[34m\u001b[1mwandb\u001b[0m: \tweight_initialisation: random\n"
          ]
        },
        {
          "output_type": "display_data",
          "data": {
            "text/plain": [
              "<IPython.core.display.HTML object>"
            ],
            "text/html": [
              "Tracking run with wandb version 0.16.4"
            ]
          },
          "metadata": {}
        },
        {
          "output_type": "display_data",
          "data": {
            "text/plain": [
              "<IPython.core.display.HTML object>"
            ],
            "text/html": [
              "Run data is saved locally in <code>/content/wandb/run-20240316_065511-ny6kx6nz</code>"
            ]
          },
          "metadata": {}
        },
        {
          "output_type": "display_data",
          "data": {
            "text/plain": [
              "<IPython.core.display.HTML object>"
            ],
            "text/html": [
              "Syncing run <strong><a href='https://wandb.ai/cs23m070/cs6910_assignment1/runs/ny6kx6nz' target=\"_blank\">stellar-sweep-9</a></strong> to <a href='https://wandb.ai/cs23m070/cs6910_assignment1' target=\"_blank\">Weights & Biases</a> (<a href='https://wandb.me/run' target=\"_blank\">docs</a>)<br/>Sweep page: <a href='https://wandb.ai/cs23m070/cs6910_assignment1/sweeps/e00roqbx' target=\"_blank\">https://wandb.ai/cs23m070/cs6910_assignment1/sweeps/e00roqbx</a>"
            ]
          },
          "metadata": {}
        },
        {
          "output_type": "display_data",
          "data": {
            "text/plain": [
              "<IPython.core.display.HTML object>"
            ],
            "text/html": [
              " View project at <a href='https://wandb.ai/cs23m070/cs6910_assignment1' target=\"_blank\">https://wandb.ai/cs23m070/cs6910_assignment1</a>"
            ]
          },
          "metadata": {}
        },
        {
          "output_type": "display_data",
          "data": {
            "text/plain": [
              "<IPython.core.display.HTML object>"
            ],
            "text/html": [
              " View sweep at <a href='https://wandb.ai/cs23m070/cs6910_assignment1/sweeps/e00roqbx' target=\"_blank\">https://wandb.ai/cs23m070/cs6910_assignment1/sweeps/e00roqbx</a>"
            ]
          },
          "metadata": {}
        },
        {
          "output_type": "display_data",
          "data": {
            "text/plain": [
              "<IPython.core.display.HTML object>"
            ],
            "text/html": [
              " View run at <a href='https://wandb.ai/cs23m070/cs6910_assignment1/runs/ny6kx6nz' target=\"_blank\">https://wandb.ai/cs23m070/cs6910_assignment1/runs/ny6kx6nz</a>"
            ]
          },
          "metadata": {}
        },
        {
          "output_type": "stream",
          "name": "stdout",
          "text": [
            "Initial Accuracy: 0.1001\n"
          ]
        },
        {
          "output_type": "stream",
          "name": "stderr",
          "text": [
            "<ipython-input-33-ec75cdefe591>:26: RuntimeWarning: divide by zero encountered in divide\n",
            "  return -y/yp\n",
            "<ipython-input-33-ec75cdefe591>:26: RuntimeWarning: invalid value encountered in divide\n",
            "  return -y/yp\n",
            "<ipython-input-33-ec75cdefe591>:40: RuntimeWarning: invalid value encountered in matmul\n",
            "  der_outpt_mat.append(np.matmul(self.der_ls(y[i], y_pred[i]), self.der_outpt_actvtn(y_pred[i])))\n"
          ]
        },
        {
          "output_type": "stream",
          "name": "stdout",
          "text": [
            "epoch- 1\n",
            "accuracy- 0.0995\n",
            "loss- nan\n",
            "validation- 0.1045\n",
            "epoch- 2\n",
            "accuracy- 0.0995\n",
            "loss- nan\n",
            "validation- 0.1045\n",
            "epoch- 3\n",
            "accuracy- 0.0995\n",
            "loss- nan\n",
            "validation- 0.1045\n",
            "epoch- 4\n",
            "accuracy- 0.0995\n",
            "loss- nan\n",
            "validation- 0.1045\n",
            "epoch- 5\n",
            "accuracy- 0.0995\n",
            "loss- nan\n",
            "validation- 0.1045\n",
            "epoch- 6\n",
            "accuracy- 0.0995\n",
            "loss- nan\n",
            "validation- 0.1045\n",
            "epoch- 7\n",
            "accuracy- 0.0995\n",
            "loss- nan\n",
            "validation- 0.1045\n",
            "epoch- 8\n",
            "accuracy- 0.0995\n",
            "loss- nan\n",
            "validation- 0.1045\n",
            "epoch- 9\n",
            "accuracy- 0.0995\n",
            "loss- nan\n",
            "validation- 0.1045\n",
            "epoch- 10\n",
            "accuracy- 0.0995\n",
            "loss- nan\n",
            "validation- 0.1045\n"
          ]
        },
        {
          "output_type": "display_data",
          "data": {
            "text/plain": [
              "VBox(children=(Label(value='0.001 MB of 0.001 MB uploaded\\r'), FloatProgress(value=1.0, max=1.0)))"
            ],
            "application/vnd.jupyter.widget-view+json": {
              "version_major": 2,
              "version_minor": 0,
              "model_id": "a20985da13f443b4b2427d3492790a10"
            }
          },
          "metadata": {}
        },
        {
          "output_type": "display_data",
          "data": {
            "text/plain": [
              "<IPython.core.display.HTML object>"
            ],
            "text/html": [
              "<style>\n",
              "    table.wandb td:nth-child(1) { padding: 0 10px; text-align: left ; width: auto;} td:nth-child(2) {text-align: left ; width: 100%}\n",
              "    .wandb-row { display: flex; flex-direction: row; flex-wrap: wrap; justify-content: flex-start; width: 100% }\n",
              "    .wandb-col { display: flex; flex-direction: column; flex-basis: 100%; flex: 1; padding: 10px; }\n",
              "    </style>\n",
              "<div class=\"wandb-row\"><div class=\"wandb-col\"><h3>Run history:</h3><br/><table class=\"wandb\"><tr><td>accuracy</td><td>▁▁▁▁▁▁▁▁▁▁</td></tr><tr><td>epoch</td><td>▁▂▃▃▄▅▆▆▇█</td></tr><tr><td>val_accuracy</td><td>▁▁▁▁▁▁▁▁▁▁</td></tr></table><br/></div><div class=\"wandb-col\"><h3>Run summary:</h3><br/><table class=\"wandb\"><tr><td>accuracy</td><td>0.0995</td></tr><tr><td>epoch</td><td>10</td></tr><tr><td>loss</td><td>nan</td></tr><tr><td>val_accuracy</td><td>0.1045</td></tr><tr><td>validation_loss</td><td>nan</td></tr></table><br/></div></div>"
            ]
          },
          "metadata": {}
        },
        {
          "output_type": "display_data",
          "data": {
            "text/plain": [
              "<IPython.core.display.HTML object>"
            ],
            "text/html": [
              " View run <strong style=\"color:#cdcd00\">stellar-sweep-9</strong> at: <a href='https://wandb.ai/cs23m070/cs6910_assignment1/runs/ny6kx6nz' target=\"_blank\">https://wandb.ai/cs23m070/cs6910_assignment1/runs/ny6kx6nz</a><br/>Synced 5 W&B file(s), 0 media file(s), 0 artifact file(s) and 0 other file(s)"
            ]
          },
          "metadata": {}
        },
        {
          "output_type": "display_data",
          "data": {
            "text/plain": [
              "<IPython.core.display.HTML object>"
            ],
            "text/html": [
              "Find logs at: <code>./wandb/run-20240316_065511-ny6kx6nz/logs</code>"
            ]
          },
          "metadata": {}
        },
        {
          "output_type": "stream",
          "name": "stderr",
          "text": [
            "\u001b[34m\u001b[1mwandb\u001b[0m: Agent Starting Run: x5wmz4iz with config:\n",
            "\u001b[34m\u001b[1mwandb\u001b[0m: \tactivation: sigmoid\n",
            "\u001b[34m\u001b[1mwandb\u001b[0m: \tbatch_sz: 64\n",
            "\u001b[34m\u001b[1mwandb\u001b[0m: \tbeta: 0.9\n",
            "\u001b[34m\u001b[1mwandb\u001b[0m: \tbeta1: 0.9\n",
            "\u001b[34m\u001b[1mwandb\u001b[0m: \tbeta2: 0.999\n",
            "\u001b[34m\u001b[1mwandb\u001b[0m: \tdataset: fashion_mnist\n",
            "\u001b[34m\u001b[1mwandb\u001b[0m: \tdecay: 0.0005\n",
            "\u001b[34m\u001b[1mwandb\u001b[0m: \tepochs: 5\n",
            "\u001b[34m\u001b[1mwandb\u001b[0m: \tepsilon: 1e-10\n",
            "\u001b[34m\u001b[1mwandb\u001b[0m: \thidden_lyrs: 3\n",
            "\u001b[34m\u001b[1mwandb\u001b[0m: \tinpt_sz: 784\n",
            "\u001b[34m\u001b[1mwandb\u001b[0m: \tlearning_rate: 0.001\n",
            "\u001b[34m\u001b[1mwandb\u001b[0m: \tloss_function: cross_entropy\n",
            "\u001b[34m\u001b[1mwandb\u001b[0m: \tmomentum: 0.9\n",
            "\u001b[34m\u001b[1mwandb\u001b[0m: \tneurons: 128\n",
            "\u001b[34m\u001b[1mwandb\u001b[0m: \toptimizer: adam\n",
            "\u001b[34m\u001b[1mwandb\u001b[0m: \toupt_activation: softmax\n",
            "\u001b[34m\u001b[1mwandb\u001b[0m: \toupt_sz: 10\n",
            "\u001b[34m\u001b[1mwandb\u001b[0m: \tweight_initialisation: xavier\n"
          ]
        },
        {
          "output_type": "display_data",
          "data": {
            "text/plain": [
              "<IPython.core.display.HTML object>"
            ],
            "text/html": [
              "Tracking run with wandb version 0.16.4"
            ]
          },
          "metadata": {}
        },
        {
          "output_type": "display_data",
          "data": {
            "text/plain": [
              "<IPython.core.display.HTML object>"
            ],
            "text/html": [
              "Run data is saved locally in <code>/content/wandb/run-20240316_065634-x5wmz4iz</code>"
            ]
          },
          "metadata": {}
        },
        {
          "output_type": "display_data",
          "data": {
            "text/plain": [
              "<IPython.core.display.HTML object>"
            ],
            "text/html": [
              "Syncing run <strong><a href='https://wandb.ai/cs23m070/cs6910_assignment1/runs/x5wmz4iz' target=\"_blank\">clear-sweep-10</a></strong> to <a href='https://wandb.ai/cs23m070/cs6910_assignment1' target=\"_blank\">Weights & Biases</a> (<a href='https://wandb.me/run' target=\"_blank\">docs</a>)<br/>Sweep page: <a href='https://wandb.ai/cs23m070/cs6910_assignment1/sweeps/e00roqbx' target=\"_blank\">https://wandb.ai/cs23m070/cs6910_assignment1/sweeps/e00roqbx</a>"
            ]
          },
          "metadata": {}
        },
        {
          "output_type": "display_data",
          "data": {
            "text/plain": [
              "<IPython.core.display.HTML object>"
            ],
            "text/html": [
              " View project at <a href='https://wandb.ai/cs23m070/cs6910_assignment1' target=\"_blank\">https://wandb.ai/cs23m070/cs6910_assignment1</a>"
            ]
          },
          "metadata": {}
        },
        {
          "output_type": "display_data",
          "data": {
            "text/plain": [
              "<IPython.core.display.HTML object>"
            ],
            "text/html": [
              " View sweep at <a href='https://wandb.ai/cs23m070/cs6910_assignment1/sweeps/e00roqbx' target=\"_blank\">https://wandb.ai/cs23m070/cs6910_assignment1/sweeps/e00roqbx</a>"
            ]
          },
          "metadata": {}
        },
        {
          "output_type": "display_data",
          "data": {
            "text/plain": [
              "<IPython.core.display.HTML object>"
            ],
            "text/html": [
              " View run at <a href='https://wandb.ai/cs23m070/cs6910_assignment1/runs/x5wmz4iz' target=\"_blank\">https://wandb.ai/cs23m070/cs6910_assignment1/runs/x5wmz4iz</a>"
            ]
          },
          "metadata": {}
        },
        {
          "output_type": "stream",
          "name": "stdout",
          "text": [
            "Initial Accuracy: 0.1\n",
            "epoch- 1\n",
            "accuracy- 0.8231481481481482\n",
            "loss- 0.5046904593161642\n",
            "validation- 0.8151666666666667\n",
            "epoch- 2\n",
            "accuracy- 0.8437037037037037\n",
            "loss- 0.4394058257624958\n",
            "validation- 0.8358333333333333\n",
            "epoch- 3\n",
            "accuracy- 0.8541666666666666\n",
            "loss- 0.4102047170998284\n",
            "validation- 0.8446666666666667\n",
            "epoch- 4\n",
            "accuracy- 0.8603148148148149\n",
            "loss- 0.39099279978819507\n",
            "validation- 0.8513333333333334\n",
            "epoch- 5\n",
            "accuracy- 0.8654259259259259\n",
            "loss- 0.37686430909720636\n",
            "validation- 0.8545\n"
          ]
        },
        {
          "output_type": "display_data",
          "data": {
            "text/plain": [
              "VBox(children=(Label(value='0.001 MB of 0.001 MB uploaded\\r'), FloatProgress(value=1.0, max=1.0)))"
            ],
            "application/vnd.jupyter.widget-view+json": {
              "version_major": 2,
              "version_minor": 0,
              "model_id": "d4736f3fb67547868c1ec0fb18884a5a"
            }
          },
          "metadata": {}
        },
        {
          "output_type": "display_data",
          "data": {
            "text/plain": [
              "<IPython.core.display.HTML object>"
            ],
            "text/html": [
              "<style>\n",
              "    table.wandb td:nth-child(1) { padding: 0 10px; text-align: left ; width: auto;} td:nth-child(2) {text-align: left ; width: 100%}\n",
              "    .wandb-row { display: flex; flex-direction: row; flex-wrap: wrap; justify-content: flex-start; width: 100% }\n",
              "    .wandb-col { display: flex; flex-direction: column; flex-basis: 100%; flex: 1; padding: 10px; }\n",
              "    </style>\n",
              "<div class=\"wandb-row\"><div class=\"wandb-col\"><h3>Run history:</h3><br/><table class=\"wandb\"><tr><td>accuracy</td><td>▁▄▆▇█</td></tr><tr><td>epoch</td><td>▁▃▅▆█</td></tr><tr><td>loss</td><td>█▄▃▂▁</td></tr><tr><td>val_accuracy</td><td>▁▅▆▇█</td></tr><tr><td>validation_loss</td><td>█▄▃▂▁</td></tr></table><br/></div><div class=\"wandb-col\"><h3>Run summary:</h3><br/><table class=\"wandb\"><tr><td>accuracy</td><td>0.86543</td></tr><tr><td>epoch</td><td>5</td></tr><tr><td>loss</td><td>0.37686</td></tr><tr><td>val_accuracy</td><td>0.8545</td></tr><tr><td>validation_loss</td><td>0.40443</td></tr></table><br/></div></div>"
            ]
          },
          "metadata": {}
        },
        {
          "output_type": "display_data",
          "data": {
            "text/plain": [
              "<IPython.core.display.HTML object>"
            ],
            "text/html": [
              " View run <strong style=\"color:#cdcd00\">clear-sweep-10</strong> at: <a href='https://wandb.ai/cs23m070/cs6910_assignment1/runs/x5wmz4iz' target=\"_blank\">https://wandb.ai/cs23m070/cs6910_assignment1/runs/x5wmz4iz</a><br/>Synced 5 W&B file(s), 0 media file(s), 0 artifact file(s) and 0 other file(s)"
            ]
          },
          "metadata": {}
        },
        {
          "output_type": "display_data",
          "data": {
            "text/plain": [
              "<IPython.core.display.HTML object>"
            ],
            "text/html": [
              "Find logs at: <code>./wandb/run-20240316_065634-x5wmz4iz/logs</code>"
            ]
          },
          "metadata": {}
        }
      ]
    },
    {
      "cell_type": "code",
      "source": [],
      "metadata": {
        "id": "PkzUZVy5-dHX"
      },
      "execution_count": null,
      "outputs": []
    },
    {
      "cell_type": "code",
      "source": [],
      "metadata": {
        "id": "Cr2PQ19ln5EK"
      },
      "execution_count": null,
      "outputs": []
    },
    {
      "cell_type": "code",
      "source": [],
      "metadata": {
        "id": "uWfwTZmin48m"
      },
      "execution_count": null,
      "outputs": []
    }
  ]
}