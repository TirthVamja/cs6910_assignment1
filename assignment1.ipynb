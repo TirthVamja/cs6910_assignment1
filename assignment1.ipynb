{
  "nbformat": 4,
  "nbformat_minor": 0,
  "metadata": {
    "colab": {
      "provenance": [],
      "authorship_tag": "ABX9TyPD/CCVOTeDbkeJUKkI1NCt"
    },
    "kernelspec": {
      "name": "python3",
      "display_name": "Python 3"
    },
    "language_info": {
      "name": "python"
    },
    "widgets": {
      "application/vnd.jupyter.widget-state+json": {
        "96a2df19112c429388b2c18faa2d8174": {
          "model_module": "@jupyter-widgets/controls",
          "model_name": "VBoxModel",
          "model_module_version": "1.5.0",
          "state": {
            "_dom_classes": [],
            "_model_module": "@jupyter-widgets/controls",
            "_model_module_version": "1.5.0",
            "_model_name": "VBoxModel",
            "_view_count": null,
            "_view_module": "@jupyter-widgets/controls",
            "_view_module_version": "1.5.0",
            "_view_name": "VBoxView",
            "box_style": "",
            "children": [
              "IPY_MODEL_b8ea9c5801064e4da6bb2fe09a2d253c",
              "IPY_MODEL_e63a4e1e4bc24fcaa10d817903d8ee90"
            ],
            "layout": "IPY_MODEL_b189d4fae87a4d748729cb9f68710430"
          }
        },
        "b8ea9c5801064e4da6bb2fe09a2d253c": {
          "model_module": "@jupyter-widgets/controls",
          "model_name": "LabelModel",
          "model_module_version": "1.5.0",
          "state": {
            "_dom_classes": [],
            "_model_module": "@jupyter-widgets/controls",
            "_model_module_version": "1.5.0",
            "_model_name": "LabelModel",
            "_view_count": null,
            "_view_module": "@jupyter-widgets/controls",
            "_view_module_version": "1.5.0",
            "_view_name": "LabelView",
            "description": "",
            "description_tooltip": null,
            "layout": "IPY_MODEL_b413e03588e143ee9f55206672303f1a",
            "placeholder": "​",
            "style": "IPY_MODEL_b67567fffdec4fbc8933a062c0c78676",
            "value": "0.011 MB of 0.011 MB uploaded\r"
          }
        },
        "e63a4e1e4bc24fcaa10d817903d8ee90": {
          "model_module": "@jupyter-widgets/controls",
          "model_name": "FloatProgressModel",
          "model_module_version": "1.5.0",
          "state": {
            "_dom_classes": [],
            "_model_module": "@jupyter-widgets/controls",
            "_model_module_version": "1.5.0",
            "_model_name": "FloatProgressModel",
            "_view_count": null,
            "_view_module": "@jupyter-widgets/controls",
            "_view_module_version": "1.5.0",
            "_view_name": "ProgressView",
            "bar_style": "",
            "description": "",
            "description_tooltip": null,
            "layout": "IPY_MODEL_3e575afd41e14de5ac4f04168abc54c4",
            "max": 1,
            "min": 0,
            "orientation": "horizontal",
            "style": "IPY_MODEL_b3255f5c1ea44e729f25ba30552d6485",
            "value": 1
          }
        },
        "b189d4fae87a4d748729cb9f68710430": {
          "model_module": "@jupyter-widgets/base",
          "model_name": "LayoutModel",
          "model_module_version": "1.2.0",
          "state": {
            "_model_module": "@jupyter-widgets/base",
            "_model_module_version": "1.2.0",
            "_model_name": "LayoutModel",
            "_view_count": null,
            "_view_module": "@jupyter-widgets/base",
            "_view_module_version": "1.2.0",
            "_view_name": "LayoutView",
            "align_content": null,
            "align_items": null,
            "align_self": null,
            "border": null,
            "bottom": null,
            "display": null,
            "flex": null,
            "flex_flow": null,
            "grid_area": null,
            "grid_auto_columns": null,
            "grid_auto_flow": null,
            "grid_auto_rows": null,
            "grid_column": null,
            "grid_gap": null,
            "grid_row": null,
            "grid_template_areas": null,
            "grid_template_columns": null,
            "grid_template_rows": null,
            "height": null,
            "justify_content": null,
            "justify_items": null,
            "left": null,
            "margin": null,
            "max_height": null,
            "max_width": null,
            "min_height": null,
            "min_width": null,
            "object_fit": null,
            "object_position": null,
            "order": null,
            "overflow": null,
            "overflow_x": null,
            "overflow_y": null,
            "padding": null,
            "right": null,
            "top": null,
            "visibility": null,
            "width": null
          }
        },
        "b413e03588e143ee9f55206672303f1a": {
          "model_module": "@jupyter-widgets/base",
          "model_name": "LayoutModel",
          "model_module_version": "1.2.0",
          "state": {
            "_model_module": "@jupyter-widgets/base",
            "_model_module_version": "1.2.0",
            "_model_name": "LayoutModel",
            "_view_count": null,
            "_view_module": "@jupyter-widgets/base",
            "_view_module_version": "1.2.0",
            "_view_name": "LayoutView",
            "align_content": null,
            "align_items": null,
            "align_self": null,
            "border": null,
            "bottom": null,
            "display": null,
            "flex": null,
            "flex_flow": null,
            "grid_area": null,
            "grid_auto_columns": null,
            "grid_auto_flow": null,
            "grid_auto_rows": null,
            "grid_column": null,
            "grid_gap": null,
            "grid_row": null,
            "grid_template_areas": null,
            "grid_template_columns": null,
            "grid_template_rows": null,
            "height": null,
            "justify_content": null,
            "justify_items": null,
            "left": null,
            "margin": null,
            "max_height": null,
            "max_width": null,
            "min_height": null,
            "min_width": null,
            "object_fit": null,
            "object_position": null,
            "order": null,
            "overflow": null,
            "overflow_x": null,
            "overflow_y": null,
            "padding": null,
            "right": null,
            "top": null,
            "visibility": null,
            "width": null
          }
        },
        "b67567fffdec4fbc8933a062c0c78676": {
          "model_module": "@jupyter-widgets/controls",
          "model_name": "DescriptionStyleModel",
          "model_module_version": "1.5.0",
          "state": {
            "_model_module": "@jupyter-widgets/controls",
            "_model_module_version": "1.5.0",
            "_model_name": "DescriptionStyleModel",
            "_view_count": null,
            "_view_module": "@jupyter-widgets/base",
            "_view_module_version": "1.2.0",
            "_view_name": "StyleView",
            "description_width": ""
          }
        },
        "3e575afd41e14de5ac4f04168abc54c4": {
          "model_module": "@jupyter-widgets/base",
          "model_name": "LayoutModel",
          "model_module_version": "1.2.0",
          "state": {
            "_model_module": "@jupyter-widgets/base",
            "_model_module_version": "1.2.0",
            "_model_name": "LayoutModel",
            "_view_count": null,
            "_view_module": "@jupyter-widgets/base",
            "_view_module_version": "1.2.0",
            "_view_name": "LayoutView",
            "align_content": null,
            "align_items": null,
            "align_self": null,
            "border": null,
            "bottom": null,
            "display": null,
            "flex": null,
            "flex_flow": null,
            "grid_area": null,
            "grid_auto_columns": null,
            "grid_auto_flow": null,
            "grid_auto_rows": null,
            "grid_column": null,
            "grid_gap": null,
            "grid_row": null,
            "grid_template_areas": null,
            "grid_template_columns": null,
            "grid_template_rows": null,
            "height": null,
            "justify_content": null,
            "justify_items": null,
            "left": null,
            "margin": null,
            "max_height": null,
            "max_width": null,
            "min_height": null,
            "min_width": null,
            "object_fit": null,
            "object_position": null,
            "order": null,
            "overflow": null,
            "overflow_x": null,
            "overflow_y": null,
            "padding": null,
            "right": null,
            "top": null,
            "visibility": null,
            "width": null
          }
        },
        "b3255f5c1ea44e729f25ba30552d6485": {
          "model_module": "@jupyter-widgets/controls",
          "model_name": "ProgressStyleModel",
          "model_module_version": "1.5.0",
          "state": {
            "_model_module": "@jupyter-widgets/controls",
            "_model_module_version": "1.5.0",
            "_model_name": "ProgressStyleModel",
            "_view_count": null,
            "_view_module": "@jupyter-widgets/base",
            "_view_module_version": "1.2.0",
            "_view_name": "StyleView",
            "bar_color": null,
            "description_width": ""
          }
        },
        "9823d0c145094b0aaa20eb53361c1912": {
          "model_module": "@jupyter-widgets/controls",
          "model_name": "VBoxModel",
          "model_module_version": "1.5.0",
          "state": {
            "_dom_classes": [],
            "_model_module": "@jupyter-widgets/controls",
            "_model_module_version": "1.5.0",
            "_model_name": "VBoxModel",
            "_view_count": null,
            "_view_module": "@jupyter-widgets/controls",
            "_view_module_version": "1.5.0",
            "_view_name": "VBoxView",
            "box_style": "",
            "children": [
              "IPY_MODEL_0009f53a8079463993f46a22b729708a",
              "IPY_MODEL_839bba2e0d684a4fb9e75367a3fcaa09"
            ],
            "layout": "IPY_MODEL_84524677efbb4afcb18752f390bb386c"
          }
        },
        "0009f53a8079463993f46a22b729708a": {
          "model_module": "@jupyter-widgets/controls",
          "model_name": "LabelModel",
          "model_module_version": "1.5.0",
          "state": {
            "_dom_classes": [],
            "_model_module": "@jupyter-widgets/controls",
            "_model_module_version": "1.5.0",
            "_model_name": "LabelModel",
            "_view_count": null,
            "_view_module": "@jupyter-widgets/controls",
            "_view_module_version": "1.5.0",
            "_view_name": "LabelView",
            "description": "",
            "description_tooltip": null,
            "layout": "IPY_MODEL_adc92560972942679aceb82a3e5f2d36",
            "placeholder": "​",
            "style": "IPY_MODEL_fe8c039dc1f44523a4c6ae99981b7a1e",
            "value": "0.011 MB of 0.011 MB uploaded\r"
          }
        },
        "839bba2e0d684a4fb9e75367a3fcaa09": {
          "model_module": "@jupyter-widgets/controls",
          "model_name": "FloatProgressModel",
          "model_module_version": "1.5.0",
          "state": {
            "_dom_classes": [],
            "_model_module": "@jupyter-widgets/controls",
            "_model_module_version": "1.5.0",
            "_model_name": "FloatProgressModel",
            "_view_count": null,
            "_view_module": "@jupyter-widgets/controls",
            "_view_module_version": "1.5.0",
            "_view_name": "ProgressView",
            "bar_style": "",
            "description": "",
            "description_tooltip": null,
            "layout": "IPY_MODEL_5044bc5e511547ae99ae3c5d6bff0ad6",
            "max": 1,
            "min": 0,
            "orientation": "horizontal",
            "style": "IPY_MODEL_5231b7396a334aadb4000804110b2424",
            "value": 1
          }
        },
        "84524677efbb4afcb18752f390bb386c": {
          "model_module": "@jupyter-widgets/base",
          "model_name": "LayoutModel",
          "model_module_version": "1.2.0",
          "state": {
            "_model_module": "@jupyter-widgets/base",
            "_model_module_version": "1.2.0",
            "_model_name": "LayoutModel",
            "_view_count": null,
            "_view_module": "@jupyter-widgets/base",
            "_view_module_version": "1.2.0",
            "_view_name": "LayoutView",
            "align_content": null,
            "align_items": null,
            "align_self": null,
            "border": null,
            "bottom": null,
            "display": null,
            "flex": null,
            "flex_flow": null,
            "grid_area": null,
            "grid_auto_columns": null,
            "grid_auto_flow": null,
            "grid_auto_rows": null,
            "grid_column": null,
            "grid_gap": null,
            "grid_row": null,
            "grid_template_areas": null,
            "grid_template_columns": null,
            "grid_template_rows": null,
            "height": null,
            "justify_content": null,
            "justify_items": null,
            "left": null,
            "margin": null,
            "max_height": null,
            "max_width": null,
            "min_height": null,
            "min_width": null,
            "object_fit": null,
            "object_position": null,
            "order": null,
            "overflow": null,
            "overflow_x": null,
            "overflow_y": null,
            "padding": null,
            "right": null,
            "top": null,
            "visibility": null,
            "width": null
          }
        },
        "adc92560972942679aceb82a3e5f2d36": {
          "model_module": "@jupyter-widgets/base",
          "model_name": "LayoutModel",
          "model_module_version": "1.2.0",
          "state": {
            "_model_module": "@jupyter-widgets/base",
            "_model_module_version": "1.2.0",
            "_model_name": "LayoutModel",
            "_view_count": null,
            "_view_module": "@jupyter-widgets/base",
            "_view_module_version": "1.2.0",
            "_view_name": "LayoutView",
            "align_content": null,
            "align_items": null,
            "align_self": null,
            "border": null,
            "bottom": null,
            "display": null,
            "flex": null,
            "flex_flow": null,
            "grid_area": null,
            "grid_auto_columns": null,
            "grid_auto_flow": null,
            "grid_auto_rows": null,
            "grid_column": null,
            "grid_gap": null,
            "grid_row": null,
            "grid_template_areas": null,
            "grid_template_columns": null,
            "grid_template_rows": null,
            "height": null,
            "justify_content": null,
            "justify_items": null,
            "left": null,
            "margin": null,
            "max_height": null,
            "max_width": null,
            "min_height": null,
            "min_width": null,
            "object_fit": null,
            "object_position": null,
            "order": null,
            "overflow": null,
            "overflow_x": null,
            "overflow_y": null,
            "padding": null,
            "right": null,
            "top": null,
            "visibility": null,
            "width": null
          }
        },
        "fe8c039dc1f44523a4c6ae99981b7a1e": {
          "model_module": "@jupyter-widgets/controls",
          "model_name": "DescriptionStyleModel",
          "model_module_version": "1.5.0",
          "state": {
            "_model_module": "@jupyter-widgets/controls",
            "_model_module_version": "1.5.0",
            "_model_name": "DescriptionStyleModel",
            "_view_count": null,
            "_view_module": "@jupyter-widgets/base",
            "_view_module_version": "1.2.0",
            "_view_name": "StyleView",
            "description_width": ""
          }
        },
        "5044bc5e511547ae99ae3c5d6bff0ad6": {
          "model_module": "@jupyter-widgets/base",
          "model_name": "LayoutModel",
          "model_module_version": "1.2.0",
          "state": {
            "_model_module": "@jupyter-widgets/base",
            "_model_module_version": "1.2.0",
            "_model_name": "LayoutModel",
            "_view_count": null,
            "_view_module": "@jupyter-widgets/base",
            "_view_module_version": "1.2.0",
            "_view_name": "LayoutView",
            "align_content": null,
            "align_items": null,
            "align_self": null,
            "border": null,
            "bottom": null,
            "display": null,
            "flex": null,
            "flex_flow": null,
            "grid_area": null,
            "grid_auto_columns": null,
            "grid_auto_flow": null,
            "grid_auto_rows": null,
            "grid_column": null,
            "grid_gap": null,
            "grid_row": null,
            "grid_template_areas": null,
            "grid_template_columns": null,
            "grid_template_rows": null,
            "height": null,
            "justify_content": null,
            "justify_items": null,
            "left": null,
            "margin": null,
            "max_height": null,
            "max_width": null,
            "min_height": null,
            "min_width": null,
            "object_fit": null,
            "object_position": null,
            "order": null,
            "overflow": null,
            "overflow_x": null,
            "overflow_y": null,
            "padding": null,
            "right": null,
            "top": null,
            "visibility": null,
            "width": null
          }
        },
        "5231b7396a334aadb4000804110b2424": {
          "model_module": "@jupyter-widgets/controls",
          "model_name": "ProgressStyleModel",
          "model_module_version": "1.5.0",
          "state": {
            "_model_module": "@jupyter-widgets/controls",
            "_model_module_version": "1.5.0",
            "_model_name": "ProgressStyleModel",
            "_view_count": null,
            "_view_module": "@jupyter-widgets/base",
            "_view_module_version": "1.2.0",
            "_view_name": "StyleView",
            "bar_color": null,
            "description_width": ""
          }
        },
        "5bea8de3b7a84d988d41ba13317882a8": {
          "model_module": "@jupyter-widgets/controls",
          "model_name": "VBoxModel",
          "model_module_version": "1.5.0",
          "state": {
            "_dom_classes": [],
            "_model_module": "@jupyter-widgets/controls",
            "_model_module_version": "1.5.0",
            "_model_name": "VBoxModel",
            "_view_count": null,
            "_view_module": "@jupyter-widgets/controls",
            "_view_module_version": "1.5.0",
            "_view_name": "VBoxView",
            "box_style": "",
            "children": [
              "IPY_MODEL_c0e42f4a78754801a8ce937bd2a0ff2e",
              "IPY_MODEL_4d4a412a11c6443381456273ba422898"
            ],
            "layout": "IPY_MODEL_a15bd13e6ce245e49f6fdd424741ec72"
          }
        },
        "c0e42f4a78754801a8ce937bd2a0ff2e": {
          "model_module": "@jupyter-widgets/controls",
          "model_name": "LabelModel",
          "model_module_version": "1.5.0",
          "state": {
            "_dom_classes": [],
            "_model_module": "@jupyter-widgets/controls",
            "_model_module_version": "1.5.0",
            "_model_name": "LabelModel",
            "_view_count": null,
            "_view_module": "@jupyter-widgets/controls",
            "_view_module_version": "1.5.0",
            "_view_name": "LabelView",
            "description": "",
            "description_tooltip": null,
            "layout": "IPY_MODEL_e3010642d8a34d719b3d94e72aa98249",
            "placeholder": "​",
            "style": "IPY_MODEL_b58571553e3d435f9721cd807a68ae27",
            "value": "0.012 MB of 0.012 MB uploaded\r"
          }
        },
        "4d4a412a11c6443381456273ba422898": {
          "model_module": "@jupyter-widgets/controls",
          "model_name": "FloatProgressModel",
          "model_module_version": "1.5.0",
          "state": {
            "_dom_classes": [],
            "_model_module": "@jupyter-widgets/controls",
            "_model_module_version": "1.5.0",
            "_model_name": "FloatProgressModel",
            "_view_count": null,
            "_view_module": "@jupyter-widgets/controls",
            "_view_module_version": "1.5.0",
            "_view_name": "ProgressView",
            "bar_style": "",
            "description": "",
            "description_tooltip": null,
            "layout": "IPY_MODEL_f20a7856a7b5494a873274208860c0da",
            "max": 1,
            "min": 0,
            "orientation": "horizontal",
            "style": "IPY_MODEL_d64a2edbd7d44f91b612b41f8c6cb342",
            "value": 1
          }
        },
        "a15bd13e6ce245e49f6fdd424741ec72": {
          "model_module": "@jupyter-widgets/base",
          "model_name": "LayoutModel",
          "model_module_version": "1.2.0",
          "state": {
            "_model_module": "@jupyter-widgets/base",
            "_model_module_version": "1.2.0",
            "_model_name": "LayoutModel",
            "_view_count": null,
            "_view_module": "@jupyter-widgets/base",
            "_view_module_version": "1.2.0",
            "_view_name": "LayoutView",
            "align_content": null,
            "align_items": null,
            "align_self": null,
            "border": null,
            "bottom": null,
            "display": null,
            "flex": null,
            "flex_flow": null,
            "grid_area": null,
            "grid_auto_columns": null,
            "grid_auto_flow": null,
            "grid_auto_rows": null,
            "grid_column": null,
            "grid_gap": null,
            "grid_row": null,
            "grid_template_areas": null,
            "grid_template_columns": null,
            "grid_template_rows": null,
            "height": null,
            "justify_content": null,
            "justify_items": null,
            "left": null,
            "margin": null,
            "max_height": null,
            "max_width": null,
            "min_height": null,
            "min_width": null,
            "object_fit": null,
            "object_position": null,
            "order": null,
            "overflow": null,
            "overflow_x": null,
            "overflow_y": null,
            "padding": null,
            "right": null,
            "top": null,
            "visibility": null,
            "width": null
          }
        },
        "e3010642d8a34d719b3d94e72aa98249": {
          "model_module": "@jupyter-widgets/base",
          "model_name": "LayoutModel",
          "model_module_version": "1.2.0",
          "state": {
            "_model_module": "@jupyter-widgets/base",
            "_model_module_version": "1.2.0",
            "_model_name": "LayoutModel",
            "_view_count": null,
            "_view_module": "@jupyter-widgets/base",
            "_view_module_version": "1.2.0",
            "_view_name": "LayoutView",
            "align_content": null,
            "align_items": null,
            "align_self": null,
            "border": null,
            "bottom": null,
            "display": null,
            "flex": null,
            "flex_flow": null,
            "grid_area": null,
            "grid_auto_columns": null,
            "grid_auto_flow": null,
            "grid_auto_rows": null,
            "grid_column": null,
            "grid_gap": null,
            "grid_row": null,
            "grid_template_areas": null,
            "grid_template_columns": null,
            "grid_template_rows": null,
            "height": null,
            "justify_content": null,
            "justify_items": null,
            "left": null,
            "margin": null,
            "max_height": null,
            "max_width": null,
            "min_height": null,
            "min_width": null,
            "object_fit": null,
            "object_position": null,
            "order": null,
            "overflow": null,
            "overflow_x": null,
            "overflow_y": null,
            "padding": null,
            "right": null,
            "top": null,
            "visibility": null,
            "width": null
          }
        },
        "b58571553e3d435f9721cd807a68ae27": {
          "model_module": "@jupyter-widgets/controls",
          "model_name": "DescriptionStyleModel",
          "model_module_version": "1.5.0",
          "state": {
            "_model_module": "@jupyter-widgets/controls",
            "_model_module_version": "1.5.0",
            "_model_name": "DescriptionStyleModel",
            "_view_count": null,
            "_view_module": "@jupyter-widgets/base",
            "_view_module_version": "1.2.0",
            "_view_name": "StyleView",
            "description_width": ""
          }
        },
        "f20a7856a7b5494a873274208860c0da": {
          "model_module": "@jupyter-widgets/base",
          "model_name": "LayoutModel",
          "model_module_version": "1.2.0",
          "state": {
            "_model_module": "@jupyter-widgets/base",
            "_model_module_version": "1.2.0",
            "_model_name": "LayoutModel",
            "_view_count": null,
            "_view_module": "@jupyter-widgets/base",
            "_view_module_version": "1.2.0",
            "_view_name": "LayoutView",
            "align_content": null,
            "align_items": null,
            "align_self": null,
            "border": null,
            "bottom": null,
            "display": null,
            "flex": null,
            "flex_flow": null,
            "grid_area": null,
            "grid_auto_columns": null,
            "grid_auto_flow": null,
            "grid_auto_rows": null,
            "grid_column": null,
            "grid_gap": null,
            "grid_row": null,
            "grid_template_areas": null,
            "grid_template_columns": null,
            "grid_template_rows": null,
            "height": null,
            "justify_content": null,
            "justify_items": null,
            "left": null,
            "margin": null,
            "max_height": null,
            "max_width": null,
            "min_height": null,
            "min_width": null,
            "object_fit": null,
            "object_position": null,
            "order": null,
            "overflow": null,
            "overflow_x": null,
            "overflow_y": null,
            "padding": null,
            "right": null,
            "top": null,
            "visibility": null,
            "width": null
          }
        },
        "d64a2edbd7d44f91b612b41f8c6cb342": {
          "model_module": "@jupyter-widgets/controls",
          "model_name": "ProgressStyleModel",
          "model_module_version": "1.5.0",
          "state": {
            "_model_module": "@jupyter-widgets/controls",
            "_model_module_version": "1.5.0",
            "_model_name": "ProgressStyleModel",
            "_view_count": null,
            "_view_module": "@jupyter-widgets/base",
            "_view_module_version": "1.2.0",
            "_view_name": "StyleView",
            "bar_color": null,
            "description_width": ""
          }
        },
        "941c274df578460da23de71a2e1df036": {
          "model_module": "@jupyter-widgets/controls",
          "model_name": "VBoxModel",
          "model_module_version": "1.5.0",
          "state": {
            "_dom_classes": [],
            "_model_module": "@jupyter-widgets/controls",
            "_model_module_version": "1.5.0",
            "_model_name": "VBoxModel",
            "_view_count": null,
            "_view_module": "@jupyter-widgets/controls",
            "_view_module_version": "1.5.0",
            "_view_name": "VBoxView",
            "box_style": "",
            "children": [
              "IPY_MODEL_dbd164de0f7b45f9a12f315a5bee25c4",
              "IPY_MODEL_c896dbb8f22f46b0aeedae882b261976"
            ],
            "layout": "IPY_MODEL_92f7a4e2571044adb9e11f2ec93827ca"
          }
        },
        "dbd164de0f7b45f9a12f315a5bee25c4": {
          "model_module": "@jupyter-widgets/controls",
          "model_name": "LabelModel",
          "model_module_version": "1.5.0",
          "state": {
            "_dom_classes": [],
            "_model_module": "@jupyter-widgets/controls",
            "_model_module_version": "1.5.0",
            "_model_name": "LabelModel",
            "_view_count": null,
            "_view_module": "@jupyter-widgets/controls",
            "_view_module_version": "1.5.0",
            "_view_name": "LabelView",
            "description": "",
            "description_tooltip": null,
            "layout": "IPY_MODEL_80156164c1c44ed98fd8b58d2db05615",
            "placeholder": "​",
            "style": "IPY_MODEL_248f79dfbd594724965b6ec2314cc616",
            "value": "0.012 MB of 0.012 MB uploaded\r"
          }
        },
        "c896dbb8f22f46b0aeedae882b261976": {
          "model_module": "@jupyter-widgets/controls",
          "model_name": "FloatProgressModel",
          "model_module_version": "1.5.0",
          "state": {
            "_dom_classes": [],
            "_model_module": "@jupyter-widgets/controls",
            "_model_module_version": "1.5.0",
            "_model_name": "FloatProgressModel",
            "_view_count": null,
            "_view_module": "@jupyter-widgets/controls",
            "_view_module_version": "1.5.0",
            "_view_name": "ProgressView",
            "bar_style": "",
            "description": "",
            "description_tooltip": null,
            "layout": "IPY_MODEL_05c3f04cb7b443dda01d3d95ed70f2c9",
            "max": 1,
            "min": 0,
            "orientation": "horizontal",
            "style": "IPY_MODEL_4d81933bfa7a4bb998596bce16af6e9a",
            "value": 1
          }
        },
        "92f7a4e2571044adb9e11f2ec93827ca": {
          "model_module": "@jupyter-widgets/base",
          "model_name": "LayoutModel",
          "model_module_version": "1.2.0",
          "state": {
            "_model_module": "@jupyter-widgets/base",
            "_model_module_version": "1.2.0",
            "_model_name": "LayoutModel",
            "_view_count": null,
            "_view_module": "@jupyter-widgets/base",
            "_view_module_version": "1.2.0",
            "_view_name": "LayoutView",
            "align_content": null,
            "align_items": null,
            "align_self": null,
            "border": null,
            "bottom": null,
            "display": null,
            "flex": null,
            "flex_flow": null,
            "grid_area": null,
            "grid_auto_columns": null,
            "grid_auto_flow": null,
            "grid_auto_rows": null,
            "grid_column": null,
            "grid_gap": null,
            "grid_row": null,
            "grid_template_areas": null,
            "grid_template_columns": null,
            "grid_template_rows": null,
            "height": null,
            "justify_content": null,
            "justify_items": null,
            "left": null,
            "margin": null,
            "max_height": null,
            "max_width": null,
            "min_height": null,
            "min_width": null,
            "object_fit": null,
            "object_position": null,
            "order": null,
            "overflow": null,
            "overflow_x": null,
            "overflow_y": null,
            "padding": null,
            "right": null,
            "top": null,
            "visibility": null,
            "width": null
          }
        },
        "80156164c1c44ed98fd8b58d2db05615": {
          "model_module": "@jupyter-widgets/base",
          "model_name": "LayoutModel",
          "model_module_version": "1.2.0",
          "state": {
            "_model_module": "@jupyter-widgets/base",
            "_model_module_version": "1.2.0",
            "_model_name": "LayoutModel",
            "_view_count": null,
            "_view_module": "@jupyter-widgets/base",
            "_view_module_version": "1.2.0",
            "_view_name": "LayoutView",
            "align_content": null,
            "align_items": null,
            "align_self": null,
            "border": null,
            "bottom": null,
            "display": null,
            "flex": null,
            "flex_flow": null,
            "grid_area": null,
            "grid_auto_columns": null,
            "grid_auto_flow": null,
            "grid_auto_rows": null,
            "grid_column": null,
            "grid_gap": null,
            "grid_row": null,
            "grid_template_areas": null,
            "grid_template_columns": null,
            "grid_template_rows": null,
            "height": null,
            "justify_content": null,
            "justify_items": null,
            "left": null,
            "margin": null,
            "max_height": null,
            "max_width": null,
            "min_height": null,
            "min_width": null,
            "object_fit": null,
            "object_position": null,
            "order": null,
            "overflow": null,
            "overflow_x": null,
            "overflow_y": null,
            "padding": null,
            "right": null,
            "top": null,
            "visibility": null,
            "width": null
          }
        },
        "248f79dfbd594724965b6ec2314cc616": {
          "model_module": "@jupyter-widgets/controls",
          "model_name": "DescriptionStyleModel",
          "model_module_version": "1.5.0",
          "state": {
            "_model_module": "@jupyter-widgets/controls",
            "_model_module_version": "1.5.0",
            "_model_name": "DescriptionStyleModel",
            "_view_count": null,
            "_view_module": "@jupyter-widgets/base",
            "_view_module_version": "1.2.0",
            "_view_name": "StyleView",
            "description_width": ""
          }
        },
        "05c3f04cb7b443dda01d3d95ed70f2c9": {
          "model_module": "@jupyter-widgets/base",
          "model_name": "LayoutModel",
          "model_module_version": "1.2.0",
          "state": {
            "_model_module": "@jupyter-widgets/base",
            "_model_module_version": "1.2.0",
            "_model_name": "LayoutModel",
            "_view_count": null,
            "_view_module": "@jupyter-widgets/base",
            "_view_module_version": "1.2.0",
            "_view_name": "LayoutView",
            "align_content": null,
            "align_items": null,
            "align_self": null,
            "border": null,
            "bottom": null,
            "display": null,
            "flex": null,
            "flex_flow": null,
            "grid_area": null,
            "grid_auto_columns": null,
            "grid_auto_flow": null,
            "grid_auto_rows": null,
            "grid_column": null,
            "grid_gap": null,
            "grid_row": null,
            "grid_template_areas": null,
            "grid_template_columns": null,
            "grid_template_rows": null,
            "height": null,
            "justify_content": null,
            "justify_items": null,
            "left": null,
            "margin": null,
            "max_height": null,
            "max_width": null,
            "min_height": null,
            "min_width": null,
            "object_fit": null,
            "object_position": null,
            "order": null,
            "overflow": null,
            "overflow_x": null,
            "overflow_y": null,
            "padding": null,
            "right": null,
            "top": null,
            "visibility": null,
            "width": null
          }
        },
        "4d81933bfa7a4bb998596bce16af6e9a": {
          "model_module": "@jupyter-widgets/controls",
          "model_name": "ProgressStyleModel",
          "model_module_version": "1.5.0",
          "state": {
            "_model_module": "@jupyter-widgets/controls",
            "_model_module_version": "1.5.0",
            "_model_name": "ProgressStyleModel",
            "_view_count": null,
            "_view_module": "@jupyter-widgets/base",
            "_view_module_version": "1.2.0",
            "_view_name": "StyleView",
            "bar_color": null,
            "description_width": ""
          }
        },
        "780cdb8759ab47ca815a7324029ea9cb": {
          "model_module": "@jupyter-widgets/controls",
          "model_name": "VBoxModel",
          "model_module_version": "1.5.0",
          "state": {
            "_dom_classes": [],
            "_model_module": "@jupyter-widgets/controls",
            "_model_module_version": "1.5.0",
            "_model_name": "VBoxModel",
            "_view_count": null,
            "_view_module": "@jupyter-widgets/controls",
            "_view_module_version": "1.5.0",
            "_view_name": "VBoxView",
            "box_style": "",
            "children": [
              "IPY_MODEL_202c952e17374128b096f22677a92e07",
              "IPY_MODEL_43eccec20aa14acf9777b75b07775b23"
            ],
            "layout": "IPY_MODEL_1d570538228841a68edfaf68c40e2186"
          }
        },
        "202c952e17374128b096f22677a92e07": {
          "model_module": "@jupyter-widgets/controls",
          "model_name": "LabelModel",
          "model_module_version": "1.5.0",
          "state": {
            "_dom_classes": [],
            "_model_module": "@jupyter-widgets/controls",
            "_model_module_version": "1.5.0",
            "_model_name": "LabelModel",
            "_view_count": null,
            "_view_module": "@jupyter-widgets/controls",
            "_view_module_version": "1.5.0",
            "_view_name": "LabelView",
            "description": "",
            "description_tooltip": null,
            "layout": "IPY_MODEL_3d8c93408dea4f3c9b3bff1aba2e2e17",
            "placeholder": "​",
            "style": "IPY_MODEL_064617619f404f43a592c258783b789f",
            "value": "0.011 MB of 0.011 MB uploaded\r"
          }
        },
        "43eccec20aa14acf9777b75b07775b23": {
          "model_module": "@jupyter-widgets/controls",
          "model_name": "FloatProgressModel",
          "model_module_version": "1.5.0",
          "state": {
            "_dom_classes": [],
            "_model_module": "@jupyter-widgets/controls",
            "_model_module_version": "1.5.0",
            "_model_name": "FloatProgressModel",
            "_view_count": null,
            "_view_module": "@jupyter-widgets/controls",
            "_view_module_version": "1.5.0",
            "_view_name": "ProgressView",
            "bar_style": "",
            "description": "",
            "description_tooltip": null,
            "layout": "IPY_MODEL_981c97c4004d4375a4deec5c41197db7",
            "max": 1,
            "min": 0,
            "orientation": "horizontal",
            "style": "IPY_MODEL_20000ffd31724d76985622544200c3db",
            "value": 1
          }
        },
        "1d570538228841a68edfaf68c40e2186": {
          "model_module": "@jupyter-widgets/base",
          "model_name": "LayoutModel",
          "model_module_version": "1.2.0",
          "state": {
            "_model_module": "@jupyter-widgets/base",
            "_model_module_version": "1.2.0",
            "_model_name": "LayoutModel",
            "_view_count": null,
            "_view_module": "@jupyter-widgets/base",
            "_view_module_version": "1.2.0",
            "_view_name": "LayoutView",
            "align_content": null,
            "align_items": null,
            "align_self": null,
            "border": null,
            "bottom": null,
            "display": null,
            "flex": null,
            "flex_flow": null,
            "grid_area": null,
            "grid_auto_columns": null,
            "grid_auto_flow": null,
            "grid_auto_rows": null,
            "grid_column": null,
            "grid_gap": null,
            "grid_row": null,
            "grid_template_areas": null,
            "grid_template_columns": null,
            "grid_template_rows": null,
            "height": null,
            "justify_content": null,
            "justify_items": null,
            "left": null,
            "margin": null,
            "max_height": null,
            "max_width": null,
            "min_height": null,
            "min_width": null,
            "object_fit": null,
            "object_position": null,
            "order": null,
            "overflow": null,
            "overflow_x": null,
            "overflow_y": null,
            "padding": null,
            "right": null,
            "top": null,
            "visibility": null,
            "width": null
          }
        },
        "3d8c93408dea4f3c9b3bff1aba2e2e17": {
          "model_module": "@jupyter-widgets/base",
          "model_name": "LayoutModel",
          "model_module_version": "1.2.0",
          "state": {
            "_model_module": "@jupyter-widgets/base",
            "_model_module_version": "1.2.0",
            "_model_name": "LayoutModel",
            "_view_count": null,
            "_view_module": "@jupyter-widgets/base",
            "_view_module_version": "1.2.0",
            "_view_name": "LayoutView",
            "align_content": null,
            "align_items": null,
            "align_self": null,
            "border": null,
            "bottom": null,
            "display": null,
            "flex": null,
            "flex_flow": null,
            "grid_area": null,
            "grid_auto_columns": null,
            "grid_auto_flow": null,
            "grid_auto_rows": null,
            "grid_column": null,
            "grid_gap": null,
            "grid_row": null,
            "grid_template_areas": null,
            "grid_template_columns": null,
            "grid_template_rows": null,
            "height": null,
            "justify_content": null,
            "justify_items": null,
            "left": null,
            "margin": null,
            "max_height": null,
            "max_width": null,
            "min_height": null,
            "min_width": null,
            "object_fit": null,
            "object_position": null,
            "order": null,
            "overflow": null,
            "overflow_x": null,
            "overflow_y": null,
            "padding": null,
            "right": null,
            "top": null,
            "visibility": null,
            "width": null
          }
        },
        "064617619f404f43a592c258783b789f": {
          "model_module": "@jupyter-widgets/controls",
          "model_name": "DescriptionStyleModel",
          "model_module_version": "1.5.0",
          "state": {
            "_model_module": "@jupyter-widgets/controls",
            "_model_module_version": "1.5.0",
            "_model_name": "DescriptionStyleModel",
            "_view_count": null,
            "_view_module": "@jupyter-widgets/base",
            "_view_module_version": "1.2.0",
            "_view_name": "StyleView",
            "description_width": ""
          }
        },
        "981c97c4004d4375a4deec5c41197db7": {
          "model_module": "@jupyter-widgets/base",
          "model_name": "LayoutModel",
          "model_module_version": "1.2.0",
          "state": {
            "_model_module": "@jupyter-widgets/base",
            "_model_module_version": "1.2.0",
            "_model_name": "LayoutModel",
            "_view_count": null,
            "_view_module": "@jupyter-widgets/base",
            "_view_module_version": "1.2.0",
            "_view_name": "LayoutView",
            "align_content": null,
            "align_items": null,
            "align_self": null,
            "border": null,
            "bottom": null,
            "display": null,
            "flex": null,
            "flex_flow": null,
            "grid_area": null,
            "grid_auto_columns": null,
            "grid_auto_flow": null,
            "grid_auto_rows": null,
            "grid_column": null,
            "grid_gap": null,
            "grid_row": null,
            "grid_template_areas": null,
            "grid_template_columns": null,
            "grid_template_rows": null,
            "height": null,
            "justify_content": null,
            "justify_items": null,
            "left": null,
            "margin": null,
            "max_height": null,
            "max_width": null,
            "min_height": null,
            "min_width": null,
            "object_fit": null,
            "object_position": null,
            "order": null,
            "overflow": null,
            "overflow_x": null,
            "overflow_y": null,
            "padding": null,
            "right": null,
            "top": null,
            "visibility": null,
            "width": null
          }
        },
        "20000ffd31724d76985622544200c3db": {
          "model_module": "@jupyter-widgets/controls",
          "model_name": "ProgressStyleModel",
          "model_module_version": "1.5.0",
          "state": {
            "_model_module": "@jupyter-widgets/controls",
            "_model_module_version": "1.5.0",
            "_model_name": "ProgressStyleModel",
            "_view_count": null,
            "_view_module": "@jupyter-widgets/base",
            "_view_module_version": "1.2.0",
            "_view_name": "StyleView",
            "bar_color": null,
            "description_width": ""
          }
        }
      }
    }
  },
  "cells": [
    {
      "cell_type": "markdown",
      "source": [
        "Import Library"
      ],
      "metadata": {
        "id": "BtSUZ-whbUV5"
      }
    },
    {
      "cell_type": "code",
      "source": [
        "!pip install wandb"
      ],
      "metadata": {
        "colab": {
          "base_uri": "https://localhost:8080/"
        },
        "id": "od1O1ywcD5ds",
        "outputId": "6956fd54-617c-4b85-d630-6a949e3662f9"
      },
      "execution_count": 6,
      "outputs": [
        {
          "output_type": "stream",
          "name": "stdout",
          "text": [
            "Requirement already satisfied: wandb in /usr/local/lib/python3.10/dist-packages (0.16.4)\n",
            "Requirement already satisfied: Click!=8.0.0,>=7.1 in /usr/local/lib/python3.10/dist-packages (from wandb) (8.1.7)\n",
            "Requirement already satisfied: GitPython!=3.1.29,>=1.0.0 in /usr/local/lib/python3.10/dist-packages (from wandb) (3.1.42)\n",
            "Requirement already satisfied: requests<3,>=2.0.0 in /usr/local/lib/python3.10/dist-packages (from wandb) (2.31.0)\n",
            "Requirement already satisfied: psutil>=5.0.0 in /usr/local/lib/python3.10/dist-packages (from wandb) (5.9.5)\n",
            "Requirement already satisfied: sentry-sdk>=1.0.0 in /usr/local/lib/python3.10/dist-packages (from wandb) (1.42.0)\n",
            "Requirement already satisfied: docker-pycreds>=0.4.0 in /usr/local/lib/python3.10/dist-packages (from wandb) (0.4.0)\n",
            "Requirement already satisfied: PyYAML in /usr/local/lib/python3.10/dist-packages (from wandb) (6.0.1)\n",
            "Requirement already satisfied: setproctitle in /usr/local/lib/python3.10/dist-packages (from wandb) (1.3.3)\n",
            "Requirement already satisfied: setuptools in /usr/local/lib/python3.10/dist-packages (from wandb) (67.7.2)\n",
            "Requirement already satisfied: appdirs>=1.4.3 in /usr/local/lib/python3.10/dist-packages (from wandb) (1.4.4)\n",
            "Requirement already satisfied: protobuf!=4.21.0,<5,>=3.19.0 in /usr/local/lib/python3.10/dist-packages (from wandb) (3.20.3)\n",
            "Requirement already satisfied: six>=1.4.0 in /usr/local/lib/python3.10/dist-packages (from docker-pycreds>=0.4.0->wandb) (1.16.0)\n",
            "Requirement already satisfied: gitdb<5,>=4.0.1 in /usr/local/lib/python3.10/dist-packages (from GitPython!=3.1.29,>=1.0.0->wandb) (4.0.11)\n",
            "Requirement already satisfied: charset-normalizer<4,>=2 in /usr/local/lib/python3.10/dist-packages (from requests<3,>=2.0.0->wandb) (3.3.2)\n",
            "Requirement already satisfied: idna<4,>=2.5 in /usr/local/lib/python3.10/dist-packages (from requests<3,>=2.0.0->wandb) (3.6)\n",
            "Requirement already satisfied: urllib3<3,>=1.21.1 in /usr/local/lib/python3.10/dist-packages (from requests<3,>=2.0.0->wandb) (2.0.7)\n",
            "Requirement already satisfied: certifi>=2017.4.17 in /usr/local/lib/python3.10/dist-packages (from requests<3,>=2.0.0->wandb) (2024.2.2)\n",
            "Requirement already satisfied: smmap<6,>=3.0.1 in /usr/local/lib/python3.10/dist-packages (from gitdb<5,>=4.0.1->GitPython!=3.1.29,>=1.0.0->wandb) (5.0.1)\n"
          ]
        }
      ]
    },
    {
      "cell_type": "code",
      "execution_count": 7,
      "metadata": {
        "id": "yhH5VjIYbIi-"
      },
      "outputs": [],
      "source": [
        "from keras.datasets import fashion_mnist, mnist\n",
        "import matplotlib.pyplot as plt\n",
        "from sklearn.model_selection import train_test_split\n",
        "import numpy as np\n",
        "import wandb"
      ]
    },
    {
      "cell_type": "code",
      "source": [],
      "metadata": {
        "id": "-j0PhxNsdE40"
      },
      "execution_count": 7,
      "outputs": []
    },
    {
      "cell_type": "markdown",
      "source": [
        "**Plotting various Categories of data**"
      ],
      "metadata": {
        "id": "ZZp9fLezgqKH"
      }
    },
    {
      "cell_type": "code",
      "source": [
        "(x_train, y_train), (x_test, y_test) = fashion_mnist.load_data()"
      ],
      "metadata": {
        "id": "BBsLJTwTmq37"
      },
      "execution_count": 8,
      "outputs": []
    },
    {
      "cell_type": "code",
      "source": [
        "# MetaData of Fashion_Mnist dataset ...\n",
        "CLASSES = {\n",
        "  0:'T-shirt/top',\n",
        "  1:'Trouser',\n",
        "  2:'Pullover',\n",
        "  3:'Dress',\n",
        "  4:'Coat',\n",
        "  5:'Sandal',\n",
        "  6:'Shirt',\n",
        "  7:'Sneaker',\n",
        "  8:'Bag',\n",
        "  9:'Ankle boot'\n",
        "}"
      ],
      "metadata": {
        "id": "UKVffiY4gy2G"
      },
      "execution_count": 9,
      "outputs": []
    },
    {
      "cell_type": "code",
      "source": [
        "ind_of_first_occurance = np.argsort(y_train)\n",
        "ind = ind_of_first_occurance[np.searchsorted(y_train, np.arange(0,10,1), sorter=ind_of_first_occurance)]\n",
        "fig, ax = plt.subplots(nrows=2, ncols=5)\n",
        "for i in range(10):\n",
        "  ax[i//5, i%5].imshow(x_train[ind[i]], cmap='gray')\n",
        "  ax[i//5, i%5].set_title(CLASSES[i])\n",
        "\n",
        "\n",
        "# wandb.init(project=\"cs6910_assignment1\")\n",
        "# wandb.run.name = f'List of Categories'\n",
        "# wandb.log({'List of Categories':plt})\n",
        "# wandb.finish()\n",
        "\n",
        "# fig.suptitle('List of Categories')\n",
        "plt.show()"
      ],
      "metadata": {
        "colab": {
          "base_uri": "https://localhost:8080/",
          "height": 370
        },
        "id": "Hkt1ibDQg41B",
        "outputId": "f0622b48-f09c-473d-b845-d251bead3819"
      },
      "execution_count": 10,
      "outputs": [
        {
          "output_type": "display_data",
          "data": {
            "text/plain": [
              "<Figure size 640x480 with 10 Axes>"
            ],
            "image/png": "[encoded data removed]"
          },
          "metadata": {}
        }
      ]
    },
    {
      "cell_type": "code",
      "source": [],
      "metadata": {
        "id": "eTvgDi4LaqPu"
      },
      "execution_count": 10,
      "outputs": []
    },
    {
      "cell_type": "code",
      "source": [
        "def load_data(dataset='fashion_mnist', purpose='train'):\n",
        "  dataset=dataset.lower()\n",
        "  purpose=purpose.lower()\n",
        "  x,x_t,y,y_t = None,None,None,None\n",
        "\n",
        "  if dataset == 'fashion_mnist':\n",
        "    (x, y), (x_t, y_t) = fashion_mnist.load_data()\n",
        "  elif dataset == 'mnist':\n",
        "    (x, y), (x_t, y_t) = mnist.load_data()\n",
        "\n",
        "  if purpose == 'train':\n",
        "    x = x.reshape(x.shape[0], 784) / 255\n",
        "    y = np.eye(10)[y]\n",
        "    return x, y\n",
        "  elif purpose == 'test':\n",
        "    x_t = x_t.reshape(x_t.shape[0], 784) / 255\n",
        "    y_t = np.eye(10)[y_t]\n",
        "    return x_t, y_t"
      ],
      "metadata": {
        "id": "zsax32-WAPI2"
      },
      "execution_count": 11,
      "outputs": []
    },
    {
      "cell_type": "markdown",
      "source": [
        "**Feed Forward Neural Net**"
      ],
      "metadata": {
        "id": "EoEI7S_3avwA"
      }
    },
    {
      "cell_type": "code",
      "source": [
        "class FF_NN:\n",
        "\n",
        "  def __init__(self, param):\n",
        "    self.hidden_layers = param['hidden_lyrs']\n",
        "    self.neurons = param['neurons']\n",
        "    self.input_neurons = param['inpt_sz'] # self.x_train.shape[1] * self.x_train.shape[2]\n",
        "    self.output_neurons = param['oupt_sz'] # len(CLASSES)\n",
        "    self.weights = []\n",
        "    self.bias = []\n",
        "    self.activation = param['activation']\n",
        "    self.output_activation = param['oupt_activation']\n",
        "    self.weight_initialisation = param['weight_initialisation']\n",
        "\n",
        "    self.get_weights()\n",
        "    self.get_bias()\n",
        "\n",
        "\n",
        "  def get_bias(self):\n",
        "    for _ in range(self.hidden_layers):\n",
        "      self.bias.append(np.random.randn(self.neurons))\n",
        "    self.bias.append(np.random.randn(self.output_neurons))\n",
        "\n",
        "  def get_weights(self):\n",
        "    if self.weight_initialisation.lower() == 'random':\n",
        "      self.weights.append(np.random.randn(self.input_neurons, self.neurons))\n",
        "      for _ in range(self.hidden_layers-1):\n",
        "        self.weights.append(np.random.randn(self.neurons, self.neurons))\n",
        "      self.weights.append(np.random.randn(self.neurons, self.output_neurons))\n",
        "\n",
        "    else:\n",
        "      limit = np.sqrt(6/(self.input_neurons + self.neurons))\n",
        "      self.weights.append(np.random.uniform(low=-limit, high=limit, size=(self.input_neurons, self.neurons)))\n",
        "      limit = np.sqrt(6/(self.neurons + self.neurons))\n",
        "      for _ in range(self.hidden_layers-1):\n",
        "        self.weights.append(np.random.uniform(low=-limit, high=limit, size=(self.neurons, self.neurons)))\n",
        "      limit = np.sqrt(6/(self.neurons + self.output_neurons))\n",
        "      self.weights.append(np.random.uniform(low=-limit, high=limit, size=(self.neurons, self.output_neurons)))\n",
        "\n",
        "\n",
        "  def apply_activation(self, data):\n",
        "    act = self.activation.lower()\n",
        "    if act == 'sigmoid':\n",
        "      data = np.maximum(data, -500)\n",
        "      data = np.minimum(data, 500)\n",
        "      return 1/(1+np.exp(-data))\n",
        "    elif act == 'relu':\n",
        "      return np.maximum(0,data)\n",
        "    elif act == 'tanh':\n",
        "      return np.tanh(data)\n",
        "    elif act == 'identity':\n",
        "      return data\n",
        "\n",
        "\n",
        "  def apply_output_activation(self, data):\n",
        "    if self.output_activation.lower() == 'softmax':\n",
        "      data = np.maximum(data, -500)\n",
        "      data = np.minimum(data, 500)\n",
        "      data = np.exp(data)\n",
        "      return data/np.sum(data,axis=1).reshape(data.shape[0],1)\n",
        "\n",
        "\n",
        "  def feed_forward(self, input):\n",
        "    self.A = [input]\n",
        "    self.H = [input]\n",
        "\n",
        "    # hidden layer calculations...\n",
        "    for i in range(self.hidden_layers):\n",
        "      self.A.append(self.bias[i] + np.matmul(self.H[-1], self.weights[i]))\n",
        "      self.H.append(self.apply_activation(self.A[-1]))\n",
        "\n",
        "    # output layer calculations...\n",
        "    self.A.append(self.bias[-1] + np.matmul(self.H[-1], self.weights[-1]))\n",
        "    self.H.append(self.apply_output_activation(self.A[-1]))\n",
        "\n",
        "    return self.H[-1] # shape of H[-1] = 60000,10   shape of H = layers, 60000, neurons in each layer\n"
      ],
      "metadata": {
        "id": "_Awp3LSHCYbz"
      },
      "execution_count": 12,
      "outputs": []
    },
    {
      "cell_type": "code",
      "source": [
        "# nn = FF_NN(PARAMETERS)\n",
        "# x_train, y_train = load_data(PARAMETERS['dataset'], 'train')\n",
        "# prediction = nn.feed_forward(x_train) # shape of xtrain -> 60000,784\n",
        "# print(prediction[0])"
      ],
      "metadata": {
        "id": "YP5OXM2jAGVV"
      },
      "execution_count": 13,
      "outputs": []
    },
    {
      "cell_type": "code",
      "source": [],
      "metadata": {
        "id": "8fvv5cxJQtrI"
      },
      "execution_count": 13,
      "outputs": []
    },
    {
      "cell_type": "markdown",
      "source": [
        "**Back_Propagation**"
      ],
      "metadata": {
        "id": "m-8nHyZIQuTh"
      }
    },
    {
      "cell_type": "code",
      "source": [
        "class BP_NN:\n",
        "\n",
        "  def __init__(\n",
        "      self,\n",
        "      ff_nn:FF_NN,\n",
        "      param):\n",
        "    self.ff_nn, self.loss, self.activation, self.output_activation = ff_nn, param['loss_function'], param['activation'], param['oupt_activation']\n",
        "\n",
        "  def loss_derivative(self, y, y_pred):\n",
        "    ls = self.loss.lower()\n",
        "    if ls == \"cross_entropy\":\n",
        "      return -y / y_pred\n",
        "    elif ls == \"mse\":\n",
        "      return y_pred - y\n",
        "\n",
        "  def activation_derivative(self, x):\n",
        "    act = self.activation.lower()\n",
        "    if act == \"sigmoid\":\n",
        "      return x * (1 - x)\n",
        "    elif act == \"tanh\":\n",
        "      return 1 - x ** 2\n",
        "    elif act == \"relu\":\n",
        "      return (x > 0).astype(int)\n",
        "    elif act == \"identity\":\n",
        "      return np.ones(x.shape)\n",
        "\n",
        "  def propogate_backward(self, y, y_pred):  # y=60000,10   y_pred=60000,10\n",
        "    self.d_h, self.d_a, self.delta_weights, self.delta_bias = [], [], [], []\n",
        "\n",
        "    self.d_a.append(y_pred-y)\n",
        "\n",
        "    for i in range(self.ff_nn.hidden_layers, 0, -1):\n",
        "      self.delta_weights.append(np.matmul(self.ff_nn.H[i].T, self.d_a[-1]))\n",
        "      self.delta_bias.append(np.sum(self.d_a[-1], axis=0))\n",
        "      self.d_h.append(np.matmul(self.d_a[-1], self.ff_nn.weights[i].T))\n",
        "      self.d_a.append(self.d_h[-1] * self.activation_derivative(self.ff_nn.H[i]))\n",
        "\n",
        "    self.delta_weights.append(np.matmul(self.ff_nn.H[0].T, self.d_a[-1]))\n",
        "    self.delta_bias.append(np.sum(self.d_a[-1], axis=0))\n",
        "\n",
        "    self.delta_weights.reverse()\n",
        "    self.delta_bias.reverse()\n",
        "    for i in range(len(self.delta_weights)):\n",
        "      self.delta_weights[i] = self.delta_weights[i] / y.shape[0]\n",
        "      self.delta_bias[i] = self.delta_bias[i] / y.shape[0]\n",
        "\n",
        "    return self.delta_weights, self.delta_bias"
      ],
      "metadata": {
        "id": "k5e66lFgROJI"
      },
      "execution_count": 14,
      "outputs": []
    },
    {
      "cell_type": "code",
      "source": [],
      "metadata": {
        "id": "yXz9TvroRcUF"
      },
      "execution_count": 14,
      "outputs": []
    },
    {
      "cell_type": "markdown",
      "source": [
        "**Optimizers**"
      ],
      "metadata": {
        "id": "sQyYmWEZgLvq"
      }
    },
    {
      "cell_type": "code",
      "source": [
        "class Optimizer():\n",
        "  def __init__(\n",
        "      self,\n",
        "      ff_nn: FF_NN,\n",
        "      bp_nn: BP_NN,\n",
        "      param\n",
        "  ):\n",
        "    self.ff_nn, self.bp_nn, self.lr, self.optimizer, self.momentum, self.decay = ff_nn, bp_nn, param['learning_rate'], param['optimizer'], param['momentum'], param['decay']\n",
        "    self.B1, self.B2, self.eps, self.t = param['beta1'], param['beta2'], param['epsilon'], 0\n",
        "    self.b_history = [np.zeros_like(i) for i in self.ff_nn.bias]\n",
        "    self.hm_biases = [np.zeros_like(i) for i in self.ff_nn.bias]\n",
        "    self.w_history = [np.zeros_like(i) for i in self.ff_nn.weights]\n",
        "    self.hm_weights = [np.zeros_like(i) for i in self.ff_nn.weights]\n",
        "\n",
        "\n",
        "  def optimize(self, delta_weights, delta_bias):\n",
        "    opt = self.optimizer.lower()\n",
        "    if(opt == \"sgd\"):\n",
        "      self.SGD(delta_weights, delta_bias)\n",
        "    elif(opt == \"momentum\"):\n",
        "      self.MGD(delta_weights, delta_bias)\n",
        "    elif(opt == \"nag\"):\n",
        "      self.NAG(delta_weights, delta_bias)\n",
        "    elif(opt == \"rmsprop\"):\n",
        "      self.RMSPROP(delta_weights, delta_bias)\n",
        "    elif(opt == \"adam\"):\n",
        "      self.ADAM(delta_weights, delta_bias)\n",
        "    elif(opt == \"nadam\"):\n",
        "      self.NADAM(delta_weights, delta_bias)\n",
        "\n",
        "\n",
        "  def SGD(self, delta_weights, delta_bias):\n",
        "    for i in range(self.ff_nn.hidden_layers + 1):\n",
        "      self.ff_nn.weights[i] -= self.lr * (delta_weights[i] + self.ff_nn.weights[i]*self.decay)\n",
        "      self.ff_nn.bias[i] -= self.lr * (delta_bias[i] + self.ff_nn.bias[i]*self.decay)\n",
        "\n",
        "  def MGD(self, delta_weights, delta_bias):\n",
        "    for i in range(self.ff_nn.hidden_layers + 1):\n",
        "      self.w_history[i] = self.momentum * self.w_history[i] + delta_weights[i]\n",
        "      self.ff_nn.weights[i] -= self.lr * (self.w_history[i] + self.ff_nn.weights[i]*self.decay)\n",
        "      self.b_history[i] = self.momentum * self.b_history[i] + delta_bias[i]\n",
        "      self.ff_nn.bias[i] -= self.lr * (self.b_history[i] + self.ff_nn.bias[i]*self.decay)\n",
        "\n",
        "  def NAG(self, delta_weights, delta_bias):\n",
        "    for i in range(self.ff_nn.hidden_layers + 1):\n",
        "      self.w_history[i] = self.momentum * self.w_history[i] + delta_weights[i]\n",
        "      self.ff_nn.weights[i] -= self.lr * (self.momentum * self.w_history[i] + delta_weights[i] + self.ff_nn.weights[i]*self.decay)\n",
        "      self.b_history[i] = self.momentum * self.b_history[i] + delta_bias[i]\n",
        "      self.ff_nn.bias[i] -= self.lr * (self.momentum * self.b_history[i] + delta_bias[i] + self.ff_nn.bias[i]*self.decay)\n",
        "\n",
        "\n",
        "  def RMSPROP(self, delta_weights, delta_bias):\n",
        "    for i in range(self.ff_nn.hidden_layers + 1):\n",
        "      self.w_history[i] = self.w_history[i]*self.momentum + (1-self.momentum)*delta_weights[i]**2\n",
        "      self.ff_nn.weights[i] -= delta_weights[i]*(self.lr / (np.sqrt(self.w_history[i]) + self.eps)) + self.decay * self.ff_nn.weights[i] * self.lr\n",
        "      self.b_history[i] = self.b_history[i]*self.momentum + (1-self.momentum)*delta_bias[i]**2\n",
        "      self.ff_nn.bias[i] -= delta_bias[i]*(self.lr / (np.sqrt(self.b_history[i]) + self.eps)) + self.decay * self.ff_nn.bias[i] * self.lr\n",
        "\n",
        "\n",
        "  def ADAM(self, delta_weights, delta_bias):\n",
        "    for i in range(self.ff_nn.hidden_layers + 1):\n",
        "      self.hm_weights[i] = self.B1 * self.hm_weights[i] + (1 - self.B1) * delta_weights[i]\n",
        "      self.w_history[i] = self.B2 * self.w_history[i] + (1 - self.B2) * delta_weights[i]**2\n",
        "      self.hm_weights_hat = self.hm_weights[i] / (1 - self.B1**(self.t + 1))\n",
        "      self.w_history_hat = self.w_history[i] / (1 - self.B2**(self.t + 1))\n",
        "      self.ff_nn.weights[i] -= self.lr * (self.hm_weights_hat / ((np.sqrt(self.w_history_hat)) + self.eps) + self.decay * self.ff_nn.weights[i])\n",
        "\n",
        "      self.hm_biases[i] = self.B1 * self.hm_biases[i] + (1 - self.B1) * delta_bias[i]\n",
        "      self.b_history[i] = self.B2 * self.b_history[i] + (1 - self.B2) * delta_bias[i]**2\n",
        "      self.hm_biases_hat = self.hm_biases[i] / (1 - self.B1**(1+self.t))\n",
        "      self.b_history_hat = self.b_history[i] / (1 - self.B2**(1+self.t))\n",
        "      self.ff_nn.bias[i] -= self.lr * (self.hm_biases_hat / ((np.sqrt(self.b_history_hat)) + self.eps) + self.decay * self.ff_nn.bias[i])\n",
        "\n",
        "\n",
        "  def NADAM(self, delta_weights, delta_bias):\n",
        "    for i in range(self.ff_nn.hidden_layers + 1):\n",
        "      self.hm_weights[i] = self.B1 * self.hm_weights[i] + (1 - self.B1) * delta_weights[i]\n",
        "      self.hm_weights_hat = self.hm_weights[i] / (1 - self.B1 ** (self.t + 1))\n",
        "      self.w_history[i] = self.B2 * self.w_history[i] + (1 - self.B2) * delta_weights[i]**2\n",
        "      self.w_history_hat = self.w_history[i] / (1 - self.B2 ** (self.t + 1))\n",
        "      w_temp = self.B1 * self.hm_weights_hat + ((1 - self.B1) / (1 - self.B1 ** (self.t + 1))) * delta_weights[i]\n",
        "      self.ff_nn.weights[i] -= self.lr * (w_temp / ((np.sqrt(self.w_history_hat)) + self.eps) + self.decay * self.ff_nn.weights[i])\n",
        "\n",
        "\n",
        "      self.hm_biases[i] = self.B1 * self.hm_biases[i] + (1 - self.B1) * delta_bias[i]\n",
        "      self.hm_biases_hat = self.hm_biases[i] / (1 - self.B1 ** (self.t + 1))\n",
        "      self.b_history[i] = self.B2 * self.b_history[i] + (1 - self.B2) * delta_bias[i]**2\n",
        "      self.b_history_hat = self.b_history[i] / (1 - self.B2 ** (self.t + 1))\n",
        "      b_temp = self.B1 * self.hm_biases_hat + ((1 - self.B1) / (1 - self.B1 ** (self.t + 1))) * delta_bias[i]\n",
        "      self.ff_nn.bias[i] -= self.lr * (b_temp / ((np.sqrt(self.b_history_hat)) + self.eps) + self.decay * self.ff_nn.bias[i])\n"
      ],
      "metadata": {
        "id": "D5uVrcosgti4"
      },
      "execution_count": 15,
      "outputs": []
    },
    {
      "cell_type": "code",
      "source": [
        "def calculate_loss(y, y_pred, loss_function):\n",
        "  ls_fn = loss_function.lower()\n",
        "  if ls_fn == \"mean_squared_error\":\n",
        "    return np.sum((y_pred-y) ** 2) / y.shape[0]\n",
        "  elif ls_fn == \"cross_entropy\":\n",
        "    return (-np.sum(y * np.log(y_pred))) / y.shape[0]\n"
      ],
      "metadata": {
        "id": "-doCB1E_jEvf"
      },
      "execution_count": 16,
      "outputs": []
    },
    {
      "cell_type": "code",
      "source": [
        "# def train(PARAMETERS):\n",
        "#   # wandb.init()\n",
        "#   # config = wandb.config\n",
        "#   x_train, y_train = load_data(PARAMETERS['dataset'], 'train')\n",
        "#   np.random.seed(7)\n",
        "#   ff_nn = FF_NN(PARAMETERS)\n",
        "#   bp_nn = BP_NN(ff_nn, PARAMETERS)\n",
        "#   opt = Optimizer(ff_nn, bp_nn, PARAMETERS)\n",
        "#   print(\"Initial Accuracy: {}\".format(np.sum(np.argmax(ff_nn.feed_forward(x_train), axis=1) == np.argmax(y_train, axis=1)) / y_train.shape[0]))\n",
        "#   batch_size = PARAMETERS['batch_sz']\n",
        "#   # wandb.run.name = f'hl_{config.hidden_lyrs}_bs_{config.batch_sz}_ac_{config.activation}'\n",
        "#   x_train, x_train_t, y_train, y_train_t = train_test_split(x_train, y_train, test_size=0.1, random_state=7)\n",
        "\n",
        "#   for epoch in range(PARAMETERS['epochs']):\n",
        "#     for i in range(0, x_train.shape[0], batch_size):\n",
        "#       y_batch = y_train[i:i+batch_size]\n",
        "#       x_batch = x_train[i:i+batch_size]\n",
        "#       opt.optimize(*bp_nn.propogate_backward(y_batch, ff_nn.feed_forward(x_batch)))\n",
        "\n",
        "#     opt.t += 1\n",
        "#     y_pred = ff_nn.feed_forward(x_train)\n",
        "#     y_pred_t = ff_nn.feed_forward(x_train_t)\n",
        "#     # lg={\n",
        "#     #     'accuracy':np.sum(np.argmax(y_pred, axis=1) == np.argmax(y_train, axis=1)) / y_train.shape[0],\n",
        "#     #     'val_accuracy':np.sum(np.argmax(y_pred_t, axis=1) == np.argmax(y_train_t, axis=1)) / y_train_t.shape[0],\n",
        "#     #     'epoch':epoch+1,\n",
        "#     #     'loss':calculate_loss(y_train, y_pred, PARAMETERS['loss_function']),\n",
        "#     #     'validation_loss':calculate_loss(y_train_t, y_pred_t, PARAMETERS['loss_function'])\n",
        "#     # }\n",
        "#     # wandb.log(lg)\n",
        "#     print(\"epoch-\",epoch+1)\n",
        "#     print(\"accuracy-\",np.sum(np.argmax(y_pred, axis=1) == np.argmax(y_train, axis=1)) / y_train.shape[0])\n",
        "#     print(\"loss-\", calculate_loss(y_train, y_pred, PARAMETERS['loss_function']))\n",
        "#     print(\"validation_acc-\",np.sum(np.argmax(y_pred_t, axis=1) == np.argmax(y_train_t, axis=1)) / y_train_t.shape[0])\n",
        "#     print(\"validation_loss-\", calculate_loss(y_train_t, y_pred_t, PARAMETERS['loss_function']))\n",
        "\n",
        "\n",
        "#   return ff_nn\n"
      ],
      "metadata": {
        "id": "V3fGH5jfjEqz"
      },
      "execution_count": 17,
      "outputs": []
    },
    {
      "cell_type": "code",
      "source": [
        "# PARAMETERS = {\n",
        "#     'inpt_sz' : 784,\n",
        "#     'oupt_sz' : 10,\n",
        "#     'neurons' : 64,\n",
        "#     'hidden_lyrs' : 4,\n",
        "#     'activation' : 'sigmoid',\n",
        "#     'oupt_activation' : 'softmax',\n",
        "#     'dataset' : 'fashion_mnist',\n",
        "#     'loss_function': 'cross_entropy',\n",
        "#     'learning_rate': 0.001,\n",
        "#     'optimizer': 'adam',\n",
        "#     'momentum': 0.9,\n",
        "#     'batch_sz': 16,\n",
        "#     'epochs': 10,\n",
        "#     'weight_initialisation': 'random',\n",
        "#     'decay': 0.005,\n",
        "#     'beta': 0.9,\n",
        "#     'beta1': 0.9,\n",
        "#     'beta2': 0.999,\n",
        "#     'epsilon': 1e-10\n",
        "# }"
      ],
      "metadata": {
        "id": "mSx2jPGAjxIT"
      },
      "execution_count": 18,
      "outputs": []
    },
    {
      "cell_type": "code",
      "source": [
        "# train(PARAMETERS)"
      ],
      "metadata": {
        "id": "IKyouRUyK6Oa"
      },
      "execution_count": 19,
      "outputs": []
    },
    {
      "cell_type": "code",
      "source": [],
      "metadata": {
        "id": "83OA4q4LiEbc"
      },
      "execution_count": 19,
      "outputs": []
    },
    {
      "cell_type": "code",
      "source": [],
      "metadata": {
        "id": "6p_4pkqriPv8"
      },
      "execution_count": 19,
      "outputs": []
    },
    {
      "cell_type": "code",
      "source": [
        "def train():\n",
        "  wandb.init()\n",
        "  PARAMETERS = wandb.config\n",
        "  x_train, y_train = load_data(PARAMETERS['dataset'], 'train')\n",
        "  np.random.seed(7)\n",
        "  ff_nn = FF_NN(PARAMETERS)\n",
        "  bp_nn = BP_NN(ff_nn, PARAMETERS)\n",
        "  opt = Optimizer(ff_nn, bp_nn, PARAMETERS)\n",
        "  print(\"Initial Accuracy: {}\".format(np.sum(np.argmax(ff_nn.feed_forward(x_train), axis=1) == np.argmax(y_train, axis=1)) / y_train.shape[0]))\n",
        "  batch_size = PARAMETERS['batch_sz']\n",
        "\n",
        "  wandb.run.name = f'hl_{PARAMETERS.hidden_lyrs}_bs_{PARAMETERS.batch_sz}_ac_{PARAMETERS.activation}'\n",
        "  x_train, x_train_t, y_train, y_train_t = train_test_split(x_train, y_train, test_size=0.1, random_state=7)\n",
        "\n",
        "  for epoch in range(PARAMETERS['epochs']):\n",
        "    for i in range(0, x_train.shape[0], batch_size):\n",
        "      y_batch = y_train[i:i+batch_size]\n",
        "      x_batch = x_train[i:i+batch_size]\n",
        "      y_pred = ff_nn.feed_forward(x_batch)\n",
        "      weight_change, bias_change = bp_nn.propogate_backward(y_batch, y_pred)\n",
        "      opt.optimize(weight_change, bias_change)\n",
        "\n",
        "    opt.t += 1\n",
        "    y_pred = ff_nn.feed_forward(x_train)\n",
        "    y_pred_t = ff_nn.feed_forward(x_train_t)\n",
        "    lg={\n",
        "        'accuracy':np.sum(np.argmax(y_pred, axis=1) == np.argmax(y_train, axis=1)) / y_train.shape[0],\n",
        "        'val_accuracy':np.sum(np.argmax(y_pred_t, axis=1) == np.argmax(y_train_t, axis=1)) / y_train_t.shape[0],\n",
        "        'epoch':epoch+1,\n",
        "        'loss':calculate_loss(y_train, y_pred, PARAMETERS['loss_function']),\n",
        "        'validation_loss':calculate_loss(y_train_t, y_pred_t, PARAMETERS['loss_function'])\n",
        "    }\n",
        "    wandb.log(lg)\n",
        "    print(\"epoch-\",epoch+1)\n",
        "    print(\"accuracy-\",np.sum(np.argmax(y_pred, axis=1) == np.argmax(y_train, axis=1)) / y_train.shape[0])\n",
        "    print(\"loss-\", calculate_loss(y_train, y_pred, PARAMETERS['loss_function']))\n",
        "    print(\"validation-\",np.sum(np.argmax(y_pred_t, axis=1) == np.argmax(y_train_t, axis=1)) / y_train_t.shape[0])\n",
        "\n",
        "\n",
        "  return ff_nn\n"
      ],
      "metadata": {
        "id": "tgAhIl9ueTKO"
      },
      "execution_count": 20,
      "outputs": []
    },
    {
      "cell_type": "code",
      "source": [
        "sweep_config = {\n",
        "    \"method\": \"bayes\",\n",
        "    \"metric\": {\"goal\": \"maximize\", \"name\": \"accuracy\"},\n",
        "    \"parameters\": {\n",
        "        \"inpt_sz\": {\"values\": [784]},\n",
        "        \"oupt_sz\": {\"values\": [10]},\n",
        "        \"oupt_activation\": {\"values\": [\"softmax\"]},\n",
        "        \"dataset\": {\"values\": [\"fashion_mnist\"]},\n",
        "        \"loss_function\": {\"values\": [\"cross_entropy\"]},\n",
        "        \"beta\": {\"values\": [0.9]},\n",
        "        \"beta1\": {\"values\": [0.9]},\n",
        "        \"beta2\": {\"values\": [0.999]},\n",
        "        \"neurons\": {\"values\": [16, 32, 64, 128]},\n",
        "        \"hidden_lyrs\": {\"values\": [3, 4, 5]},\n",
        "        \"activation\": {\"values\": [\"relu\", \"tanh\", \"sigmoid\"]},\n",
        "        \"learning_rate\": {\"values\": [0.0001, 0.001, 0.01]},\n",
        "        \"optimizer\": {\"values\": ['adam', 'sgd', 'nag', 'rmsprop', 'momentum', 'nadam']},\n",
        "        \"momentum\": {\"values\": [0.8, 0.9]},\n",
        "        \"batch_sz\": {\"values\": [16, 32, 64]},\n",
        "        \"epochs\": {\"values\": [5, 10]},\n",
        "        \"weight_initialisation\": {\"values\": [\"random\", \"xavier\"]},\n",
        "        \"decay\": {\"values\": [0.0, 0.005, 0.05]},\n",
        "        \"epsilon\": {\"values\": [1e-8, 1e-10]},\n",
        "    }\n",
        "}\n"
      ],
      "metadata": {
        "id": "SVSsiDyzEHQK"
      },
      "execution_count": 21,
      "outputs": []
    },
    {
      "cell_type": "code",
      "source": [
        "sweep_id = wandb.sweep(sweep_config, project=\"cs6910_assignment1\")"
      ],
      "metadata": {
        "colab": {
          "base_uri": "https://localhost:8080/"
        },
        "id": "QoM39NQ-HP8n",
        "outputId": "732f6cf8-1a06-4468-de3b-6589f5811e0d"
      },
      "execution_count": 24,
      "outputs": [
        {
          "output_type": "stream",
          "name": "stdout",
          "text": [
            "Create sweep with ID: uluysoxh\n",
            "Sweep URL: https://wandb.ai/cs23m070/cs6910_assignment1/sweeps/uluysoxh\n"
          ]
        }
      ]
    },
    {
      "cell_type": "code",
      "source": [
        "wandb.agent(sweep_id, function=train, count=5)\n",
        "wandb.finish()"
      ],
      "metadata": {
        "colab": {
          "base_uri": "https://localhost:8080/",
          "height": 1000,
          "referenced_widgets": [
            "96a2df19112c429388b2c18faa2d8174",
            "b8ea9c5801064e4da6bb2fe09a2d253c",
            "e63a4e1e4bc24fcaa10d817903d8ee90",
            "b189d4fae87a4d748729cb9f68710430",
            "b413e03588e143ee9f55206672303f1a",
            "b67567fffdec4fbc8933a062c0c78676",
            "3e575afd41e14de5ac4f04168abc54c4",
            "b3255f5c1ea44e729f25ba30552d6485",
            "9823d0c145094b0aaa20eb53361c1912",
            "0009f53a8079463993f46a22b729708a",
            "839bba2e0d684a4fb9e75367a3fcaa09",
            "84524677efbb4afcb18752f390bb386c",
            "adc92560972942679aceb82a3e5f2d36",
            "fe8c039dc1f44523a4c6ae99981b7a1e",
            "5044bc5e511547ae99ae3c5d6bff0ad6",
            "5231b7396a334aadb4000804110b2424",
            "5bea8de3b7a84d988d41ba13317882a8",
            "c0e42f4a78754801a8ce937bd2a0ff2e",
            "4d4a412a11c6443381456273ba422898",
            "a15bd13e6ce245e49f6fdd424741ec72",
            "e3010642d8a34d719b3d94e72aa98249",
            "b58571553e3d435f9721cd807a68ae27",
            "f20a7856a7b5494a873274208860c0da",
            "d64a2edbd7d44f91b612b41f8c6cb342",
            "941c274df578460da23de71a2e1df036",
            "dbd164de0f7b45f9a12f315a5bee25c4",
            "c896dbb8f22f46b0aeedae882b261976",
            "92f7a4e2571044adb9e11f2ec93827ca",
            "80156164c1c44ed98fd8b58d2db05615",
            "248f79dfbd594724965b6ec2314cc616",
            "05c3f04cb7b443dda01d3d95ed70f2c9",
            "4d81933bfa7a4bb998596bce16af6e9a",
            "780cdb8759ab47ca815a7324029ea9cb",
            "202c952e17374128b096f22677a92e07",
            "43eccec20aa14acf9777b75b07775b23",
            "1d570538228841a68edfaf68c40e2186",
            "3d8c93408dea4f3c9b3bff1aba2e2e17",
            "064617619f404f43a592c258783b789f",
            "981c97c4004d4375a4deec5c41197db7",
            "20000ffd31724d76985622544200c3db"
          ]
        },
        "id": "mTIL2dA_cYND",
        "outputId": "c6a95af5-d20d-4f99-fc28-7e40d284dee1"
      },
      "execution_count": 25,
      "outputs": [
        {
          "output_type": "stream",
          "name": "stderr",
          "text": [
            "\u001b[34m\u001b[1mwandb\u001b[0m: Agent Starting Run: h2d9wt1s with config:\n",
            "\u001b[34m\u001b[1mwandb\u001b[0m: \tactivation: sigmoid\n",
            "\u001b[34m\u001b[1mwandb\u001b[0m: \tbatch_sz: 64\n",
            "\u001b[34m\u001b[1mwandb\u001b[0m: \tbeta: 0.9\n",
            "\u001b[34m\u001b[1mwandb\u001b[0m: \tbeta1: 0.9\n",
            "\u001b[34m\u001b[1mwandb\u001b[0m: \tbeta2: 0.999\n",
            "\u001b[34m\u001b[1mwandb\u001b[0m: \tdataset: fashion_mnist\n",
            "\u001b[34m\u001b[1mwandb\u001b[0m: \tdecay: 0\n",
            "\u001b[34m\u001b[1mwandb\u001b[0m: \tepochs: 5\n",
            "\u001b[34m\u001b[1mwandb\u001b[0m: \tepsilon: 1e-10\n",
            "\u001b[34m\u001b[1mwandb\u001b[0m: \thidden_lyrs: 4\n",
            "\u001b[34m\u001b[1mwandb\u001b[0m: \tinpt_sz: 784\n",
            "\u001b[34m\u001b[1mwandb\u001b[0m: \tlearning_rate: 0.001\n",
            "\u001b[34m\u001b[1mwandb\u001b[0m: \tloss_function: cross_entropy\n",
            "\u001b[34m\u001b[1mwandb\u001b[0m: \tmomentum: 0.8\n",
            "\u001b[34m\u001b[1mwandb\u001b[0m: \tneurons: 64\n",
            "\u001b[34m\u001b[1mwandb\u001b[0m: \toptimizer: rmsprop\n",
            "\u001b[34m\u001b[1mwandb\u001b[0m: \toupt_activation: softmax\n",
            "\u001b[34m\u001b[1mwandb\u001b[0m: \toupt_sz: 10\n",
            "\u001b[34m\u001b[1mwandb\u001b[0m: \tweight_initialisation: random\n"
          ]
        },
        {
          "output_type": "display_data",
          "data": {
            "text/plain": [
              "<IPython.core.display.HTML object>"
            ],
            "text/html": [
              "Tracking run with wandb version 0.16.4"
            ]
          },
          "metadata": {}
        },
        {
          "output_type": "display_data",
          "data": {
            "text/plain": [
              "<IPython.core.display.HTML object>"
            ],
            "text/html": [
              "Run data is saved locally in <code>/content/wandb/run-20240313_180349-h2d9wt1s</code>"
            ]
          },
          "metadata": {}
        },
        {
          "output_type": "display_data",
          "data": {
            "text/plain": [
              "<IPython.core.display.HTML object>"
            ],
            "text/html": [
              "Syncing run <strong><a href='https://wandb.ai/cs23m070/cs6910_assignment1/runs/h2d9wt1s' target=\"_blank\">lemon-sweep-1</a></strong> to <a href='https://wandb.ai/cs23m070/cs6910_assignment1' target=\"_blank\">Weights & Biases</a> (<a href='https://wandb.me/run' target=\"_blank\">docs</a>)<br/>Sweep page: <a href='https://wandb.ai/cs23m070/cs6910_assignment1/sweeps/uluysoxh' target=\"_blank\">https://wandb.ai/cs23m070/cs6910_assignment1/sweeps/uluysoxh</a>"
            ]
          },
          "metadata": {}
        },
        {
          "output_type": "display_data",
          "data": {
            "text/plain": [
              "<IPython.core.display.HTML object>"
            ],
            "text/html": [
              " View project at <a href='https://wandb.ai/cs23m070/cs6910_assignment1' target=\"_blank\">https://wandb.ai/cs23m070/cs6910_assignment1</a>"
            ]
          },
          "metadata": {}
        },
        {
          "output_type": "display_data",
          "data": {
            "text/plain": [
              "<IPython.core.display.HTML object>"
            ],
            "text/html": [
              " View sweep at <a href='https://wandb.ai/cs23m070/cs6910_assignment1/sweeps/uluysoxh' target=\"_blank\">https://wandb.ai/cs23m070/cs6910_assignment1/sweeps/uluysoxh</a>"
            ]
          },
          "metadata": {}
        },
        {
          "output_type": "display_data",
          "data": {
            "text/plain": [
              "<IPython.core.display.HTML object>"
            ],
            "text/html": [
              " View run at <a href='https://wandb.ai/cs23m070/cs6910_assignment1/runs/h2d9wt1s' target=\"_blank\">https://wandb.ai/cs23m070/cs6910_assignment1/runs/h2d9wt1s</a>"
            ]
          },
          "metadata": {}
        },
        {
          "output_type": "stream",
          "name": "stdout",
          "text": [
            "Initial Accuracy: 0.09998333333333333\n",
            "epoch- 1\n",
            "accuracy- 0.7776481481481482\n",
            "loss- 0.610566974111645\n",
            "validation- 0.7753333333333333\n",
            "epoch- 2\n",
            "accuracy- 0.8148148148148148\n",
            "loss- 0.5135501323231182\n",
            "validation- 0.807\n",
            "epoch- 3\n",
            "accuracy- 0.8307222222222223\n",
            "loss- 0.46998562565965163\n",
            "validation- 0.8216666666666667\n",
            "epoch- 4\n",
            "accuracy- 0.8403518518518519\n",
            "loss- 0.4425449650853796\n",
            "validation- 0.8286666666666667\n",
            "epoch- 5\n",
            "accuracy- 0.8483703703703703\n",
            "loss- 0.42052584628801104\n",
            "validation- 0.8328333333333333\n"
          ]
        },
        {
          "output_type": "display_data",
          "data": {
            "text/plain": [
              "VBox(children=(Label(value='0.001 MB of 0.011 MB uploaded\\r'), FloatProgress(value=0.08847788052986753, max=1.…"
            ],
            "application/vnd.jupyter.widget-view+json": {
              "version_major": 2,
              "version_minor": 0,
              "model_id": "96a2df19112c429388b2c18faa2d8174"
            }
          },
          "metadata": {}
        },
        {
          "output_type": "display_data",
          "data": {
            "text/plain": [
              "<IPython.core.display.HTML object>"
            ],
            "text/html": [
              "<style>\n",
              "    table.wandb td:nth-child(1) { padding: 0 10px; text-align: left ; width: auto;} td:nth-child(2) {text-align: left ; width: 100%}\n",
              "    .wandb-row { display: flex; flex-direction: row; flex-wrap: wrap; justify-content: flex-start; width: 100% }\n",
              "    .wandb-col { display: flex; flex-direction: column; flex-basis: 100%; flex: 1; padding: 10px; }\n",
              "    </style>\n",
              "<div class=\"wandb-row\"><div class=\"wandb-col\"><h3>Run history:</h3><br/><table class=\"wandb\"><tr><td>accuracy</td><td>▁▅▆▇█</td></tr><tr><td>epoch</td><td>▁▃▅▆█</td></tr><tr><td>loss</td><td>█▄▃▂▁</td></tr><tr><td>val_accuracy</td><td>▁▅▇▇█</td></tr><tr><td>validation_loss</td><td>█▄▂▂▁</td></tr></table><br/></div><div class=\"wandb-col\"><h3>Run summary:</h3><br/><table class=\"wandb\"><tr><td>accuracy</td><td>0.84837</td></tr><tr><td>epoch</td><td>5</td></tr><tr><td>loss</td><td>0.42053</td></tr><tr><td>val_accuracy</td><td>0.83283</td></tr><tr><td>validation_loss</td><td>0.4727</td></tr></table><br/></div></div>"
            ]
          },
          "metadata": {}
        },
        {
          "output_type": "display_data",
          "data": {
            "text/plain": [
              "<IPython.core.display.HTML object>"
            ],
            "text/html": [
              " View run <strong style=\"color:#cdcd00\">lemon-sweep-1</strong> at: <a href='https://wandb.ai/cs23m070/cs6910_assignment1/runs/h2d9wt1s' target=\"_blank\">https://wandb.ai/cs23m070/cs6910_assignment1/runs/h2d9wt1s</a><br/>Synced 5 W&B file(s), 0 media file(s), 0 artifact file(s) and 0 other file(s)"
            ]
          },
          "metadata": {}
        },
        {
          "output_type": "display_data",
          "data": {
            "text/plain": [
              "<IPython.core.display.HTML object>"
            ],
            "text/html": [
              "Find logs at: <code>./wandb/run-20240313_180349-h2d9wt1s/logs</code>"
            ]
          },
          "metadata": {}
        },
        {
          "output_type": "stream",
          "name": "stderr",
          "text": [
            "\u001b[34m\u001b[1mwandb\u001b[0m: Agent Starting Run: 3o7rstvr with config:\n",
            "\u001b[34m\u001b[1mwandb\u001b[0m: \tactivation: sigmoid\n",
            "\u001b[34m\u001b[1mwandb\u001b[0m: \tbatch_sz: 16\n",
            "\u001b[34m\u001b[1mwandb\u001b[0m: \tbeta: 0.9\n",
            "\u001b[34m\u001b[1mwandb\u001b[0m: \tbeta1: 0.9\n",
            "\u001b[34m\u001b[1mwandb\u001b[0m: \tbeta2: 0.999\n",
            "\u001b[34m\u001b[1mwandb\u001b[0m: \tdataset: fashion_mnist\n",
            "\u001b[34m\u001b[1mwandb\u001b[0m: \tdecay: 0\n",
            "\u001b[34m\u001b[1mwandb\u001b[0m: \tepochs: 5\n",
            "\u001b[34m\u001b[1mwandb\u001b[0m: \tepsilon: 1e-08\n",
            "\u001b[34m\u001b[1mwandb\u001b[0m: \thidden_lyrs: 4\n",
            "\u001b[34m\u001b[1mwandb\u001b[0m: \tinpt_sz: 784\n",
            "\u001b[34m\u001b[1mwandb\u001b[0m: \tlearning_rate: 0.001\n",
            "\u001b[34m\u001b[1mwandb\u001b[0m: \tloss_function: cross_entropy\n",
            "\u001b[34m\u001b[1mwandb\u001b[0m: \tmomentum: 0.9\n",
            "\u001b[34m\u001b[1mwandb\u001b[0m: \tneurons: 32\n",
            "\u001b[34m\u001b[1mwandb\u001b[0m: \toptimizer: rmsprop\n",
            "\u001b[34m\u001b[1mwandb\u001b[0m: \toupt_activation: softmax\n",
            "\u001b[34m\u001b[1mwandb\u001b[0m: \toupt_sz: 10\n",
            "\u001b[34m\u001b[1mwandb\u001b[0m: \tweight_initialisation: xavier\n"
          ]
        },
        {
          "output_type": "display_data",
          "data": {
            "text/plain": [
              "<IPython.core.display.HTML object>"
            ],
            "text/html": [
              "Tracking run with wandb version 0.16.4"
            ]
          },
          "metadata": {}
        },
        {
          "output_type": "display_data",
          "data": {
            "text/plain": [
              "<IPython.core.display.HTML object>"
            ],
            "text/html": [
              "Run data is saved locally in <code>/content/wandb/run-20240313_180425-3o7rstvr</code>"
            ]
          },
          "metadata": {}
        },
        {
          "output_type": "display_data",
          "data": {
            "text/plain": [
              "<IPython.core.display.HTML object>"
            ],
            "text/html": [
              "Syncing run <strong><a href='https://wandb.ai/cs23m070/cs6910_assignment1/runs/3o7rstvr' target=\"_blank\">crimson-sweep-2</a></strong> to <a href='https://wandb.ai/cs23m070/cs6910_assignment1' target=\"_blank\">Weights & Biases</a> (<a href='https://wandb.me/run' target=\"_blank\">docs</a>)<br/>Sweep page: <a href='https://wandb.ai/cs23m070/cs6910_assignment1/sweeps/uluysoxh' target=\"_blank\">https://wandb.ai/cs23m070/cs6910_assignment1/sweeps/uluysoxh</a>"
            ]
          },
          "metadata": {}
        },
        {
          "output_type": "display_data",
          "data": {
            "text/plain": [
              "<IPython.core.display.HTML object>"
            ],
            "text/html": [
              " View project at <a href='https://wandb.ai/cs23m070/cs6910_assignment1' target=\"_blank\">https://wandb.ai/cs23m070/cs6910_assignment1</a>"
            ]
          },
          "metadata": {}
        },
        {
          "output_type": "display_data",
          "data": {
            "text/plain": [
              "<IPython.core.display.HTML object>"
            ],
            "text/html": [
              " View sweep at <a href='https://wandb.ai/cs23m070/cs6910_assignment1/sweeps/uluysoxh' target=\"_blank\">https://wandb.ai/cs23m070/cs6910_assignment1/sweeps/uluysoxh</a>"
            ]
          },
          "metadata": {}
        },
        {
          "output_type": "display_data",
          "data": {
            "text/plain": [
              "<IPython.core.display.HTML object>"
            ],
            "text/html": [
              " View run at <a href='https://wandb.ai/cs23m070/cs6910_assignment1/runs/3o7rstvr' target=\"_blank\">https://wandb.ai/cs23m070/cs6910_assignment1/runs/3o7rstvr</a>"
            ]
          },
          "metadata": {}
        },
        {
          "output_type": "stream",
          "name": "stdout",
          "text": [
            "Initial Accuracy: 0.1\n",
            "epoch- 1\n",
            "accuracy- 0.7951296296296296\n",
            "loss- 0.5821163295086986\n",
            "validation- 0.7958333333333333\n",
            "epoch- 2\n",
            "accuracy- 0.8397222222222223\n",
            "loss- 0.4758594703181294\n",
            "validation- 0.8336666666666667\n",
            "epoch- 3\n",
            "accuracy- 0.8528333333333333\n",
            "loss- 0.42990074563282876\n",
            "validation- 0.8453333333333334\n",
            "epoch- 4\n",
            "accuracy- 0.8582222222222222\n",
            "loss- 0.4099658820507756\n",
            "validation- 0.853\n",
            "epoch- 5\n",
            "accuracy- 0.8612222222222222\n",
            "loss- 0.40059955139802456\n",
            "validation- 0.8516666666666667\n"
          ]
        },
        {
          "output_type": "display_data",
          "data": {
            "text/plain": [
              "VBox(children=(Label(value='0.001 MB of 0.001 MB uploaded\\r'), FloatProgress(value=1.0, max=1.0)))"
            ],
            "application/vnd.jupyter.widget-view+json": {
              "version_major": 2,
              "version_minor": 0,
              "model_id": "9823d0c145094b0aaa20eb53361c1912"
            }
          },
          "metadata": {}
        },
        {
          "output_type": "display_data",
          "data": {
            "text/plain": [
              "<IPython.core.display.HTML object>"
            ],
            "text/html": [
              "<style>\n",
              "    table.wandb td:nth-child(1) { padding: 0 10px; text-align: left ; width: auto;} td:nth-child(2) {text-align: left ; width: 100%}\n",
              "    .wandb-row { display: flex; flex-direction: row; flex-wrap: wrap; justify-content: flex-start; width: 100% }\n",
              "    .wandb-col { display: flex; flex-direction: column; flex-basis: 100%; flex: 1; padding: 10px; }\n",
              "    </style>\n",
              "<div class=\"wandb-row\"><div class=\"wandb-col\"><h3>Run history:</h3><br/><table class=\"wandb\"><tr><td>accuracy</td><td>▁▆▇██</td></tr><tr><td>epoch</td><td>▁▃▅▆█</td></tr><tr><td>loss</td><td>█▄▂▁▁</td></tr><tr><td>val_accuracy</td><td>▁▆▇██</td></tr><tr><td>validation_loss</td><td>█▄▂▁▁</td></tr></table><br/></div><div class=\"wandb-col\"><h3>Run summary:</h3><br/><table class=\"wandb\"><tr><td>accuracy</td><td>0.86122</td></tr><tr><td>epoch</td><td>5</td></tr><tr><td>loss</td><td>0.4006</td></tr><tr><td>val_accuracy</td><td>0.85167</td></tr><tr><td>validation_loss</td><td>0.43537</td></tr></table><br/></div></div>"
            ]
          },
          "metadata": {}
        },
        {
          "output_type": "display_data",
          "data": {
            "text/plain": [
              "<IPython.core.display.HTML object>"
            ],
            "text/html": [
              " View run <strong style=\"color:#cdcd00\">crimson-sweep-2</strong> at: <a href='https://wandb.ai/cs23m070/cs6910_assignment1/runs/3o7rstvr' target=\"_blank\">https://wandb.ai/cs23m070/cs6910_assignment1/runs/3o7rstvr</a><br/>Synced 5 W&B file(s), 0 media file(s), 0 artifact file(s) and 0 other file(s)"
            ]
          },
          "metadata": {}
        },
        {
          "output_type": "display_data",
          "data": {
            "text/plain": [
              "<IPython.core.display.HTML object>"
            ],
            "text/html": [
              "Find logs at: <code>./wandb/run-20240313_180425-3o7rstvr/logs</code>"
            ]
          },
          "metadata": {}
        },
        {
          "output_type": "stream",
          "name": "stderr",
          "text": [
            "\u001b[34m\u001b[1mwandb\u001b[0m: Agent Starting Run: khjqfyvg with config:\n",
            "\u001b[34m\u001b[1mwandb\u001b[0m: \tactivation: tanh\n",
            "\u001b[34m\u001b[1mwandb\u001b[0m: \tbatch_sz: 16\n",
            "\u001b[34m\u001b[1mwandb\u001b[0m: \tbeta: 0.9\n",
            "\u001b[34m\u001b[1mwandb\u001b[0m: \tbeta1: 0.9\n",
            "\u001b[34m\u001b[1mwandb\u001b[0m: \tbeta2: 0.999\n",
            "\u001b[34m\u001b[1mwandb\u001b[0m: \tdataset: fashion_mnist\n",
            "\u001b[34m\u001b[1mwandb\u001b[0m: \tdecay: 0.05\n",
            "\u001b[34m\u001b[1mwandb\u001b[0m: \tepochs: 10\n",
            "\u001b[34m\u001b[1mwandb\u001b[0m: \tepsilon: 1e-08\n",
            "\u001b[34m\u001b[1mwandb\u001b[0m: \thidden_lyrs: 4\n",
            "\u001b[34m\u001b[1mwandb\u001b[0m: \tinpt_sz: 784\n",
            "\u001b[34m\u001b[1mwandb\u001b[0m: \tlearning_rate: 0.0001\n",
            "\u001b[34m\u001b[1mwandb\u001b[0m: \tloss_function: cross_entropy\n",
            "\u001b[34m\u001b[1mwandb\u001b[0m: \tmomentum: 0.8\n",
            "\u001b[34m\u001b[1mwandb\u001b[0m: \tneurons: 64\n",
            "\u001b[34m\u001b[1mwandb\u001b[0m: \toptimizer: nadam\n",
            "\u001b[34m\u001b[1mwandb\u001b[0m: \toupt_activation: softmax\n",
            "\u001b[34m\u001b[1mwandb\u001b[0m: \toupt_sz: 10\n",
            "\u001b[34m\u001b[1mwandb\u001b[0m: \tweight_initialisation: random\n"
          ]
        },
        {
          "output_type": "display_data",
          "data": {
            "text/plain": [
              "<IPython.core.display.HTML object>"
            ],
            "text/html": [
              "Tracking run with wandb version 0.16.4"
            ]
          },
          "metadata": {}
        },
        {
          "output_type": "display_data",
          "data": {
            "text/plain": [
              "<IPython.core.display.HTML object>"
            ],
            "text/html": [
              "Run data is saved locally in <code>/content/wandb/run-20240313_180508-khjqfyvg</code>"
            ]
          },
          "metadata": {}
        },
        {
          "output_type": "display_data",
          "data": {
            "text/plain": [
              "<IPython.core.display.HTML object>"
            ],
            "text/html": [
              "Syncing run <strong><a href='https://wandb.ai/cs23m070/cs6910_assignment1/runs/khjqfyvg' target=\"_blank\">feasible-sweep-3</a></strong> to <a href='https://wandb.ai/cs23m070/cs6910_assignment1' target=\"_blank\">Weights & Biases</a> (<a href='https://wandb.me/run' target=\"_blank\">docs</a>)<br/>Sweep page: <a href='https://wandb.ai/cs23m070/cs6910_assignment1/sweeps/uluysoxh' target=\"_blank\">https://wandb.ai/cs23m070/cs6910_assignment1/sweeps/uluysoxh</a>"
            ]
          },
          "metadata": {}
        },
        {
          "output_type": "display_data",
          "data": {
            "text/plain": [
              "<IPython.core.display.HTML object>"
            ],
            "text/html": [
              " View project at <a href='https://wandb.ai/cs23m070/cs6910_assignment1' target=\"_blank\">https://wandb.ai/cs23m070/cs6910_assignment1</a>"
            ]
          },
          "metadata": {}
        },
        {
          "output_type": "display_data",
          "data": {
            "text/plain": [
              "<IPython.core.display.HTML object>"
            ],
            "text/html": [
              " View sweep at <a href='https://wandb.ai/cs23m070/cs6910_assignment1/sweeps/uluysoxh' target=\"_blank\">https://wandb.ai/cs23m070/cs6910_assignment1/sweeps/uluysoxh</a>"
            ]
          },
          "metadata": {}
        },
        {
          "output_type": "display_data",
          "data": {
            "text/plain": [
              "<IPython.core.display.HTML object>"
            ],
            "text/html": [
              " View run at <a href='https://wandb.ai/cs23m070/cs6910_assignment1/runs/khjqfyvg' target=\"_blank\">https://wandb.ai/cs23m070/cs6910_assignment1/runs/khjqfyvg</a>"
            ]
          },
          "metadata": {}
        },
        {
          "output_type": "stream",
          "name": "stdout",
          "text": [
            "Initial Accuracy: 0.09841666666666667\n",
            "epoch- 1\n",
            "accuracy- 0.19670370370370371\n",
            "loss- 7.238103919288311\n",
            "validation- 0.19216666666666668\n",
            "epoch- 2\n",
            "accuracy- 0.24783333333333332\n",
            "loss- 5.873724137304654\n",
            "validation- 0.24866666666666667\n",
            "epoch- 3\n",
            "accuracy- 0.2879259259259259\n",
            "loss- 5.052414611565074\n",
            "validation- 0.28833333333333333\n",
            "epoch- 4\n",
            "accuracy- 0.31885185185185183\n",
            "loss- 4.454374925384938\n",
            "validation- 0.31716666666666665\n",
            "epoch- 5\n",
            "accuracy- 0.3436666666666667\n",
            "loss- 3.969551735266272\n",
            "validation- 0.3403333333333333\n",
            "epoch- 6\n",
            "accuracy- 0.3684074074074074\n",
            "loss- 3.5947076870143415\n",
            "validation- 0.3586666666666667\n",
            "epoch- 7\n",
            "accuracy- 0.38701851851851854\n",
            "loss- 3.2963630329840012\n",
            "validation- 0.37783333333333335\n",
            "epoch- 8\n",
            "accuracy- 0.4038703703703704\n",
            "loss- 3.0412511401156093\n",
            "validation- 0.393\n",
            "epoch- 9\n",
            "accuracy- 0.42053703703703704\n",
            "loss- 2.8128944316495854\n",
            "validation- 0.4055\n",
            "epoch- 10\n",
            "accuracy- 0.4357037037037037\n",
            "loss- 2.6196178189015566\n",
            "validation- 0.4181666666666667\n"
          ]
        },
        {
          "output_type": "display_data",
          "data": {
            "text/plain": [
              "VBox(children=(Label(value='0.001 MB of 0.001 MB uploaded\\r'), FloatProgress(value=1.0, max=1.0)))"
            ],
            "application/vnd.jupyter.widget-view+json": {
              "version_major": 2,
              "version_minor": 0,
              "model_id": "5bea8de3b7a84d988d41ba13317882a8"
            }
          },
          "metadata": {}
        },
        {
          "output_type": "display_data",
          "data": {
            "text/plain": [
              "<IPython.core.display.HTML object>"
            ],
            "text/html": [
              "<style>\n",
              "    table.wandb td:nth-child(1) { padding: 0 10px; text-align: left ; width: auto;} td:nth-child(2) {text-align: left ; width: 100%}\n",
              "    .wandb-row { display: flex; flex-direction: row; flex-wrap: wrap; justify-content: flex-start; width: 100% }\n",
              "    .wandb-col { display: flex; flex-direction: column; flex-basis: 100%; flex: 1; padding: 10px; }\n",
              "    </style>\n",
              "<div class=\"wandb-row\"><div class=\"wandb-col\"><h3>Run history:</h3><br/><table class=\"wandb\"><tr><td>accuracy</td><td>▁▂▄▅▅▆▇▇██</td></tr><tr><td>epoch</td><td>▁▂▃▃▄▅▆▆▇█</td></tr><tr><td>loss</td><td>█▆▅▄▃▂▂▂▁▁</td></tr><tr><td>val_accuracy</td><td>▁▃▄▅▆▆▇▇██</td></tr><tr><td>validation_loss</td><td>█▆▅▄▃▃▂▂▁▁</td></tr></table><br/></div><div class=\"wandb-col\"><h3>Run summary:</h3><br/><table class=\"wandb\"><tr><td>accuracy</td><td>0.4357</td></tr><tr><td>epoch</td><td>10</td></tr><tr><td>loss</td><td>2.61962</td></tr><tr><td>val_accuracy</td><td>0.41817</td></tr><tr><td>validation_loss</td><td>2.75394</td></tr></table><br/></div></div>"
            ]
          },
          "metadata": {}
        },
        {
          "output_type": "display_data",
          "data": {
            "text/plain": [
              "<IPython.core.display.HTML object>"
            ],
            "text/html": [
              " View run <strong style=\"color:#cdcd00\">feasible-sweep-3</strong> at: <a href='https://wandb.ai/cs23m070/cs6910_assignment1/runs/khjqfyvg' target=\"_blank\">https://wandb.ai/cs23m070/cs6910_assignment1/runs/khjqfyvg</a><br/>Synced 5 W&B file(s), 0 media file(s), 0 artifact file(s) and 0 other file(s)"
            ]
          },
          "metadata": {}
        },
        {
          "output_type": "display_data",
          "data": {
            "text/plain": [
              "<IPython.core.display.HTML object>"
            ],
            "text/html": [
              "Find logs at: <code>./wandb/run-20240313_180508-khjqfyvg/logs</code>"
            ]
          },
          "metadata": {}
        },
        {
          "output_type": "stream",
          "name": "stderr",
          "text": [
            "\u001b[34m\u001b[1mwandb\u001b[0m: Agent Starting Run: tdb30dwd with config:\n",
            "\u001b[34m\u001b[1mwandb\u001b[0m: \tactivation: sigmoid\n",
            "\u001b[34m\u001b[1mwandb\u001b[0m: \tbatch_sz: 16\n",
            "\u001b[34m\u001b[1mwandb\u001b[0m: \tbeta: 0.9\n",
            "\u001b[34m\u001b[1mwandb\u001b[0m: \tbeta1: 0.9\n",
            "\u001b[34m\u001b[1mwandb\u001b[0m: \tbeta2: 0.999\n",
            "\u001b[34m\u001b[1mwandb\u001b[0m: \tdataset: fashion_mnist\n",
            "\u001b[34m\u001b[1mwandb\u001b[0m: \tdecay: 0\n",
            "\u001b[34m\u001b[1mwandb\u001b[0m: \tepochs: 10\n",
            "\u001b[34m\u001b[1mwandb\u001b[0m: \tepsilon: 1e-10\n",
            "\u001b[34m\u001b[1mwandb\u001b[0m: \thidden_lyrs: 3\n",
            "\u001b[34m\u001b[1mwandb\u001b[0m: \tinpt_sz: 784\n",
            "\u001b[34m\u001b[1mwandb\u001b[0m: \tlearning_rate: 0.0001\n",
            "\u001b[34m\u001b[1mwandb\u001b[0m: \tloss_function: cross_entropy\n",
            "\u001b[34m\u001b[1mwandb\u001b[0m: \tmomentum: 0.9\n",
            "\u001b[34m\u001b[1mwandb\u001b[0m: \tneurons: 128\n",
            "\u001b[34m\u001b[1mwandb\u001b[0m: \toptimizer: rmsprop\n",
            "\u001b[34m\u001b[1mwandb\u001b[0m: \toupt_activation: softmax\n",
            "\u001b[34m\u001b[1mwandb\u001b[0m: \toupt_sz: 10\n",
            "\u001b[34m\u001b[1mwandb\u001b[0m: \tweight_initialisation: xavier\n"
          ]
        },
        {
          "output_type": "display_data",
          "data": {
            "text/plain": [
              "<IPython.core.display.HTML object>"
            ],
            "text/html": [
              "Tracking run with wandb version 0.16.4"
            ]
          },
          "metadata": {}
        },
        {
          "output_type": "display_data",
          "data": {
            "text/plain": [
              "<IPython.core.display.HTML object>"
            ],
            "text/html": [
              "Run data is saved locally in <code>/content/wandb/run-20240313_180734-tdb30dwd</code>"
            ]
          },
          "metadata": {}
        },
        {
          "output_type": "display_data",
          "data": {
            "text/plain": [
              "<IPython.core.display.HTML object>"
            ],
            "text/html": [
              "Syncing run <strong><a href='https://wandb.ai/cs23m070/cs6910_assignment1/runs/tdb30dwd' target=\"_blank\">glorious-sweep-4</a></strong> to <a href='https://wandb.ai/cs23m070/cs6910_assignment1' target=\"_blank\">Weights & Biases</a> (<a href='https://wandb.me/run' target=\"_blank\">docs</a>)<br/>Sweep page: <a href='https://wandb.ai/cs23m070/cs6910_assignment1/sweeps/uluysoxh' target=\"_blank\">https://wandb.ai/cs23m070/cs6910_assignment1/sweeps/uluysoxh</a>"
            ]
          },
          "metadata": {}
        },
        {
          "output_type": "display_data",
          "data": {
            "text/plain": [
              "<IPython.core.display.HTML object>"
            ],
            "text/html": [
              " View project at <a href='https://wandb.ai/cs23m070/cs6910_assignment1' target=\"_blank\">https://wandb.ai/cs23m070/cs6910_assignment1</a>"
            ]
          },
          "metadata": {}
        },
        {
          "output_type": "display_data",
          "data": {
            "text/plain": [
              "<IPython.core.display.HTML object>"
            ],
            "text/html": [
              " View sweep at <a href='https://wandb.ai/cs23m070/cs6910_assignment1/sweeps/uluysoxh' target=\"_blank\">https://wandb.ai/cs23m070/cs6910_assignment1/sweeps/uluysoxh</a>"
            ]
          },
          "metadata": {}
        },
        {
          "output_type": "display_data",
          "data": {
            "text/plain": [
              "<IPython.core.display.HTML object>"
            ],
            "text/html": [
              " View run at <a href='https://wandb.ai/cs23m070/cs6910_assignment1/runs/tdb30dwd' target=\"_blank\">https://wandb.ai/cs23m070/cs6910_assignment1/runs/tdb30dwd</a>"
            ]
          },
          "metadata": {}
        },
        {
          "output_type": "stream",
          "name": "stdout",
          "text": [
            "Initial Accuracy: 0.1\n",
            "epoch- 1\n",
            "accuracy- 0.7058518518518518\n",
            "loss- 0.8547285857310635\n",
            "validation- 0.6973333333333334\n",
            "epoch- 2\n",
            "accuracy- 0.7859444444444444\n",
            "loss- 0.5858974497129379\n",
            "validation- 0.7816666666666666\n",
            "epoch- 3\n",
            "accuracy- 0.818037037037037\n",
            "loss- 0.5074290561839383\n",
            "validation- 0.811\n",
            "epoch- 4\n",
            "accuracy- 0.8324444444444444\n",
            "loss- 0.4681023049400967\n",
            "validation- 0.8253333333333334\n",
            "epoch- 5\n",
            "accuracy- 0.8419074074074074\n",
            "loss- 0.4422989493804415\n",
            "validation- 0.8323333333333334\n",
            "epoch- 6\n",
            "accuracy- 0.8488333333333333\n",
            "loss- 0.42300678802451824\n",
            "validation- 0.8418333333333333\n",
            "epoch- 7\n",
            "accuracy- 0.8546666666666667\n",
            "loss- 0.40770206983117796\n",
            "validation- 0.8456666666666667\n",
            "epoch- 8\n",
            "accuracy- 0.8589814814814815\n",
            "loss- 0.39501675812680337\n",
            "validation- 0.8486666666666667\n",
            "epoch- 9\n",
            "accuracy- 0.8626296296296296\n",
            "loss- 0.3841938803097252\n",
            "validation- 0.851\n",
            "epoch- 10\n",
            "accuracy- 0.8660740740740741\n",
            "loss- 0.3747879409675353\n",
            "validation- 0.8541666666666666\n"
          ]
        },
        {
          "output_type": "display_data",
          "data": {
            "text/plain": [
              "VBox(children=(Label(value='0.001 MB of 0.001 MB uploaded\\r'), FloatProgress(value=1.0, max=1.0)))"
            ],
            "application/vnd.jupyter.widget-view+json": {
              "version_major": 2,
              "version_minor": 0,
              "model_id": "941c274df578460da23de71a2e1df036"
            }
          },
          "metadata": {}
        },
        {
          "output_type": "display_data",
          "data": {
            "text/plain": [
              "<IPython.core.display.HTML object>"
            ],
            "text/html": [
              "<style>\n",
              "    table.wandb td:nth-child(1) { padding: 0 10px; text-align: left ; width: auto;} td:nth-child(2) {text-align: left ; width: 100%}\n",
              "    .wandb-row { display: flex; flex-direction: row; flex-wrap: wrap; justify-content: flex-start; width: 100% }\n",
              "    .wandb-col { display: flex; flex-direction: column; flex-basis: 100%; flex: 1; padding: 10px; }\n",
              "    </style>\n",
              "<div class=\"wandb-row\"><div class=\"wandb-col\"><h3>Run history:</h3><br/><table class=\"wandb\"><tr><td>accuracy</td><td>▁▄▆▇▇▇████</td></tr><tr><td>epoch</td><td>▁▂▃▃▄▅▆▆▇█</td></tr><tr><td>loss</td><td>█▄▃▂▂▂▁▁▁▁</td></tr><tr><td>val_accuracy</td><td>▁▅▆▇▇▇████</td></tr><tr><td>validation_loss</td><td>█▄▃▂▂▂▁▁▁▁</td></tr></table><br/></div><div class=\"wandb-col\"><h3>Run summary:</h3><br/><table class=\"wandb\"><tr><td>accuracy</td><td>0.86607</td></tr><tr><td>epoch</td><td>10</td></tr><tr><td>loss</td><td>0.37479</td></tr><tr><td>val_accuracy</td><td>0.85417</td></tr><tr><td>validation_loss</td><td>0.40621</td></tr></table><br/></div></div>"
            ]
          },
          "metadata": {}
        },
        {
          "output_type": "display_data",
          "data": {
            "text/plain": [
              "<IPython.core.display.HTML object>"
            ],
            "text/html": [
              " View run <strong style=\"color:#cdcd00\">glorious-sweep-4</strong> at: <a href='https://wandb.ai/cs23m070/cs6910_assignment1/runs/tdb30dwd' target=\"_blank\">https://wandb.ai/cs23m070/cs6910_assignment1/runs/tdb30dwd</a><br/>Synced 5 W&B file(s), 0 media file(s), 0 artifact file(s) and 0 other file(s)"
            ]
          },
          "metadata": {}
        },
        {
          "output_type": "display_data",
          "data": {
            "text/plain": [
              "<IPython.core.display.HTML object>"
            ],
            "text/html": [
              "Find logs at: <code>./wandb/run-20240313_180734-tdb30dwd/logs</code>"
            ]
          },
          "metadata": {}
        },
        {
          "output_type": "stream",
          "name": "stderr",
          "text": [
            "\u001b[34m\u001b[1mwandb\u001b[0m: Agent Starting Run: s4kr9hbr with config:\n",
            "\u001b[34m\u001b[1mwandb\u001b[0m: \tactivation: sigmoid\n",
            "\u001b[34m\u001b[1mwandb\u001b[0m: \tbatch_sz: 16\n",
            "\u001b[34m\u001b[1mwandb\u001b[0m: \tbeta: 0.9\n",
            "\u001b[34m\u001b[1mwandb\u001b[0m: \tbeta1: 0.9\n",
            "\u001b[34m\u001b[1mwandb\u001b[0m: \tbeta2: 0.999\n",
            "\u001b[34m\u001b[1mwandb\u001b[0m: \tdataset: fashion_mnist\n",
            "\u001b[34m\u001b[1mwandb\u001b[0m: \tdecay: 0.05\n",
            "\u001b[34m\u001b[1mwandb\u001b[0m: \tepochs: 5\n",
            "\u001b[34m\u001b[1mwandb\u001b[0m: \tepsilon: 1e-10\n",
            "\u001b[34m\u001b[1mwandb\u001b[0m: \thidden_lyrs: 3\n",
            "\u001b[34m\u001b[1mwandb\u001b[0m: \tinpt_sz: 784\n",
            "\u001b[34m\u001b[1mwandb\u001b[0m: \tlearning_rate: 0.01\n",
            "\u001b[34m\u001b[1mwandb\u001b[0m: \tloss_function: cross_entropy\n",
            "\u001b[34m\u001b[1mwandb\u001b[0m: \tmomentum: 0.9\n",
            "\u001b[34m\u001b[1mwandb\u001b[0m: \tneurons: 128\n",
            "\u001b[34m\u001b[1mwandb\u001b[0m: \toptimizer: nadam\n",
            "\u001b[34m\u001b[1mwandb\u001b[0m: \toupt_activation: softmax\n",
            "\u001b[34m\u001b[1mwandb\u001b[0m: \toupt_sz: 10\n",
            "\u001b[34m\u001b[1mwandb\u001b[0m: \tweight_initialisation: random\n"
          ]
        },
        {
          "output_type": "display_data",
          "data": {
            "text/plain": [
              "<IPython.core.display.HTML object>"
            ],
            "text/html": [
              "Tracking run with wandb version 0.16.4"
            ]
          },
          "metadata": {}
        },
        {
          "output_type": "display_data",
          "data": {
            "text/plain": [
              "<IPython.core.display.HTML object>"
            ],
            "text/html": [
              "Run data is saved locally in <code>/content/wandb/run-20240313_181017-s4kr9hbr</code>"
            ]
          },
          "metadata": {}
        },
        {
          "output_type": "display_data",
          "data": {
            "text/plain": [
              "<IPython.core.display.HTML object>"
            ],
            "text/html": [
              "Syncing run <strong><a href='https://wandb.ai/cs23m070/cs6910_assignment1/runs/s4kr9hbr' target=\"_blank\">sandy-sweep-5</a></strong> to <a href='https://wandb.ai/cs23m070/cs6910_assignment1' target=\"_blank\">Weights & Biases</a> (<a href='https://wandb.me/run' target=\"_blank\">docs</a>)<br/>Sweep page: <a href='https://wandb.ai/cs23m070/cs6910_assignment1/sweeps/uluysoxh' target=\"_blank\">https://wandb.ai/cs23m070/cs6910_assignment1/sweeps/uluysoxh</a>"
            ]
          },
          "metadata": {}
        },
        {
          "output_type": "display_data",
          "data": {
            "text/plain": [
              "<IPython.core.display.HTML object>"
            ],
            "text/html": [
              " View project at <a href='https://wandb.ai/cs23m070/cs6910_assignment1' target=\"_blank\">https://wandb.ai/cs23m070/cs6910_assignment1</a>"
            ]
          },
          "metadata": {}
        },
        {
          "output_type": "display_data",
          "data": {
            "text/plain": [
              "<IPython.core.display.HTML object>"
            ],
            "text/html": [
              " View sweep at <a href='https://wandb.ai/cs23m070/cs6910_assignment1/sweeps/uluysoxh' target=\"_blank\">https://wandb.ai/cs23m070/cs6910_assignment1/sweeps/uluysoxh</a>"
            ]
          },
          "metadata": {}
        },
        {
          "output_type": "display_data",
          "data": {
            "text/plain": [
              "<IPython.core.display.HTML object>"
            ],
            "text/html": [
              " View run at <a href='https://wandb.ai/cs23m070/cs6910_assignment1/runs/s4kr9hbr' target=\"_blank\">https://wandb.ai/cs23m070/cs6910_assignment1/runs/s4kr9hbr</a>"
            ]
          },
          "metadata": {}
        },
        {
          "output_type": "stream",
          "name": "stdout",
          "text": [
            "Initial Accuracy: 0.10733333333333334\n",
            "epoch- 1\n",
            "accuracy- 0.8441296296296297\n",
            "loss- 0.4308579613668196\n",
            "validation- 0.8396666666666667\n",
            "epoch- 2\n",
            "accuracy- 0.8516666666666667\n",
            "loss- 0.4167446680154373\n",
            "validation- 0.8445\n",
            "epoch- 3\n",
            "accuracy- 0.8514444444444444\n",
            "loss- 0.41844584236063254\n",
            "validation- 0.8443333333333334\n",
            "epoch- 4\n",
            "accuracy- 0.8502037037037037\n",
            "loss- 0.42314239636360895\n",
            "validation- 0.8438333333333333\n",
            "epoch- 5\n",
            "accuracy- 0.8493888888888889\n",
            "loss- 0.4246496298474896\n",
            "validation- 0.8423333333333334\n"
          ]
        },
        {
          "output_type": "display_data",
          "data": {
            "text/plain": [
              "VBox(children=(Label(value='0.001 MB of 0.001 MB uploaded\\r'), FloatProgress(value=1.0, max=1.0)))"
            ],
            "application/vnd.jupyter.widget-view+json": {
              "version_major": 2,
              "version_minor": 0,
              "model_id": "780cdb8759ab47ca815a7324029ea9cb"
            }
          },
          "metadata": {}
        },
        {
          "output_type": "display_data",
          "data": {
            "text/plain": [
              "<IPython.core.display.HTML object>"
            ],
            "text/html": [
              "<style>\n",
              "    table.wandb td:nth-child(1) { padding: 0 10px; text-align: left ; width: auto;} td:nth-child(2) {text-align: left ; width: 100%}\n",
              "    .wandb-row { display: flex; flex-direction: row; flex-wrap: wrap; justify-content: flex-start; width: 100% }\n",
              "    .wandb-col { display: flex; flex-direction: column; flex-basis: 100%; flex: 1; padding: 10px; }\n",
              "    </style>\n",
              "<div class=\"wandb-row\"><div class=\"wandb-col\"><h3>Run history:</h3><br/><table class=\"wandb\"><tr><td>accuracy</td><td>▁██▇▆</td></tr><tr><td>epoch</td><td>▁▃▅▆█</td></tr><tr><td>loss</td><td>█▁▂▄▅</td></tr><tr><td>val_accuracy</td><td>▁██▇▅</td></tr><tr><td>validation_loss</td><td>█▁▂▄▅</td></tr></table><br/></div><div class=\"wandb-col\"><h3>Run summary:</h3><br/><table class=\"wandb\"><tr><td>accuracy</td><td>0.84939</td></tr><tr><td>epoch</td><td>5</td></tr><tr><td>loss</td><td>0.42465</td></tr><tr><td>val_accuracy</td><td>0.84233</td></tr><tr><td>validation_loss</td><td>0.44513</td></tr></table><br/></div></div>"
            ]
          },
          "metadata": {}
        },
        {
          "output_type": "display_data",
          "data": {
            "text/plain": [
              "<IPython.core.display.HTML object>"
            ],
            "text/html": [
              " View run <strong style=\"color:#cdcd00\">sandy-sweep-5</strong> at: <a href='https://wandb.ai/cs23m070/cs6910_assignment1/runs/s4kr9hbr' target=\"_blank\">https://wandb.ai/cs23m070/cs6910_assignment1/runs/s4kr9hbr</a><br/>Synced 5 W&B file(s), 0 media file(s), 0 artifact file(s) and 0 other file(s)"
            ]
          },
          "metadata": {}
        },
        {
          "output_type": "display_data",
          "data": {
            "text/plain": [
              "<IPython.core.display.HTML object>"
            ],
            "text/html": [
              "Find logs at: <code>./wandb/run-20240313_181017-s4kr9hbr/logs</code>"
            ]
          },
          "metadata": {}
        }
      ]
    },
    {
      "cell_type": "code",
      "source": [],
      "metadata": {
        "id": "PkzUZVy5-dHX"
      },
      "execution_count": null,
      "outputs": []
    }
  ]
}